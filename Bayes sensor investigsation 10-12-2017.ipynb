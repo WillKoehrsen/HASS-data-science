{
 "cells": [
  {
   "cell_type": "markdown",
   "metadata": {},
   "source": [
    "I wish to understand how the bayesian_sensor operates, lets do an investigation\n",
    "\n",
    "### Code refs\n",
    "* https://github.com/home-assistant/home-assistant/blob/dev/homeassistant/components/binary_sensor/bayesian.py code\n",
    "* https://home-assistant.io/components/binary_sensor.bayesian/ docs\n",
    "* https://github.com/jlmcgehee21/smart_hass#binary-bayes-introspection HA sensor author script for working with bayes sensor  \n",
    "* https://github.com/home-assistant/home-assistant/tree/a1f238816b6130aee2ac88fe9da54ba8f65225f3 Very early home-assistant commit to better understand HA architechture\n",
    "\n",
    "\n",
    "### Bayes intro\n",
    "* https://github.com/rlabbe/Kalman-and-Bayesian-Filters-in-Python/blob/master/02-Discrete-Bayes.ipynb Recommended reading\n",
    "* https://en.wikipedia.org/wiki/Bayes%27_theorem wikipedia on Bayes\n",
    "\n",
    "$$\\mathtt{posterior} = \\frac{\\mathtt{likelihood} \\times \\mathtt{prior}}{\\mathtt{normalization}}$$ \n"
   ]
  },
  {
   "cell_type": "markdown",
   "metadata": {},
   "source": [
    "Just create state data, put in a pandas df, then calc posterior for each time. "
   ]
  },
  {
   "cell_type": "code",
   "execution_count": 8,
   "metadata": {},
   "outputs": [],
   "source": [
    "from bayes_sensor import *\n",
    "from config import VALID_CONFIG\n",
    "from pprint import pprint"
   ]
  },
  {
   "cell_type": "markdown",
   "metadata": {},
   "source": [
    "A valid config from the docs "
   ]
  },
  {
   "cell_type": "code",
   "execution_count": 2,
   "metadata": {},
   "outputs": [
    {
     "data": {
      "text/plain": [
       "{'device_class': 'binary_device',\n",
       " 'name': 'in_bed',\n",
       " 'observations': [{'entity_id': 'sensor.bedroom_motion',\n",
       "   'platform': 'state',\n",
       "   'prob_given_true': 0.5,\n",
       "   'to_state': 'on'},\n",
       "  {'entity_id': 'sun.sun',\n",
       "   'platform': 'state',\n",
       "   'prob_given_true': 0.7,\n",
       "   'to_state': 'below_horizon'}],\n",
       " 'prior': 0.25,\n",
       " 'probability_threshold': 0.95}"
      ]
     },
     "execution_count": 2,
     "metadata": {},
     "output_type": "execute_result"
    }
   ],
   "source": [
    "VALID_CONFIG"
   ]
  },
  {
   "cell_type": "markdown",
   "metadata": {},
   "source": [
    "Create a bayesian sensor to explore properties"
   ]
  },
  {
   "cell_type": "code",
   "execution_count": 3,
   "metadata": {},
   "outputs": [],
   "source": [
    "b_sensor = setup_platform(VALID_CONFIG)"
   ]
  },
  {
   "cell_type": "markdown",
   "metadata": {},
   "source": [
    "updates are handeled through async_threshold_sensor_state_listener()"
   ]
  },
  {
   "cell_type": "code",
   "execution_count": 9,
   "metadata": {},
   "outputs": [
    {
     "name": "stdout",
     "output_type": "stream",
     "text": [
      "{'_deviation': False,\n",
      " '_device_class': 'binary_device',\n",
      " '_name': 'in_bed',\n",
      " '_observations': [{'entity_id': 'sensor.bedroom_motion',\n",
      "                    'id': 0,\n",
      "                    'platform': 'state',\n",
      "                    'prob_given_true': 0.5,\n",
      "                    'to_state': 'on'},\n",
      "                   {'entity_id': 'sun.sun',\n",
      "                    'id': 1,\n",
      "                    'platform': 'state',\n",
      "                    'prob_given_true': 0.7,\n",
      "                    'to_state': 'below_horizon'}],\n",
      " '_probability_threshold': 0.95,\n",
      " 'current_obs': OrderedDict(),\n",
      " 'entity_obs': {'sensor.bedroom_motion': [{'entity_id': 'sensor.bedroom_motion',\n",
      "                                           'id': 0,\n",
      "                                           'platform': 'state',\n",
      "                                           'prob_given_true': 0.5,\n",
      "                                           'to_state': 'on'},\n",
      "                                          {'entity_id': 'sun.sun',\n",
      "                                           'id': 1,\n",
      "                                           'platform': 'state',\n",
      "                                           'prob_given_true': 0.7,\n",
      "                                           'to_state': 'below_horizon'}],\n",
      "                'sun.sun': [{'entity_id': 'sensor.bedroom_motion',\n",
      "                             'id': 0,\n",
      "                             'platform': 'state',\n",
      "                             'prob_given_true': 0.5,\n",
      "                             'to_state': 'on'},\n",
      "                            {'entity_id': 'sun.sun',\n",
      "                             'id': 1,\n",
      "                             'platform': 'state',\n",
      "                             'prob_given_true': 0.7,\n",
      "                             'to_state': 'below_horizon'}]},\n",
      " 'prior': 0.25,\n",
      " 'probability': 0.25,\n",
      " 'watchers': {'numeric_state': <bound method BayesianBinarySensor._process_numeric_state of <bayes_sensor.BayesianBinarySensor object at 0x1036f19b0>>,\n",
      "              'state': <bound method BayesianBinarySensor._process_state of <bayes_sensor.BayesianBinarySensor object at 0x1036f19b0>>}}\n"
     ]
    }
   ],
   "source": [
    "pprint(vars(b_sensor))"
   ]
  },
  {
   "cell_type": "code",
   "execution_count": 4,
   "metadata": {},
   "outputs": [
    {
     "data": {
      "text/plain": [
       "{'observations': [], 'probability': 0.25, 'probability_threshold': 0.95}"
      ]
     },
     "execution_count": 4,
     "metadata": {},
     "output_type": "execute_result"
    }
   ],
   "source": [
    "b_sensor.device_state_attributes"
   ]
  },
  {
   "cell_type": "code",
   "execution_count": 5,
   "metadata": {},
   "outputs": [
    {
     "data": {
      "text/plain": [
       "'off'"
      ]
     },
     "execution_count": 5,
     "metadata": {},
     "output_type": "execute_result"
    }
   ],
   "source": [
    "b_sensor.state"
   ]
  },
  {
   "cell_type": "code",
   "execution_count": null,
   "metadata": {},
   "outputs": [],
   "source": []
  }
 ],
 "metadata": {
  "kernelspec": {
   "display_name": "Python 3",
   "language": "python",
   "name": "python3"
  },
  "language_info": {
   "codemirror_mode": {
    "name": "ipython",
    "version": 3
   },
   "file_extension": ".py",
   "mimetype": "text/x-python",
   "name": "python",
   "nbconvert_exporter": "python",
   "pygments_lexer": "ipython3",
   "version": "3.6.3"
  }
 },
 "nbformat": 4,
 "nbformat_minor": 2
}
