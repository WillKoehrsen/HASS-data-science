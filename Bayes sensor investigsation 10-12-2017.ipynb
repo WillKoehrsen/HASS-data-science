{
 "cells": [
  {
   "cell_type": "code",
   "execution_count": 1,
   "metadata": {},
   "outputs": [],
   "source": [
    "from bayes_sensor import *\n",
    "from config import VALID_CONFIG\n",
    "from pprint import pprint"
   ]
  },
  {
   "cell_type": "markdown",
   "metadata": {},
   "source": [
    "I wish to understand how the bayesian_sensor operates, lets do an investigation\n",
    "\n",
    "### Code refs\n",
    "* https://github.com/home-assistant/home-assistant/blob/dev/homeassistant/components/binary_sensor/bayesian.py code\n",
    "* https://home-assistant.io/components/binary_sensor.bayesian/ docs\n",
    "* https://github.com/jlmcgehee21/smart_hass#binary-bayes-introspection HA sensor author script for working with bayes sensor  \n",
    "* https://github.com/home-assistant/home-assistant/tree/a1f238816b6130aee2ac88fe9da54ba8f65225f3 Very early home-assistant commit to better understand HA architechture\n",
    "\n",
    "\n",
    "### Bayes\n",
    "* https://github.com/rlabbe/Kalman-and-Bayesian-Filters-in-Python/blob/master/02-Discrete-Bayes.ipynb Recommended reading\n",
    "* https://en.wikipedia.org/wiki/Bayes%27_theorem wikipedia on Bayes theorem\n",
    "* https://en.wikipedia.org/wiki/Bayesian_inference wikipedia on Bayesian inference\n",
    "\n",
    "So you've heard about the [bayesian sensor](https://home-assistant.io/components/binary_sensor.bayesian/) in home-assistant, and would like to know what its good for and how to use it. Lets consider a situation where you would like a boolean sensor which indicates when some unmeasureable event is takign place, for example cooking in the kitchen (henceforth event **A**). We call this sensor **sensor.cooking** and we are happy that it is a binary sensor where if someone is cooking the state is ON, otherwise the state is OFF. We are happy that this sensor should be on if the probability that someone is cooking is greater than 50% (the threshold). \n",
    "\n",
    "I estimate that I spend roughly 10% of my day cooking, so if your were to enter the kitchen at a random time there is a 10% chance you would find me cooking, that is the probability **P(A)** = 0.1. This probability is known as the prior (probability). Lets say that I have a sensor (perhaps a threshold temperature or motion sensor) in the kitchen that I believe is 30% likely to be ON when I am cooking. I call the ON state of this sensor event **B** and can now state **P(B|A)** = 0.3 (i.e the probability that this sensor is ON given that I am cooking is 30%). It turns out that I now have enough information to calculate **P(A|B)**, the probability that I am cooking (event **A**) given that the sensor is ON (event **B**). The probability I require for **sensor.cooking** is **P(A|B)** and it is calculated using the Bayes forumla, which can be expressed in words as **the posterior (probability) is proportional to the prior times the likelihood**. Using our algebraic notation this statement is identical to $$P(A|B) \\propto P(A) \\cdot P(B|A)$$\n",
    "\n",
    "The [full expression](https://en.wikipedia.org/wiki/Bayes%27_theorem) is:\n",
    "\n",
    "$$P(A\\mid B) = \\frac{P(B\\mid A)\\,P(A)}{ P(B\\mid A) P(A) + P(B\\mid \\neg A) P(\\neg A)}\\cdot$$"
   ]
  },
  {
   "cell_type": "code",
   "execution_count": null,
   "metadata": {},
   "outputs": [],
   "source": []
  },
  {
   "cell_type": "markdown",
   "metadata": {},
   "source": [
    "If we assume a perfect observation, then prob_given_false = 1 - prob_given_true such that prob_given_false + prob_given_true = 1. However real observations may be noisy, in which case prob_given_false + prob_given_true != 1. Therefore the bayesian sensor allows us to set both prob_given_true and prob_given_false."
   ]
  },
  {
   "cell_type": "markdown",
   "metadata": {},
   "source": [
    "The function update_probability() is used to calculate the (posterior) probability."
   ]
  },
  {
   "cell_type": "code",
   "execution_count": 2,
   "metadata": {},
   "outputs": [],
   "source": [
    "def update_probability(prior, prob_true, prob_false):\n",
    "    \"\"\"Update probability using Bayes' rule.\"\"\"\n",
    "    numerator = prob_true * prior\n",
    "    denominator = numerator + prob_false * (1 - prior)\n",
    "\n",
    "    probability = numerator / denominator\n",
    "    return probability\n",
    "\n",
    "DEFAULT_PROBABILITY_THRESHOLD = 0.5"
   ]
  },
  {
   "cell_type": "markdown",
   "metadata": {},
   "source": [
    "A valid config from the docs "
   ]
  },
  {
   "cell_type": "markdown",
   "metadata": {},
   "source": [
    "Lets calculate the (posterior) probability for a bayesian sensor with a prior = 0.5 given a single sensor reading that has prob_given_true = 0.5."
   ]
  },
  {
   "cell_type": "code",
   "execution_count": 3,
   "metadata": {},
   "outputs": [
    {
     "name": "stdout",
     "output_type": "stream",
     "text": [
      "Given a prior 0.3 and prob_given_true of 0.5 for an accurate sensor the (posterior) probability is 0.3 and the sensor is OFF\n"
     ]
    }
   ],
   "source": [
    "prior = 0.3\n",
    "prob_given_true = 0.5\n",
    "prob_given_false = 1 - prob_given_true\n",
    "probability = update_probability(prior, prob_given_true, prob_given_false)\n",
    "probability = round(probability, 2)\n",
    "state = 'ON' if probability > DEFAULT_PROBABILITY_THRESHOLD else 'OFF'\n",
    "print(\"Given a prior {} and prob_given_true of {} for an accurate sensor the (posterior) probability is {} and the sensor is {}\".format(prior, prob_given_true, probability, state))"
   ]
  },
  {
   "cell_type": "markdown",
   "metadata": {},
   "source": [
    "Since this sensor only has a 50:50 chance of indicating the true state of the bayesian sensor, our prior == (posterior) probability and we have no reason to change our belief in the state of the bayesian_sensor.\n",
    "\n",
    "Now lets say this sensor is a pretty good indicator such that prob_given_true = 0.75."
   ]
  },
  {
   "cell_type": "code",
   "execution_count": 4,
   "metadata": {},
   "outputs": [
    {
     "name": "stdout",
     "output_type": "stream",
     "text": [
      "Given a prior 0.3 and prob_given_true of 0.75 for an accurate sensor the (posterior) probability is 0.56 and the sensor is ON\n"
     ]
    }
   ],
   "source": [
    "prob_given_true = 0.75\n",
    "prob_given_false = 1 - prob_given_true\n",
    "probability = update_probability(prior, prob_given_true, prob_given_false)\n",
    "probability = round(probability, 2)\n",
    "state = 'ON' if probability > DEFAULT_PROBABILITY_THRESHOLD else 'OFF'\n",
    "print(\"Given a prior {} and prob_given_true of {} for an accurate sensor the (posterior) probability is {} and the sensor is {}\".format(prior, prob_given_true, probability, state))"
   ]
  },
  {
   "cell_type": "markdown",
   "metadata": {},
   "source": [
    "Hmm more study required.."
   ]
  },
  {
   "cell_type": "markdown",
   "metadata": {},
   "source": [
    "## Bayesian sensor\n",
    "Lets now import the actual sensor used in HA."
   ]
  },
  {
   "cell_type": "code",
   "execution_count": 6,
   "metadata": {},
   "outputs": [
    {
     "data": {
      "text/plain": [
       "{'device_class': 'binary_device',\n",
       " 'name': 'in_bed',\n",
       " 'observations': [{'entity_id': 'sensor.bedroom_motion',\n",
       "   'platform': 'state',\n",
       "   'prob_given_true': 0.5,\n",
       "   'to_state': 'on'},\n",
       "  {'entity_id': 'sun.sun',\n",
       "   'platform': 'state',\n",
       "   'prob_given_true': 0.7,\n",
       "   'to_state': 'below_horizon'}],\n",
       " 'prior': 0.25,\n",
       " 'probability_threshold': 0.95}"
      ]
     },
     "execution_count": 6,
     "metadata": {},
     "output_type": "execute_result"
    }
   ],
   "source": [
    "VALID_CONFIG"
   ]
  },
  {
   "cell_type": "markdown",
   "metadata": {},
   "source": [
    "Create a bayesian sensor to explore properties"
   ]
  },
  {
   "cell_type": "code",
   "execution_count": 7,
   "metadata": {},
   "outputs": [],
   "source": [
    "b_sensor = setup_platform(VALID_CONFIG)"
   ]
  },
  {
   "cell_type": "markdown",
   "metadata": {},
   "source": [
    "updates are handeled through async_threshold_sensor_state_listener()"
   ]
  },
  {
   "cell_type": "code",
   "execution_count": 8,
   "metadata": {},
   "outputs": [
    {
     "name": "stdout",
     "output_type": "stream",
     "text": [
      "{'_deviation': False,\n",
      " '_device_class': 'binary_device',\n",
      " '_name': 'in_bed',\n",
      " '_observations': [{'entity_id': 'sensor.bedroom_motion',\n",
      "                    'id': 0,\n",
      "                    'platform': 'state',\n",
      "                    'prob_given_true': 0.5,\n",
      "                    'to_state': 'on'},\n",
      "                   {'entity_id': 'sun.sun',\n",
      "                    'id': 1,\n",
      "                    'platform': 'state',\n",
      "                    'prob_given_true': 0.7,\n",
      "                    'to_state': 'below_horizon'}],\n",
      " '_probability_threshold': 0.95,\n",
      " 'current_obs': OrderedDict(),\n",
      " 'entity_obs': {'sensor.bedroom_motion': [{'entity_id': 'sensor.bedroom_motion',\n",
      "                                           'id': 0,\n",
      "                                           'platform': 'state',\n",
      "                                           'prob_given_true': 0.5,\n",
      "                                           'to_state': 'on'},\n",
      "                                          {'entity_id': 'sun.sun',\n",
      "                                           'id': 1,\n",
      "                                           'platform': 'state',\n",
      "                                           'prob_given_true': 0.7,\n",
      "                                           'to_state': 'below_horizon'}],\n",
      "                'sun.sun': [{'entity_id': 'sensor.bedroom_motion',\n",
      "                             'id': 0,\n",
      "                             'platform': 'state',\n",
      "                             'prob_given_true': 0.5,\n",
      "                             'to_state': 'on'},\n",
      "                            {'entity_id': 'sun.sun',\n",
      "                             'id': 1,\n",
      "                             'platform': 'state',\n",
      "                             'prob_given_true': 0.7,\n",
      "                             'to_state': 'below_horizon'}]},\n",
      " 'prior': 0.25,\n",
      " 'probability': 0.25,\n",
      " 'watchers': {'numeric_state': <bound method BayesianBinarySensor._process_numeric_state of <bayes_sensor.BayesianBinarySensor object at 0x1089f15f8>>,\n",
      "              'state': <bound method BayesianBinarySensor._process_state of <bayes_sensor.BayesianBinarySensor object at 0x1089f15f8>>}}\n"
     ]
    }
   ],
   "source": [
    "pprint(vars(b_sensor))"
   ]
  },
  {
   "cell_type": "code",
   "execution_count": 9,
   "metadata": {},
   "outputs": [
    {
     "data": {
      "text/plain": [
       "{'observations': [], 'probability': 0.25, 'probability_threshold': 0.95}"
      ]
     },
     "execution_count": 9,
     "metadata": {},
     "output_type": "execute_result"
    }
   ],
   "source": [
    "b_sensor.device_state_attributes"
   ]
  },
  {
   "cell_type": "code",
   "execution_count": 10,
   "metadata": {},
   "outputs": [
    {
     "data": {
      "text/plain": [
       "'off'"
      ]
     },
     "execution_count": 10,
     "metadata": {},
     "output_type": "execute_result"
    }
   ],
   "source": [
    "b_sensor.state"
   ]
  },
  {
   "cell_type": "code",
   "execution_count": 11,
   "metadata": {},
   "outputs": [
    {
     "data": {
      "text/plain": [
       "dict_keys(['sensor.bedroom_motion', 'sun.sun'])"
      ]
     },
     "execution_count": 11,
     "metadata": {},
     "output_type": "execute_result"
    }
   ],
   "source": [
    "b_sensor.entity_obs.keys()"
   ]
  },
  {
   "cell_type": "code",
   "execution_count": 12,
   "metadata": {},
   "outputs": [
    {
     "data": {
      "text/plain": [
       "odict_values([])"
      ]
     },
     "execution_count": 12,
     "metadata": {},
     "output_type": "execute_result"
    }
   ],
   "source": [
    "b_sensor.current_obs.values()"
   ]
  },
  {
   "cell_type": "code",
   "execution_count": null,
   "metadata": {},
   "outputs": [],
   "source": []
  }
 ],
 "metadata": {
  "kernelspec": {
   "display_name": "Python 3",
   "language": "python",
   "name": "python3"
  },
  "language_info": {
   "codemirror_mode": {
    "name": "ipython",
    "version": 3
   },
   "file_extension": ".py",
   "mimetype": "text/x-python",
   "name": "python",
   "nbconvert_exporter": "python",
   "pygments_lexer": "ipython3",
   "version": "3.6.3"
  }
 },
 "nbformat": 4,
 "nbformat_minor": 2
}
