{
 "cells": [
  {
   "cell_type": "code",
   "execution_count": 1,
   "metadata": {},
   "outputs": [],
   "source": [
    "from bayes_sensor import *\n",
    "from config import VALID_CONFIG\n",
    "from pprint import pprint\n",
    "DEFAULT_PROBABILITY_THRESHOLD = 0.5"
   ]
  },
  {
   "cell_type": "markdown",
   "metadata": {},
   "source": [
    "I wish to describe how the bayesian_sensor operates, lets do an investigation\n",
    "\n",
    "### Code references\n",
    "* https://github.com/home-assistant/home-assistant/blob/dev/homeassistant/components/binary_sensor/bayesian.py code\n",
    "* https://home-assistant.io/components/binary_sensor.bayesian/ docs\n",
    "* https://github.com/jlmcgehee21/smart_hass#binary-bayes-introspection HA sensor author script for working with bayes sensor  \n",
    "* https://github.com/home-assistant/home-assistant/tree/a1f238816b6130aee2ac88fe9da54ba8f65225f3 Very early home-assistant commit to better understand HA architechture\n",
    "\n",
    "\n",
    "### Bayes references\n",
    "* https://github.com/rlabbe/Kalman-and-Bayesian-Filters-in-Python/blob/master/02-Discrete-Bayes.ipynb Recommended reading\n",
    "* https://en.wikipedia.org/wiki/Bayes%27_theorem wikipedia on Bayes theorem\n",
    "* https://en.wikipedia.org/wiki/Bayesian_inference wikipedia on Bayesian inference\n",
    "\n",
    "### The Bayesian sensor\n",
    "\n",
    "So you've heard about the [bayesian sensor](https://home-assistant.io/components/binary_sensor.bayesian/) in home-assistant, and would like to know what it's good for and how to use it. The bayes sensor should be used when you want a sensor which indicates the state of a system that you cannot directly measure. For example lets say you want a sensor that indicates whether or not I am cooking in the kitchen. We will call the sensor **bayesian_sensor.cooking** and when I am cooking the state is ON, otherwise the state is OFF. To be consistent with the wikipedia article on [Bayes theorem](https://en.wikipedia.org/wiki/Bayes%27_theorem) we will refer to the state ON as 'event $A$' and the state OFF as 'event $\\neg A$' where the $\\neg$ symbol indicates 'not' $A$. I estimate that I spend roughly 10% of my day cooking, so if your were to enter the kitchen at a random time the probability ($P$) that you would find me cooking (event $A$) is $P(A)$ = 0.1. Clearly I can then state that 90% of the time I will *not* be cooking, and $P(\\neg A) = 1 - P(A)$ = 0.9. We can represent this probability distribution graphically:"
   ]
  },
  {
   "cell_type": "code",
   "execution_count": null,
   "metadata": {},
   "outputs": [],
   "source": []
  },
  {
   "cell_type": "markdown",
   "metadata": {},
   "source": [
    "Lets say that I instantiate **bayesian_sensor.cooking** at a random time with no knowledge about whether or not I am cooking at the time. My initial belief about the likelihood that I am cooking ($P(A)$) is reffered to as the *prior*, as it is my belief prior to any measurement. We have previously established that $P(A)$ = 0.1. Lets say that I have built a DIY sensor for detecting cooking smells and through experimentation I have concluded that it registers ON 70% of the time when I am cooking. I call the ON state of this DIY sensor 'event $B$' and can now state the probability that this sensor is ON *given* that I am cooking is 70%. In algebraic notation, *given* is represented by the $|$ symbol and I can now state $P(A|B)$ = 0.7, which is the conditional probability that I am cooking (event $A$) *given* that the DIY sensor is ON (event $B$). However this DIY sensor is not perfect and registers a false-positive 10% of the time. We capture this false-positive rate in the statement $P(B| \\neg A)$ = 0.1. It turns out that we now have enough information to calculate the propbability that we really care about, the probability that I am cooking given that I have a reading from the DIY sensor, $P(A|B)$. This probability is referred to as the *posterior* probability, as is is calculated after (or posterior to) a measurement. The posterior is calculated using the Bayes forumla, where in words:\n",
    "\n",
    "$$\\mathtt{posterior} = \\frac{\\mathtt{likelihood} \\times \\mathtt{prior}}{\\mathtt{normalisation}}$$ \n",
    "\n",
    "The [full algebraic expression](https://en.wikipedia.org/wiki/Bayes%27_theorem) is:\n",
    "\n",
    "$$P(A|B) = \\frac{P(B|A)\\,P(A)}{ P(B|A) P(A) + P(B| \\neg A) P(\\neg A)}\\cdot$$\n",
    "\n",
    "Bayes formula is implemented in the Home-assistant [bayesian_sensor](https://home-assistant.io/components/binary_sensor.bayesian/) in the function update_probability():"
   ]
  },
  {
   "cell_type": "code",
   "execution_count": 2,
   "metadata": {},
   "outputs": [],
   "source": [
    "def update_probability(prior, prob_true, prob_false):\n",
    "    \"\"\"Update probability using Bayes' rule.\"\"\"\n",
    "    numerator = prob_true * prior\n",
    "    denominator = numerator + prob_false * (1 - prior)\n",
    "    probability = numerator / denominator\n",
    "    return probability"
   ]
  },
  {
   "cell_type": "markdown",
   "metadata": {},
   "source": [
    "For our example, the prior = $P(A)$ = 0.1, prob_true = $P(B|A)$ = 0.7 and prob_false = $P(B| \\neg A)$ = 0.1. Lets calculate the posterior probability ($P(A|B)$) given that we have received a single ON reading from the DIY sensor:"
   ]
  },
  {
   "cell_type": "code",
   "execution_count": 3,
   "metadata": {},
   "outputs": [
    {
     "name": "stdout",
     "output_type": "stream",
     "text": [
      "0.44\n"
     ]
    }
   ],
   "source": [
    "prior = 0.1\n",
    "prob_true = 0.7\n",
    "prob_false = 0.1\n",
    "posterior = update_probability(prior, prob_true, prob_false)\n",
    "print(round(posterior,2))"
   ]
  },
  {
   "cell_type": "markdown",
   "metadata": {},
   "source": [
    "We find that our posterior proability is below the 0.5 (50%) threshold, and **bayesian_sensor.cooking** remains OFF. This isn't surprising since our prior was low to begin with, and our false positive rate is not negligible. However we now have an updated prior in the just calculated posterior. Lets run the calculation with the updated prior of 0.44:"
   ]
  },
  {
   "cell_type": "code",
   "execution_count": 4,
   "metadata": {},
   "outputs": [
    {
     "name": "stdout",
     "output_type": "stream",
     "text": [
      "0.85\n"
     ]
    }
   ],
   "source": [
    "posterior = update_probability(0.44, prob_true, prob_false)\n",
    "print(round(posterior,2))"
   ]
  },
  {
   "cell_type": "markdown",
   "metadata": {},
   "source": [
    "And great news, with only two readings our posterior probability is above the 0.5 threshold and **bayesian_sensor.cooking** now displays ON. Lets now consider the same case but where our DIY sensor is much less sensitive, and only indicates cooking 20% of the time but maintains the 10% false-positive (specificity) rate. How many sensor readings are required now?"
   ]
  },
  {
   "cell_type": "code",
   "execution_count": 5,
   "metadata": {},
   "outputs": [
    {
     "name": "stdout",
     "output_type": "stream",
     "text": [
      "0.18181818181818182\n",
      "0.3076923076923077\n",
      "0.47058823529411764\n",
      "0.64\n"
     ]
    }
   ],
   "source": [
    "prior = 0.1\n",
    "prob_true = 0.2\n",
    "prob_false = 0.1\n",
    "posterior = prior # Our initial conditions\n",
    "while posterior < 0.5:\n",
    "    posterior = update_probability(posterior, prob_true, prob_false)\n",
    "    print(posterior)"
   ]
  },
  {
   "cell_type": "markdown",
   "metadata": {},
   "source": [
    "We find that even for a sensor with 10% sensitivity, four consecutive positive readings ('samples') are enough to cross the 50% threshold and trigger **bayesian_sensor.cooking** to ON.\n",
    "\n",
    "Now, how do we update our posterior if we receive a negative reading?\n",
    "\n",
    "How about combining the readings from several noisy sensors?"
   ]
  },
  {
   "cell_type": "markdown",
   "metadata": {},
   "source": [
    "## Bayesian sensor\n",
    "Lets now import the actual sensor used in HA. This sensor updates as new observations come in, sequentially updating the prior."
   ]
  },
  {
   "cell_type": "code",
   "execution_count": 6,
   "metadata": {},
   "outputs": [
    {
     "data": {
      "text/plain": [
       "{'device_class': 'binary_device',\n",
       " 'name': 'in_bed',\n",
       " 'observations': [{'entity_id': 'sensor.bedroom_motion',\n",
       "   'platform': 'state',\n",
       "   'prob_given_true': 0.5,\n",
       "   'to_state': 'on'},\n",
       "  {'entity_id': 'sun.sun',\n",
       "   'platform': 'state',\n",
       "   'prob_given_true': 0.7,\n",
       "   'to_state': 'below_horizon'}],\n",
       " 'prior': 0.25,\n",
       " 'probability_threshold': 0.95}"
      ]
     },
     "execution_count": 6,
     "metadata": {},
     "output_type": "execute_result"
    }
   ],
   "source": [
    "VALID_CONFIG"
   ]
  },
  {
   "cell_type": "markdown",
   "metadata": {},
   "source": [
    "Create a bayesian sensor to explore properties"
   ]
  },
  {
   "cell_type": "code",
   "execution_count": 7,
   "metadata": {},
   "outputs": [],
   "source": [
    "b_sensor = setup_platform(VALID_CONFIG)"
   ]
  },
  {
   "cell_type": "markdown",
   "metadata": {},
   "source": [
    "updates are handeled through async_threshold_sensor_state_listener()"
   ]
  },
  {
   "cell_type": "code",
   "execution_count": 8,
   "metadata": {},
   "outputs": [
    {
     "name": "stdout",
     "output_type": "stream",
     "text": [
      "{'_deviation': False,\n",
      " '_device_class': 'binary_device',\n",
      " '_name': 'in_bed',\n",
      " '_observations': [{'entity_id': 'sensor.bedroom_motion',\n",
      "                    'id': 0,\n",
      "                    'platform': 'state',\n",
      "                    'prob_given_true': 0.5,\n",
      "                    'to_state': 'on'},\n",
      "                   {'entity_id': 'sun.sun',\n",
      "                    'id': 1,\n",
      "                    'platform': 'state',\n",
      "                    'prob_given_true': 0.7,\n",
      "                    'to_state': 'below_horizon'}],\n",
      " '_probability_threshold': 0.95,\n",
      " 'current_obs': OrderedDict(),\n",
      " 'entity_obs': {'sensor.bedroom_motion': [{'entity_id': 'sensor.bedroom_motion',\n",
      "                                           'id': 0,\n",
      "                                           'platform': 'state',\n",
      "                                           'prob_given_true': 0.5,\n",
      "                                           'to_state': 'on'},\n",
      "                                          {'entity_id': 'sun.sun',\n",
      "                                           'id': 1,\n",
      "                                           'platform': 'state',\n",
      "                                           'prob_given_true': 0.7,\n",
      "                                           'to_state': 'below_horizon'}],\n",
      "                'sun.sun': [{'entity_id': 'sensor.bedroom_motion',\n",
      "                             'id': 0,\n",
      "                             'platform': 'state',\n",
      "                             'prob_given_true': 0.5,\n",
      "                             'to_state': 'on'},\n",
      "                            {'entity_id': 'sun.sun',\n",
      "                             'id': 1,\n",
      "                             'platform': 'state',\n",
      "                             'prob_given_true': 0.7,\n",
      "                             'to_state': 'below_horizon'}]},\n",
      " 'prior': 0.25,\n",
      " 'probability': 0.25,\n",
      " 'watchers': {'numeric_state': <bound method BayesianBinarySensor._process_numeric_state of <bayes_sensor.BayesianBinarySensor object at 0x10e96be10>>,\n",
      "              'state': <bound method BayesianBinarySensor._process_state of <bayes_sensor.BayesianBinarySensor object at 0x10e96be10>>}}\n"
     ]
    }
   ],
   "source": [
    "pprint(vars(b_sensor))"
   ]
  },
  {
   "cell_type": "code",
   "execution_count": 9,
   "metadata": {},
   "outputs": [
    {
     "data": {
      "text/plain": [
       "{'observations': [], 'probability': 0.25, 'probability_threshold': 0.95}"
      ]
     },
     "execution_count": 9,
     "metadata": {},
     "output_type": "execute_result"
    }
   ],
   "source": [
    "b_sensor.device_state_attributes"
   ]
  },
  {
   "cell_type": "code",
   "execution_count": 10,
   "metadata": {},
   "outputs": [
    {
     "data": {
      "text/plain": [
       "'off'"
      ]
     },
     "execution_count": 10,
     "metadata": {},
     "output_type": "execute_result"
    }
   ],
   "source": [
    "b_sensor.state"
   ]
  },
  {
   "cell_type": "code",
   "execution_count": 11,
   "metadata": {},
   "outputs": [
    {
     "data": {
      "text/plain": [
       "dict_keys(['sensor.bedroom_motion', 'sun.sun'])"
      ]
     },
     "execution_count": 11,
     "metadata": {},
     "output_type": "execute_result"
    }
   ],
   "source": [
    "b_sensor.entity_obs.keys()"
   ]
  },
  {
   "cell_type": "code",
   "execution_count": 12,
   "metadata": {},
   "outputs": [
    {
     "data": {
      "text/plain": [
       "odict_values([])"
      ]
     },
     "execution_count": 12,
     "metadata": {},
     "output_type": "execute_result"
    }
   ],
   "source": [
    "b_sensor.current_obs.values()"
   ]
  },
  {
   "cell_type": "code",
   "execution_count": null,
   "metadata": {},
   "outputs": [],
   "source": []
  }
 ],
 "metadata": {
  "kernelspec": {
   "display_name": "Python 3",
   "language": "python",
   "name": "python3"
  },
  "language_info": {
   "codemirror_mode": {
    "name": "ipython",
    "version": 3
   },
   "file_extension": ".py",
   "mimetype": "text/x-python",
   "name": "python",
   "nbconvert_exporter": "python",
   "pygments_lexer": "ipython3",
   "version": "3.6.3"
  }
 },
 "nbformat": 4,
 "nbformat_minor": 2
}
