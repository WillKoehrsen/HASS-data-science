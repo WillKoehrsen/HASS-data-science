{
 "cells": [
  {
   "cell_type": "code",
   "execution_count": 15,
   "metadata": {},
   "outputs": [],
   "source": [
    "from bayes_sensor import *\n",
    "from config import VALID_CONFIG\n",
    "from pprint import pprint\n",
    "DEFAULT_PROBABILITY_THRESHOLD = 0.5"
   ]
  },
  {
   "cell_type": "markdown",
   "metadata": {},
   "source": [
    "I wish to describe how the bayesian_sensor operates, lets do an investigation\n",
    "\n",
    "### Code references\n",
    "* https://github.com/home-assistant/home-assistant/blob/dev/homeassistant/components/binary_sensor/bayesian.py code\n",
    "* https://home-assistant.io/components/binary_sensor.bayesian/ docs\n",
    "* https://github.com/jlmcgehee21/smart_hass#binary-bayes-introspection HA sensor author script for working with bayes sensor  \n",
    "* https://github.com/home-assistant/home-assistant/tree/a1f238816b6130aee2ac88fe9da54ba8f65225f3 Very early home-assistant commit to better understand HA architechture\n",
    "\n",
    "\n",
    "### Bayes references\n",
    "* https://github.com/rlabbe/Kalman-and-Bayesian-Filters-in-Python/blob/master/02-Discrete-Bayes.ipynb Recommended reading\n",
    "* https://en.wikipedia.org/wiki/Bayes%27_theorem wikipedia on Bayes theorem\n",
    "* https://en.wikipedia.org/wiki/Bayesian_inference wikipedia on Bayesian inference\n",
    "\n",
    "### The Bayesian sensor\n",
    "\n",
    "So you've heard about the [bayesian sensor](https://home-assistant.io/components/binary_sensor.bayesian/) in home-assistant, and would like to know what its good for and how to use it. Lets consider a situation where you would like a sensor which indicates when some event which cannot be directly measured is takign place, for example cooking in the kitchen (henceforth event *A*). We will call this sensor **bayesian_sensor.cooking** and we are happy that it is a binary sensor where if someone is cooking the state is ON, otherwise the state is OFF. We are happy that this sensor should be ON if the probability that someone is cooking is greater than 50% (the threshold). \n",
    "\n",
    "I estimate that I spend roughly 10% of my day cooking, so if your were to enter the kitchen at a random time the probability that you would find me cooking is $P(A)$ = 0.1. This probability is reffered to as the *prior* probability, as it is my belief prior to any measurement. Lets say that I have built a DIY sensor for detecting cooking smells and through experimentation I have concluded that it registers ON 70% of the time when I am cooking. I call the ON state of this sensor the event *B* and can now state $P(B|A)$ = 0.7 (i.e the probability that this sensor is ON *given* that I am cooking is 50%). However this sensor is not perfect and registers a false-positive ON 10% of the time, $P(B| \\neg A)$ = 0.1 where $\\neg A$  is the notation for the event *not* $A$. \n",
    "\n",
    "It turns out that we now have enough information to create **bayesian_sensor.cooking**. In particular we can calculate $P(A|B)$, which is the probability that I am cooking (event *A*) *given* that the DIY sensor is ON (event *B*). $P(A|B)$ can be calculated using the Bayes forumla, which is be expressed in words as *the posterior ($P(A|B)$) is proportional to the likelihood ($P(B|A)$) times the prior ($P(A)$)*. Using the same notation as wikipedia, the [full expression](https://en.wikipedia.org/wiki/Bayes%27_theorem) for Bayes formula is:\n",
    "\n",
    "$$P(A|B) = \\frac{P(B|A)\\,P(A)}{ P(B|A) P(A) + P(B| \\neg A) P(\\neg A)}\\cdot$$\n",
    "\n",
    "Here $P(\\neg A)$ is the probability *against* A where $P(\\neg A) = 1 - P(A)$, and the purpose of the denominator is to ensure that all probabilities (in this simple case $P(A|B)$ and $P(\\neg A)$) sum to 1. Bayes formula is implemented in the bayesian_sensor component in the function update_probability():"
   ]
  },
  {
   "cell_type": "code",
   "execution_count": 14,
   "metadata": {},
   "outputs": [],
   "source": [
    "def update_probability(prior, prob_true, prob_false):\n",
    "    \"\"\"Update probability using Bayes' rule.\"\"\"\n",
    "    numerator = prob_true * prior\n",
    "    denominator = numerator + prob_false * (1 - prior)\n",
    "\n",
    "    probability = numerator / denominator\n",
    "    return probability"
   ]
  },
  {
   "cell_type": "markdown",
   "metadata": {},
   "source": [
    "Here the prior = $P(A)$ = 0.1, prob_true = $P(B|A)$ = 0.7 and prob_false = $P(B| \\neg A)$ = 0.1. Lets calculate the posterior probability ($P(A|B)$) given that we have received an ON reading from the DIY sensor:"
   ]
  },
  {
   "cell_type": "code",
   "execution_count": 23,
   "metadata": {},
   "outputs": [
    {
     "name": "stdout",
     "output_type": "stream",
     "text": [
      "0.44\n"
     ]
    }
   ],
   "source": [
    "prior = 0.1\n",
    "prob_true = 0.7\n",
    "prob_false = 0.1\n",
    "posterior = update_probability(prior, prob_true, prob_false)\n",
    "print(round(posterior,2))"
   ]
  },
  {
   "cell_type": "markdown",
   "metadata": {},
   "source": [
    "Unfortunately our posterior proability is below the 0.5 (50%) threshold we chose, and **bayesian_sensor.cooking** remains OFF. Of course the reason is that our prior was low to begin with, and our false positive rate is not negligible. However we now have a new prior in the posterior. Lets run the calculation with the updated prior of 0.44:"
   ]
  },
  {
   "cell_type": "code",
   "execution_count": 26,
   "metadata": {},
   "outputs": [
    {
     "name": "stdout",
     "output_type": "stream",
     "text": [
      "0.85\n"
     ]
    }
   ],
   "source": [
    "posterior = update_probability(0.44, prob_true, prob_false)\n",
    "print(round(posterior,2))"
   ]
  },
  {
   "cell_type": "markdown",
   "metadata": {},
   "source": [
    "And great news, with only two readings our posterior probability is above the 0.5 threshold and **bayesian_sensor.cooking** now displays ON. \n",
    "\n",
    "Lets now consider the same case but where our DIY sensor is much less reliable, and only indicates cooking 20% of the time and still as a 10% false-positive rate. How many sensor readings are required now?"
   ]
  },
  {
   "cell_type": "code",
   "execution_count": 43,
   "metadata": {},
   "outputs": [
    {
     "name": "stdout",
     "output_type": "stream",
     "text": [
      "0.18181818181818182\n",
      "0.3076923076923077\n",
      "0.47058823529411764\n",
      "0.64\n"
     ]
    }
   ],
   "source": [
    "prior = 0.1\n",
    "prob_true = 0.2\n",
    "prob_false = 0.1\n",
    "posterior = prior # Our initial conditions\n",
    "while posterior < 0.5:\n",
    "    posterior = update_probability(posterior, prob_true, prob_false)\n",
    "    print(posterior)"
   ]
  },
  {
   "cell_type": "markdown",
   "metadata": {},
   "source": [
    "We find that even with a very poor sensor, four consecutive positive readings are enough to cross the 50% threshold and trigger **bayesian_sensor.cooking** to ON."
   ]
  },
  {
   "cell_type": "markdown",
   "metadata": {},
   "source": [
    "## Bayesian sensor\n",
    "Lets now import the actual sensor used in HA."
   ]
  },
  {
   "cell_type": "code",
   "execution_count": 6,
   "metadata": {},
   "outputs": [
    {
     "data": {
      "text/plain": [
       "{'device_class': 'binary_device',\n",
       " 'name': 'in_bed',\n",
       " 'observations': [{'entity_id': 'sensor.bedroom_motion',\n",
       "   'platform': 'state',\n",
       "   'prob_given_true': 0.5,\n",
       "   'to_state': 'on'},\n",
       "  {'entity_id': 'sun.sun',\n",
       "   'platform': 'state',\n",
       "   'prob_given_true': 0.7,\n",
       "   'to_state': 'below_horizon'}],\n",
       " 'prior': 0.25,\n",
       " 'probability_threshold': 0.95}"
      ]
     },
     "execution_count": 6,
     "metadata": {},
     "output_type": "execute_result"
    }
   ],
   "source": [
    "VALID_CONFIG"
   ]
  },
  {
   "cell_type": "markdown",
   "metadata": {},
   "source": [
    "Create a bayesian sensor to explore properties"
   ]
  },
  {
   "cell_type": "code",
   "execution_count": 7,
   "metadata": {},
   "outputs": [],
   "source": [
    "b_sensor = setup_platform(VALID_CONFIG)"
   ]
  },
  {
   "cell_type": "markdown",
   "metadata": {},
   "source": [
    "updates are handeled through async_threshold_sensor_state_listener()"
   ]
  },
  {
   "cell_type": "code",
   "execution_count": 8,
   "metadata": {},
   "outputs": [
    {
     "name": "stdout",
     "output_type": "stream",
     "text": [
      "{'_deviation': False,\n",
      " '_device_class': 'binary_device',\n",
      " '_name': 'in_bed',\n",
      " '_observations': [{'entity_id': 'sensor.bedroom_motion',\n",
      "                    'id': 0,\n",
      "                    'platform': 'state',\n",
      "                    'prob_given_true': 0.5,\n",
      "                    'to_state': 'on'},\n",
      "                   {'entity_id': 'sun.sun',\n",
      "                    'id': 1,\n",
      "                    'platform': 'state',\n",
      "                    'prob_given_true': 0.7,\n",
      "                    'to_state': 'below_horizon'}],\n",
      " '_probability_threshold': 0.95,\n",
      " 'current_obs': OrderedDict(),\n",
      " 'entity_obs': {'sensor.bedroom_motion': [{'entity_id': 'sensor.bedroom_motion',\n",
      "                                           'id': 0,\n",
      "                                           'platform': 'state',\n",
      "                                           'prob_given_true': 0.5,\n",
      "                                           'to_state': 'on'},\n",
      "                                          {'entity_id': 'sun.sun',\n",
      "                                           'id': 1,\n",
      "                                           'platform': 'state',\n",
      "                                           'prob_given_true': 0.7,\n",
      "                                           'to_state': 'below_horizon'}],\n",
      "                'sun.sun': [{'entity_id': 'sensor.bedroom_motion',\n",
      "                             'id': 0,\n",
      "                             'platform': 'state',\n",
      "                             'prob_given_true': 0.5,\n",
      "                             'to_state': 'on'},\n",
      "                            {'entity_id': 'sun.sun',\n",
      "                             'id': 1,\n",
      "                             'platform': 'state',\n",
      "                             'prob_given_true': 0.7,\n",
      "                             'to_state': 'below_horizon'}]},\n",
      " 'prior': 0.25,\n",
      " 'probability': 0.25,\n",
      " 'watchers': {'numeric_state': <bound method BayesianBinarySensor._process_numeric_state of <bayes_sensor.BayesianBinarySensor object at 0x1089f15f8>>,\n",
      "              'state': <bound method BayesianBinarySensor._process_state of <bayes_sensor.BayesianBinarySensor object at 0x1089f15f8>>}}\n"
     ]
    }
   ],
   "source": [
    "pprint(vars(b_sensor))"
   ]
  },
  {
   "cell_type": "code",
   "execution_count": 9,
   "metadata": {},
   "outputs": [
    {
     "data": {
      "text/plain": [
       "{'observations': [], 'probability': 0.25, 'probability_threshold': 0.95}"
      ]
     },
     "execution_count": 9,
     "metadata": {},
     "output_type": "execute_result"
    }
   ],
   "source": [
    "b_sensor.device_state_attributes"
   ]
  },
  {
   "cell_type": "code",
   "execution_count": 10,
   "metadata": {},
   "outputs": [
    {
     "data": {
      "text/plain": [
       "'off'"
      ]
     },
     "execution_count": 10,
     "metadata": {},
     "output_type": "execute_result"
    }
   ],
   "source": [
    "b_sensor.state"
   ]
  },
  {
   "cell_type": "code",
   "execution_count": 11,
   "metadata": {},
   "outputs": [
    {
     "data": {
      "text/plain": [
       "dict_keys(['sensor.bedroom_motion', 'sun.sun'])"
      ]
     },
     "execution_count": 11,
     "metadata": {},
     "output_type": "execute_result"
    }
   ],
   "source": [
    "b_sensor.entity_obs.keys()"
   ]
  },
  {
   "cell_type": "code",
   "execution_count": 12,
   "metadata": {},
   "outputs": [
    {
     "data": {
      "text/plain": [
       "odict_values([])"
      ]
     },
     "execution_count": 12,
     "metadata": {},
     "output_type": "execute_result"
    }
   ],
   "source": [
    "b_sensor.current_obs.values()"
   ]
  },
  {
   "cell_type": "code",
   "execution_count": null,
   "metadata": {},
   "outputs": [],
   "source": []
  }
 ],
 "metadata": {
  "kernelspec": {
   "display_name": "Python 3",
   "language": "python",
   "name": "python3"
  },
  "language_info": {
   "codemirror_mode": {
    "name": "ipython",
    "version": 3
   },
   "file_extension": ".py",
   "mimetype": "text/x-python",
   "name": "python",
   "nbconvert_exporter": "python",
   "pygments_lexer": "ipython3",
   "version": "3.6.3"
  }
 },
 "nbformat": 4,
 "nbformat_minor": 2
}
