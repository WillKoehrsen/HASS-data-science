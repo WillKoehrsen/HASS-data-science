{
 "cells": [
  {
   "cell_type": "markdown",
   "metadata": {},
   "source": [
    "Rather than setting up a recoreder and performing SQL queries, lets try doing data science just by calling the HASS [restful-API](https://home-assistant.io/developers/rest_api/). I start by working with localhost and no password is required."
   ]
  },
  {
   "cell_type": "code",
   "execution_count": 82,
   "metadata": {},
   "outputs": [],
   "source": [
    "from requests import get, post\n",
    "import json\n",
    "from pprint import PrettyPrinter\n",
    "import matplotlib.pyplot as plt\n",
    "import matplotlib.dates as mdates\n",
    "import pandas as pd\n",
    "import datetime as dt\n",
    "%matplotlib inline\n",
    "\n",
    "def print_json(json_data):\n",
    "    PrettyPrinter().pprint(json_data)\n",
    "    \n",
    "headers = {'content-type': 'application/json'}"
   ]
  },
  {
   "cell_type": "markdown",
   "metadata": {},
   "source": [
    "Lets first check whats in my config"
   ]
  },
  {
   "cell_type": "code",
   "execution_count": 9,
   "metadata": {},
   "outputs": [
    {
     "name": "stdout",
     "output_type": "stream",
     "text": [
      "['recorder',\n",
      " 'config.group',\n",
      " 'discovery',\n",
      " 'config.automation',\n",
      " 'cloud',\n",
      " 'config.customize',\n",
      " 'config.core',\n",
      " 'sensor.hue',\n",
      " 'history',\n",
      " 'sensor',\n",
      " 'automation',\n",
      " 'light.hue',\n",
      " 'config',\n",
      " 'websocket_api',\n",
      " 'config.script',\n",
      " 'frontend',\n",
      " 'group',\n",
      " 'history_graph',\n",
      " 'sun',\n",
      " 'system_log',\n",
      " 'api',\n",
      " 'sensor.yweather',\n",
      " 'hue',\n",
      " 'light',\n",
      " 'conversation',\n",
      " 'logbook',\n",
      " 'http',\n",
      " 'updater']\n"
     ]
    }
   ],
   "source": [
    "url = 'http://localhost:8123/api/config'\n",
    "response = get(url, headers=headers).json()\n",
    "print_json(response['components'])"
   ]
  },
  {
   "cell_type": "markdown",
   "metadata": {},
   "source": [
    "I know that **sensor.living_room_motion_sensor** has some data to display"
   ]
  },
  {
   "cell_type": "code",
   "execution_count": 43,
   "metadata": {},
   "outputs": [],
   "source": [
    "url = 'http://localhost:8123/api/history/period?filter_entity_id=sensor.living_room_motion_sensor' #\n",
    "response = get(url, headers=headers).json()"
   ]
  },
  {
   "cell_type": "code",
   "execution_count": 44,
   "metadata": {},
   "outputs": [],
   "source": [
    "data = response[0]"
   ]
  },
  {
   "cell_type": "code",
   "execution_count": 45,
   "metadata": {},
   "outputs": [
    {
     "data": {
      "text/plain": [
       "46"
      ]
     },
     "execution_count": 45,
     "metadata": {},
     "output_type": "execute_result"
    }
   ],
   "source": [
    "len(data)"
   ]
  },
  {
   "cell_type": "code",
   "execution_count": 47,
   "metadata": {},
   "outputs": [
    {
     "name": "stdout",
     "output_type": "stream",
     "text": [
      "{'attributes': {'battery': 100,\n",
      "                'dark': True,\n",
      "                'daylight': False,\n",
      "                'friendly_name': 'Living room motion sensor',\n",
      "                'icon': 'mdi:run-fast',\n",
      "                'last_updated': ['2018-01-21', '13:57:00'],\n",
      "                'light_level': 10380,\n",
      "                'lux': 10.91,\n",
      "                'temperature': 18.42},\n",
      " 'entity_id': 'sensor.living_room_motion_sensor',\n",
      " 'last_changed': '2018-01-21T13:57:36.587538+00:00',\n",
      " 'last_updated': '2018-01-21T13:57:36.587538+00:00',\n",
      " 'state': 'off'}\n"
     ]
    }
   ],
   "source": [
    "print_json(data[0])"
   ]
  },
  {
   "cell_type": "code",
   "execution_count": 33,
   "metadata": {},
   "outputs": [
    {
     "data": {
      "text/plain": [
       "'2018-01-21T13:57:36.587538+00:00'"
      ]
     },
     "execution_count": 33,
     "metadata": {},
     "output_type": "execute_result"
    }
   ],
   "source": [
    "data[0]['last_updated']"
   ]
  },
  {
   "cell_type": "markdown",
   "metadata": {},
   "source": [
    "So each last_updated is an event"
   ]
  },
  {
   "cell_type": "code",
   "execution_count": 34,
   "metadata": {},
   "outputs": [
    {
     "data": {
      "text/plain": [
       "'off'"
      ]
     },
     "execution_count": 34,
     "metadata": {},
     "output_type": "execute_result"
    }
   ],
   "source": [
    "data[0]['state']"
   ]
  },
  {
   "cell_type": "markdown",
   "metadata": {},
   "source": [
    "Lets use a comprehension to get the state data into a dict"
   ]
  },
  {
   "cell_type": "code",
   "execution_count": 48,
   "metadata": {},
   "outputs": [],
   "source": [
    "living_room_motion_sensor = {v['last_updated']: v['state'] for v in data}"
   ]
  },
  {
   "cell_type": "markdown",
   "metadata": {},
   "source": [
    "Now lets convert the dict to a pandas series"
   ]
  },
  {
   "cell_type": "code",
   "execution_count": 59,
   "metadata": {},
   "outputs": [],
   "source": [
    "living_room_motion_sensor_ds = pd.Series(living_room_motion_sensor)"
   ]
  },
  {
   "cell_type": "code",
   "execution_count": 60,
   "metadata": {},
   "outputs": [
    {
     "data": {
      "text/plain": [
       "2018-01-21T13:57:36.587538+00:00    off\n",
       "2018-01-21T13:57:53.883990+00:00     on\n",
       "2018-01-21T13:58:02.936808+00:00    off\n",
       "2018-01-21T13:58:38.610902+00:00     on\n",
       "2018-01-21T13:58:48.183434+00:00    off\n",
       "dtype: object"
      ]
     },
     "execution_count": 60,
     "metadata": {},
     "output_type": "execute_result"
    }
   ],
   "source": [
    "living_room_motion_sensor_ds.head()"
   ]
  },
  {
   "cell_type": "markdown",
   "metadata": {},
   "source": [
    "Lets convert this categorical into numeric for plotting"
   ]
  },
  {
   "cell_type": "code",
   "execution_count": 65,
   "metadata": {},
   "outputs": [],
   "source": [
    "living_room_motion_sensor_ds = pd.get_dummies(living_room_motion_sensor_ds)['on']"
   ]
  },
  {
   "cell_type": "markdown",
   "metadata": {},
   "source": [
    "Finally lets do a quick plot"
   ]
  },
  {
   "cell_type": "code",
   "execution_count": 84,
   "metadata": {},
   "outputs": [
    {
     "data": {
      "text/plain": [
       "Text(0,0.5,'living_room_motion_sensor')"
      ]
     },
     "execution_count": 84,
     "metadata": {},
     "output_type": "execute_result"
    },
    {
     "data": {
      "image/png": "[encoded data removed]",
      "text/plain": [
       "<matplotlib.figure.Figure at 0x117bb5d68>"
      ]
     },
     "metadata": {},
     "output_type": "display_data"
    }
   ],
   "source": [
    "f, ax = plt.subplots(figsize=(16, 6))\n",
    "ax.step(living_room_motion_sensor_ds, 'bo', where='post')\n",
    "ax.set_ylabel('living_room_motion_sensor', color='b')"
   ]
  },
  {
   "cell_type": "code",
   "execution_count": null,
   "metadata": {},
   "outputs": [],
   "source": []
  }
 ],
 "metadata": {
  "kernelspec": {
   "display_name": "Python 3",
   "language": "python",
   "name": "python3"
  },
  "language_info": {
   "codemirror_mode": {
    "name": "ipython",
    "version": 3
   },
   "file_extension": ".py",
   "mimetype": "text/x-python",
   "name": "python",
   "nbconvert_exporter": "python",
   "pygments_lexer": "ipython3",
   "version": "3.6.3"
  }
 },
 "nbformat": 4,
 "nbformat_minor": 2
}
