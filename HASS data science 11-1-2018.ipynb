{
 "cells": [
  {
   "cell_type": "markdown",
   "metadata": {},
   "source": [
    "Goal - convenience functions to parse HA data into useful format for data science. Consider creating a class to hold the data.\n",
    "SQLAlchemy is used in this notebook but other suitable libraries are available.\n",
    "\n",
    "http://nbviewer.jupyter.org/github/home-assistant/home-assistant-notebooks/blob/master/DataExploration-1/DataExploration-1.ipynb\n",
    "\n",
    "http://www.sqlalchemy.org/\n",
    "\n",
    "https://www.dataquest.io/blog/images/cheat-sheets/pandas-cheat-sheet.pdf\n",
    "\n",
    "https://chrisalbon.com/ Useful ref\n",
    "\n",
    "26-12-2016: updated to use Google cloud data as MySQL server appears to have stopped several days ago\n",
    "\n",
    "8-1-2018: Query local db on synology (copied to Mac, 4 GB) as has 6 months of data"
   ]
  },
  {
   "cell_type": "code",
   "execution_count": 1,
   "metadata": {},
   "outputs": [],
   "source": [
    "%matplotlib inline\n",
    "from datetime import datetime\n",
    "from sqlalchemy import create_engine, text\n",
    "import json\n",
    "from datetime import datetime, timedelta\n",
    "import seaborn as sns\n",
    "import numpy as np\n",
    "import pandas as pd\n",
    "import matplotlib.pyplot as plt\n",
    "import matplotlib.dates as md\n",
    "import datetime as dt"
   ]
  },
  {
   "cell_type": "code",
   "execution_count": 2,
   "metadata": {},
   "outputs": [],
   "source": [
    "def load_url(filename):\n",
    "    \"\"\"Convenience for loading a url from a json file.\"\"\"\n",
    "    try:\n",
    "        with open(filename, 'r') as fp:\n",
    "            url = json.load(fp)\n",
    "    except Exception as e:\n",
    "        print('Failed to load url')\n",
    "        url = None\n",
    "    return url['url']"
   ]
  },
  {
   "cell_type": "markdown",
   "metadata": {},
   "source": [
    "Some helper functions for parsing HA data"
   ]
  },
  {
   "cell_type": "code",
   "execution_count": 3,
   "metadata": {},
   "outputs": [],
   "source": [
    "def time_category(dtObj):\n",
    "    \"\"\"Return a time category, bed, home, work, given a datetime object dtObj.\"\"\"\n",
    "    if 9 <= dtObj.hour <= 17:\n",
    "        return 'daytime'\n",
    "    elif 5 <= dtObj.hour < 9:\n",
    "        return 'morning'\n",
    "    elif 17 < dtObj.hour < 23:\n",
    "        return 'evening'\n",
    "    else:\n",
    "        return 'night'"
   ]
  },
  {
   "cell_type": "code",
   "execution_count": 4,
   "metadata": {},
   "outputs": [],
   "source": [
    "def is_weekday(dtObj):\n",
    "    \"\"\"Check a datetime object dtObj is a weekday\"\"\"\n",
    "    if dtObj.weekday() < 5:\n",
    "        return True\n",
    "    else:\n",
    "        return False"
   ]
  },
  {
   "cell_type": "code",
   "execution_count": 5,
   "metadata": {},
   "outputs": [
    {
     "data": {
      "text/plain": [
       "True"
      ]
     },
     "execution_count": 5,
     "metadata": {},
     "output_type": "execute_result"
    }
   ],
   "source": [
    "def isfloat(value):\n",
    "    \"\"\"Check if string can be parsed to a float.\"\"\"\n",
    "    try:\n",
    "        float(value)\n",
    "        return True\n",
    "    except ValueError:\n",
    "        return False\n",
    "\n",
    "isfloat('23.6')"
   ]
  },
  {
   "cell_type": "code",
   "execution_count": 6,
   "metadata": {},
   "outputs": [],
   "source": [
    "def parse_state(value):\n",
    "    \"\"\"Check if state can be parsed to a float.\"\"\"\n",
    "    try:\n",
    "        float(value)\n",
    "        return float(value)\n",
    "    except ValueError:\n",
    "        return value\n",
    "\n",
    "val = parse_state('23.6')"
   ]
  },
  {
   "cell_type": "code",
   "execution_count": 7,
   "metadata": {},
   "outputs": [
    {
     "data": {
      "text/plain": [
       "'foo'"
      ]
     },
     "execution_count": 7,
     "metadata": {},
     "output_type": "execute_result"
    }
   ],
   "source": [
    "parse_state('foo')"
   ]
  },
  {
   "cell_type": "code",
   "execution_count": 8,
   "metadata": {},
   "outputs": [
    {
     "name": "stdout",
     "output_type": "stream",
     "text": [
      "True\n",
      "False\n",
      "nan\n"
     ]
    }
   ],
   "source": [
    "def binary_state(value):\n",
    "    \"\"\"Return a binary for the state of binary sensors\"\"\"\n",
    "    if  value == 'on':\n",
    "        return True\n",
    "    elif value == 'off':\n",
    "        return False\n",
    "    else:\n",
    "        return float('nan')\n",
    "\n",
    "print(binary_state('on'))\n",
    "print(binary_state('off'))\n",
    "print(binary_state('foo'))"
   ]
  },
  {
   "cell_type": "code",
   "execution_count": 9,
   "metadata": {},
   "outputs": [
    {
     "data": {
      "text/plain": [
       "'bme680humidity'"
      ]
     },
     "execution_count": 9,
     "metadata": {},
     "output_type": "execute_result"
    }
   ],
   "source": [
    "def rename_entity(entity_id):\n",
    "    \"\"\"Takes an entity_if of form sensor.name and returns name.\"\"\"\n",
    "    return entity_id.split('.')[1]\n",
    "\n",
    "rename_entity('sensor.bme680humidity')"
   ]
  },
  {
   "cell_type": "markdown",
   "metadata": {},
   "source": [
    "Conveninece to query and filter list of entities"
   ]
  },
  {
   "cell_type": "code",
   "execution_count": 10,
   "metadata": {},
   "outputs": [],
   "source": [
    "def query_entities(*args, **kwargs):\n",
    "    \"\"\"Takes a query term or terms and returns a list of entities satisfying the term. \n",
    "    Additionally apply a single filter term. \n",
    "    Example usage = query_entities('temperature', 'light', filter='sensor)\"\"\"\n",
    "    query_results = [entity for entity in entity_list if any(query in entity for query in args)] \n",
    "    if kwargs['filter']:\n",
    "        filtered_resaults = [entity for entity in query_results if kwargs['filter'] in entity]\n",
    "        return filtered_resaults\n",
    "    else:\n",
    "        return query_results"
   ]
  },
  {
   "cell_type": "markdown",
   "metadata": {},
   "source": [
    "Convenience function for checking a state. This is incredibly slow when applied to large data frames. Better approach is place data on time index and fill."
   ]
  },
  {
   "cell_type": "code",
   "execution_count": 11,
   "metadata": {},
   "outputs": [],
   "source": [
    "def state_at_time(df, dtObj):\n",
    "    \"\"\"Check the last registered state at some time using asof.\n",
    "    Passed df needs to be time indexed and should only include the entitiy_id of interest.\"\"\"\n",
    "    found_index = df.index.asof(dtObj)     # Find the closest index asof time test_time\n",
    "    if pd.isnull(found_index):             # If dtObj is before the first index of dt, will return NaT\n",
    "        return float('nan')\n",
    "    else:\n",
    "        state = df.loc[found_index]['state']      # Get the state at the found_index\n",
    "        return state"
   ]
  },
  {
   "cell_type": "markdown",
   "metadata": {},
   "source": [
    "## Fetch the states data"
   ]
  },
  {
   "cell_type": "markdown",
   "metadata": {},
   "source": [
    "DB is approx 4 Gb"
   ]
  },
  {
   "cell_type": "code",
   "execution_count": 12,
   "metadata": {},
   "outputs": [],
   "source": [
    "db_path = 'Users/robincole/Documents/Home-assistant_database/home-assistant_v2.db'"
   ]
  },
  {
   "cell_type": "code",
   "execution_count": 13,
   "metadata": {},
   "outputs": [],
   "source": [
    "DB_URL = 'sqlite:////' + db_path"
   ]
  },
  {
   "cell_type": "code",
   "execution_count": 14,
   "metadata": {},
   "outputs": [],
   "source": [
    "engine = create_engine(DB_URL)"
   ]
  },
  {
   "cell_type": "code",
   "execution_count": 15,
   "metadata": {},
   "outputs": [
    {
     "name": "stdout",
     "output_type": "stream",
     "text": [
      "CPU times: user 565 ms, sys: 3.04 s, total: 3.61 s\n",
      "Wall time: 14.7 s\n"
     ]
    }
   ],
   "source": [
    "%%time\n",
    "entity_id_list =  list(engine.execute(\"SELECT entity_id, COUNT(*) FROM states \\\n",
    "GROUP BY entity_id ORDER by 2 DESC\"))"
   ]
  },
  {
   "cell_type": "code",
   "execution_count": 16,
   "metadata": {},
   "outputs": [
    {
     "data": {
      "text/plain": [
       "261"
      ]
     },
     "execution_count": 16,
     "metadata": {},
     "output_type": "execute_result"
    }
   ],
   "source": [
    "len(entity_id_list)"
   ]
  },
  {
   "cell_type": "code",
   "execution_count": 17,
   "metadata": {},
   "outputs": [],
   "source": [
    "entity_list = list(zip(*entity_id_list))[0]"
   ]
  },
  {
   "cell_type": "code",
   "execution_count": 18,
   "metadata": {},
   "outputs": [
    {
     "data": {
      "text/plain": [
       "('automation.update_indoor_temperature',\n",
       " 'sun.sun',\n",
       " 'sensor.time__date',\n",
       " 'sensor.date__time',\n",
       " 'sensor.time')"
      ]
     },
     "execution_count": 18,
     "metadata": {},
     "output_type": "execute_result"
    }
   ],
   "source": [
    "entity_list[0:5]"
   ]
  },
  {
   "cell_type": "markdown",
   "metadata": {},
   "source": [
    "Select all state data for last X days, store in a single dataframe for convenience"
   ]
  },
  {
   "cell_type": "code",
   "execution_count": 19,
   "metadata": {},
   "outputs": [
    {
     "name": "stdout",
     "output_type": "stream",
     "text": [
      "CPU times: user 7.95 s, sys: 15.4 s, total: 23.3 s\n",
      "Wall time: 1min 6s\n"
     ]
    }
   ],
   "source": [
    "%%time\n",
    "# query to pull all rows form the states table where last_changed field is on \\\n",
    "# or after the date_filter value\n",
    "#stmt = text(\"SELECT * FROM states where last_changed>=:date_filter\")\n",
    "stmt = text(\"\"\"SELECT domain, entity_id, state, last_changed FROM states WHERE NOT state='unknown' \"\"\")\n",
    "\n",
    "# bind parameters to the stmt value, specifying the date_filter to be 10 days \\\n",
    "# before today\n",
    "#stmt = stmt.bindparams(date_filter=datetime.now()-timedelta(days=100))\n",
    "\n",
    "# execute the SQL statement\n",
    "allquery = engine.execute(stmt)\n",
    "\n",
    "# get rows from query into a pandas dataframe\n",
    "allqueryDF = pd.DataFrame(allquery.fetchall())"
   ]
  },
  {
   "cell_type": "code",
   "execution_count": 20,
   "metadata": {},
   "outputs": [
    {
     "data": {
      "text/plain": [
       "(2164542, 4)"
      ]
     },
     "execution_count": 20,
     "metadata": {},
     "output_type": "execute_result"
    }
   ],
   "source": [
    "allqueryDF.shape"
   ]
  },
  {
   "cell_type": "code",
   "execution_count": 21,
   "metadata": {},
   "outputs": [
    {
     "name": "stdout",
     "output_type": "stream",
     "text": [
      "The dataframse size on disk is 69.265344 MB\n"
     ]
    }
   ],
   "source": [
    "print(\"The dataframse size on disk is {} MB\".format(allqueryDF.values.nbytes/1e6))"
   ]
  },
  {
   "cell_type": "markdown",
   "metadata": {},
   "source": [
    "Name the columns, need to look into the difference between last_changed & last_updated"
   ]
  },
  {
   "cell_type": "code",
   "execution_count": 22,
   "metadata": {},
   "outputs": [],
   "source": [
    "allqueryDF.columns = ['domain', 'entity', 'state', 'last_changed']"
   ]
  },
  {
   "cell_type": "code",
   "execution_count": 23,
   "metadata": {},
   "outputs": [
    {
     "data": {
      "text/html": [
       "<div>\n",
       "<style scoped>\n",
       "    .dataframe tbody tr th:only-of-type {\n",
       "        vertical-align: middle;\n",
       "    }\n",
       "\n",
       "    .dataframe tbody tr th {\n",
       "        vertical-align: top;\n",
       "    }\n",
       "\n",
       "    .dataframe thead th {\n",
       "        text-align: right;\n",
       "    }\n",
       "</style>\n",
       "<table border=\"1\" class=\"dataframe\">\n",
       "  <thead>\n",
       "    <tr style=\"text-align: right;\">\n",
       "      <th></th>\n",
       "      <th>domain</th>\n",
       "      <th>entity</th>\n",
       "      <th>state</th>\n",
       "      <th>last_changed</th>\n",
       "    </tr>\n",
       "  </thead>\n",
       "  <tbody>\n",
       "    <tr>\n",
       "      <th>0</th>\n",
       "      <td>sun</td>\n",
       "      <td>sun.sun</td>\n",
       "      <td>above_horizon</td>\n",
       "      <td>2017-07-11 10:28:16.677853</td>\n",
       "    </tr>\n",
       "    <tr>\n",
       "      <th>1</th>\n",
       "      <td>zone</td>\n",
       "      <td>zone.work</td>\n",
       "      <td>zoning</td>\n",
       "      <td>2017-07-11 10:28:16.679145</td>\n",
       "    </tr>\n",
       "    <tr>\n",
       "      <th>2</th>\n",
       "      <td>zone</td>\n",
       "      <td>zone.home</td>\n",
       "      <td>zoning</td>\n",
       "      <td>2017-07-11 10:28:16.680212</td>\n",
       "    </tr>\n",
       "    <tr>\n",
       "      <th>3</th>\n",
       "      <td>zone</td>\n",
       "      <td>zone.redhill</td>\n",
       "      <td>zoning</td>\n",
       "      <td>2017-07-11 10:28:16.681305</td>\n",
       "    </tr>\n",
       "    <tr>\n",
       "      <th>4</th>\n",
       "      <td>zone</td>\n",
       "      <td>zone.waterloo</td>\n",
       "      <td>zoning</td>\n",
       "      <td>2017-07-11 10:28:16.682356</td>\n",
       "    </tr>\n",
       "  </tbody>\n",
       "</table>\n",
       "</div>"
      ],
      "text/plain": [
       "  domain         entity          state                last_changed\n",
       "0    sun        sun.sun  above_horizon  2017-07-11 10:28:16.677853\n",
       "1   zone      zone.work         zoning  2017-07-11 10:28:16.679145\n",
       "2   zone      zone.home         zoning  2017-07-11 10:28:16.680212\n",
       "3   zone   zone.redhill         zoning  2017-07-11 10:28:16.681305\n",
       "4   zone  zone.waterloo         zoning  2017-07-11 10:28:16.682356"
      ]
     },
     "execution_count": 23,
     "metadata": {},
     "output_type": "execute_result"
    }
   ],
   "source": [
    "allqueryDF.head()"
   ]
  },
  {
   "cell_type": "markdown",
   "metadata": {},
   "source": [
    "Lets copy the master df in case we want to recover the original.\n",
    "Also we would like to know if states are numerical or not"
   ]
  },
  {
   "cell_type": "code",
   "execution_count": 24,
   "metadata": {},
   "outputs": [],
   "source": [
    "df = allqueryDF"
   ]
  },
  {
   "cell_type": "code",
   "execution_count": 25,
   "metadata": {},
   "outputs": [
    {
     "data": {
      "text/plain": [
       "'2017-07-11 10:28:16.677853'"
      ]
     },
     "execution_count": 25,
     "metadata": {},
     "output_type": "execute_result"
    }
   ],
   "source": [
    "df.iloc[0]['last_changed']"
   ]
  },
  {
   "cell_type": "code",
   "execution_count": 26,
   "metadata": {},
   "outputs": [
    {
     "data": {
      "text/plain": [
       "'2017-10-30 05:42:13.808671'"
      ]
     },
     "execution_count": 26,
     "metadata": {},
     "output_type": "execute_result"
    }
   ],
   "source": [
    "df.iloc[-1]['last_changed']"
   ]
  },
  {
   "cell_type": "markdown",
   "metadata": {},
   "source": [
    "Appears to not be returning complete date range I expect in the db"
   ]
  },
  {
   "cell_type": "code",
   "execution_count": 27,
   "metadata": {},
   "outputs": [],
   "source": [
    "df['numerical'] = df['state'].apply(lambda x: isfloat(x)) "
   ]
  },
  {
   "cell_type": "code",
   "execution_count": 28,
   "metadata": {},
   "outputs": [],
   "source": [
    "#allqueryDF['state'] = allqueryDF['state'].apply(lambda state: parse_state(state))  # Lets convert the numericals into floats "
   ]
  },
  {
   "cell_type": "code",
   "execution_count": 29,
   "metadata": {},
   "outputs": [
    {
     "data": {
      "text/html": [
       "<div>\n",
       "<style scoped>\n",
       "    .dataframe tbody tr th:only-of-type {\n",
       "        vertical-align: middle;\n",
       "    }\n",
       "\n",
       "    .dataframe tbody tr th {\n",
       "        vertical-align: top;\n",
       "    }\n",
       "\n",
       "    .dataframe thead th {\n",
       "        text-align: right;\n",
       "    }\n",
       "</style>\n",
       "<table border=\"1\" class=\"dataframe\">\n",
       "  <thead>\n",
       "    <tr style=\"text-align: right;\">\n",
       "      <th></th>\n",
       "      <th>domain</th>\n",
       "      <th>entity</th>\n",
       "      <th>state</th>\n",
       "      <th>last_changed</th>\n",
       "      <th>numerical</th>\n",
       "    </tr>\n",
       "  </thead>\n",
       "  <tbody>\n",
       "    <tr>\n",
       "      <th>2164537</th>\n",
       "      <td>sensor</td>\n",
       "      <td>sensor.bme680humidity</td>\n",
       "      <td>44.61</td>\n",
       "      <td>2017-10-30 05:42:12.800189</td>\n",
       "      <td>True</td>\n",
       "    </tr>\n",
       "    <tr>\n",
       "      <th>2164538</th>\n",
       "      <td>sensor</td>\n",
       "      <td>sensor.bme680air_qual</td>\n",
       "      <td>98.08</td>\n",
       "      <td>2017-10-30 05:42:12.867009</td>\n",
       "      <td>True</td>\n",
       "    </tr>\n",
       "    <tr>\n",
       "      <th>2164539</th>\n",
       "      <td>sensor</td>\n",
       "      <td>sensor.bme680humidity</td>\n",
       "      <td>44.57</td>\n",
       "      <td>2017-10-30 05:42:13.777365</td>\n",
       "      <td>True</td>\n",
       "    </tr>\n",
       "    <tr>\n",
       "      <th>2164540</th>\n",
       "      <td>sensor</td>\n",
       "      <td>sensor.bme680pressure</td>\n",
       "      <td>1032.95</td>\n",
       "      <td>2017-10-30 05:42:13.797559</td>\n",
       "      <td>True</td>\n",
       "    </tr>\n",
       "    <tr>\n",
       "      <th>2164541</th>\n",
       "      <td>sensor</td>\n",
       "      <td>sensor.bme680air_qual</td>\n",
       "      <td>98.1</td>\n",
       "      <td>2017-10-30 05:42:13.808671</td>\n",
       "      <td>True</td>\n",
       "    </tr>\n",
       "  </tbody>\n",
       "</table>\n",
       "</div>"
      ],
      "text/plain": [
       "         domain                 entity    state                last_changed  \\\n",
       "2164537  sensor  sensor.bme680humidity    44.61  2017-10-30 05:42:12.800189   \n",
       "2164538  sensor  sensor.bme680air_qual    98.08  2017-10-30 05:42:12.867009   \n",
       "2164539  sensor  sensor.bme680humidity    44.57  2017-10-30 05:42:13.777365   \n",
       "2164540  sensor  sensor.bme680pressure  1032.95  2017-10-30 05:42:13.797559   \n",
       "2164541  sensor  sensor.bme680air_qual     98.1  2017-10-30 05:42:13.808671   \n",
       "\n",
       "         numerical  \n",
       "2164537       True  \n",
       "2164538       True  \n",
       "2164539       True  \n",
       "2164540       True  \n",
       "2164541       True  "
      ]
     },
     "execution_count": 29,
     "metadata": {},
     "output_type": "execute_result"
    }
   ],
   "source": [
    "df.tail()"
   ]
  },
  {
   "cell_type": "markdown",
   "metadata": {},
   "source": [
    "Convert to multi-index"
   ]
  },
  {
   "cell_type": "code",
   "execution_count": 30,
   "metadata": {},
   "outputs": [
    {
     "data": {
      "text/html": [
       "<div>\n",
       "<style scoped>\n",
       "    .dataframe tbody tr th:only-of-type {\n",
       "        vertical-align: middle;\n",
       "    }\n",
       "\n",
       "    .dataframe tbody tr th {\n",
       "        vertical-align: top;\n",
       "    }\n",
       "\n",
       "    .dataframe thead th {\n",
       "        text-align: right;\n",
       "    }\n",
       "</style>\n",
       "<table border=\"1\" class=\"dataframe\">\n",
       "  <thead>\n",
       "    <tr style=\"text-align: right;\">\n",
       "      <th></th>\n",
       "      <th></th>\n",
       "      <th></th>\n",
       "      <th></th>\n",
       "      <th>state</th>\n",
       "    </tr>\n",
       "    <tr>\n",
       "      <th>domain</th>\n",
       "      <th>entity</th>\n",
       "      <th>numerical</th>\n",
       "      <th>last_changed</th>\n",
       "      <th></th>\n",
       "    </tr>\n",
       "  </thead>\n",
       "  <tbody>\n",
       "    <tr>\n",
       "      <th>sun</th>\n",
       "      <th>sun.sun</th>\n",
       "      <th>False</th>\n",
       "      <th>2017-07-11 10:28:16.677853</th>\n",
       "      <td>above_horizon</td>\n",
       "    </tr>\n",
       "    <tr>\n",
       "      <th rowspan=\"4\" valign=\"top\">zone</th>\n",
       "      <th>zone.work</th>\n",
       "      <th>False</th>\n",
       "      <th>2017-07-11 10:28:16.679145</th>\n",
       "      <td>zoning</td>\n",
       "    </tr>\n",
       "    <tr>\n",
       "      <th>zone.home</th>\n",
       "      <th>False</th>\n",
       "      <th>2017-07-11 10:28:16.680212</th>\n",
       "      <td>zoning</td>\n",
       "    </tr>\n",
       "    <tr>\n",
       "      <th>zone.redhill</th>\n",
       "      <th>False</th>\n",
       "      <th>2017-07-11 10:28:16.681305</th>\n",
       "      <td>zoning</td>\n",
       "    </tr>\n",
       "    <tr>\n",
       "      <th>zone.waterloo</th>\n",
       "      <th>False</th>\n",
       "      <th>2017-07-11 10:28:16.682356</th>\n",
       "      <td>zoning</td>\n",
       "    </tr>\n",
       "  </tbody>\n",
       "</table>\n",
       "</div>"
      ],
      "text/plain": [
       "                                                                   state\n",
       "domain entity        numerical last_changed                             \n",
       "sun    sun.sun       False     2017-07-11 10:28:16.677853  above_horizon\n",
       "zone   zone.work     False     2017-07-11 10:28:16.679145         zoning\n",
       "       zone.home     False     2017-07-11 10:28:16.680212         zoning\n",
       "       zone.redhill  False     2017-07-11 10:28:16.681305         zoning\n",
       "       zone.waterloo False     2017-07-11 10:28:16.682356         zoning"
      ]
     },
     "execution_count": 30,
     "metadata": {},
     "output_type": "execute_result"
    }
   ],
   "source": [
    "df = df[['domain', 'entity', 'last_changed', 'numerical', 'state']].set_index(['domain', 'entity', 'numerical', 'last_changed'])\n",
    "df.head()"
   ]
  },
  {
   "cell_type": "markdown",
   "metadata": {},
   "source": [
    "## Numerical data\n",
    "lets do a query for numerical sensor"
   ]
  },
  {
   "cell_type": "code",
   "execution_count": 31,
   "metadata": {},
   "outputs": [
    {
     "name": "stderr",
     "output_type": "stream",
     "text": [
      "/anaconda3/lib/python3.6/site-packages/ipykernel_launcher.py:2: SettingWithCopyWarning: \n",
      "A value is trying to be set on a copy of a slice from a DataFrame.\n",
      "Try using .loc[row_indexer,col_indexer] = value instead\n",
      "\n",
      "See the caveats in the documentation: http://pandas.pydata.org/pandas-docs/stable/indexing.html#indexing-view-versus-copy\n",
      "  \n"
     ]
    },
    {
     "data": {
      "text/html": [
       "<div>\n",
       "<style scoped>\n",
       "    .dataframe tbody tr th:only-of-type {\n",
       "        vertical-align: middle;\n",
       "    }\n",
       "\n",
       "    .dataframe tbody tr th {\n",
       "        vertical-align: top;\n",
       "    }\n",
       "\n",
       "    .dataframe thead th {\n",
       "        text-align: right;\n",
       "    }\n",
       "</style>\n",
       "<table border=\"1\" class=\"dataframe\">\n",
       "  <thead>\n",
       "    <tr style=\"text-align: right;\">\n",
       "      <th></th>\n",
       "      <th></th>\n",
       "      <th></th>\n",
       "      <th></th>\n",
       "      <th>state</th>\n",
       "    </tr>\n",
       "    <tr>\n",
       "      <th>domain</th>\n",
       "      <th>entity</th>\n",
       "      <th>numerical</th>\n",
       "      <th>last_changed</th>\n",
       "      <th></th>\n",
       "    </tr>\n",
       "  </thead>\n",
       "  <tbody>\n",
       "    <tr>\n",
       "      <th rowspan=\"5\" valign=\"top\">sensor</th>\n",
       "      <th>sensor.next_train_to_wat</th>\n",
       "      <th>True</th>\n",
       "      <th>2017-07-11 10:28:17.666803</th>\n",
       "      <td>76.0</td>\n",
       "    </tr>\n",
       "    <tr>\n",
       "      <th>sensor.next_bus_to_new_malden</th>\n",
       "      <th>True</th>\n",
       "      <th>2017-07-11 10:28:17.707308</th>\n",
       "      <td>73.0</td>\n",
       "    </tr>\n",
       "    <tr>\n",
       "      <th>sensor.darksky_sensor_temperature</th>\n",
       "      <th>True</th>\n",
       "      <th>2017-07-11 10:28:18.327575</th>\n",
       "      <td>18.8</td>\n",
       "    </tr>\n",
       "    <tr>\n",
       "      <th>sensor.darksky_sensor_precip_probability</th>\n",
       "      <th>True</th>\n",
       "      <th>2017-07-11 10:28:18.333331</th>\n",
       "      <td>10.0</td>\n",
       "    </tr>\n",
       "    <tr>\n",
       "      <th>sensor.iphone_battery_level</th>\n",
       "      <th>True</th>\n",
       "      <th>2017-07-11 10:28:19.729009</th>\n",
       "      <td>77.0</td>\n",
       "    </tr>\n",
       "  </tbody>\n",
       "</table>\n",
       "</div>"
      ],
      "text/plain": [
       "                                                                                      state\n",
       "domain entity                                   numerical last_changed                     \n",
       "sensor sensor.next_train_to_wat                 True      2017-07-11 10:28:17.666803   76.0\n",
       "       sensor.next_bus_to_new_malden            True      2017-07-11 10:28:17.707308   73.0\n",
       "       sensor.darksky_sensor_temperature        True      2017-07-11 10:28:18.327575   18.8\n",
       "       sensor.darksky_sensor_precip_probability True      2017-07-11 10:28:18.333331   10.0\n",
       "       sensor.iphone_battery_level              True      2017-07-11 10:28:19.729009   77.0"
      ]
     },
     "execution_count": 31,
     "metadata": {},
     "output_type": "execute_result"
    }
   ],
   "source": [
    "num_sensors_df = df.query('domain == \"sensor\" & numerical == True')\n",
    "num_sensors_df['state'] = num_sensors_df['state'].astype('float')\n",
    "num_sensors_df.head()"
   ]
  },
  {
   "cell_type": "code",
   "execution_count": 32,
   "metadata": {},
   "outputs": [
    {
     "name": "stdout",
     "output_type": "stream",
     "text": [
      "52\n"
     ]
    },
    {
     "data": {
      "text/plain": [
       "['sensor.next_train_to_wat',\n",
       " 'sensor.next_bus_to_new_malden',\n",
       " 'sensor.darksky_sensor_temperature',\n",
       " 'sensor.darksky_sensor_precip_probability',\n",
       " 'sensor.iphone_battery_level',\n",
       " 'sensor.robins_iphone_battery_level',\n",
       " 'sensor.blink_blink_camera_percy_temperature',\n",
       " 'sensor.blink_blink_camera_percy_notifications',\n",
       " 'sensor.next_train_in',\n",
       " 'sensor.home_to_waterloo',\n",
       " 'sensor.work_to_home',\n",
       " 'sensor.home_to_work',\n",
       " 'sensor.network_up',\n",
       " 'sensor.cpu_load_total',\n",
       " 'sensor.volume_used_volume_1',\n",
       " 'sensor.memory_usage_real',\n",
       " 'sensor.speedtest_download',\n",
       " 'sensor.next_bus_to_wantage',\n",
       " 'sensor.next_train_to_wim',\n",
       " 'sensor.next_train_to_csn',\n",
       " 'sensor.next_bus_in',\n",
       " 'sensor.hall_light_sensor',\n",
       " 'sensor.hall_temperature',\n",
       " 'sensor.living_room_temperature',\n",
       " 'sensor.living_room_light_sensor',\n",
       " 'sensor.bedroom_light_sensor',\n",
       " 'sensor.bedroom_temperature',\n",
       " 'sensor.remote_living_room_button',\n",
       " 'sensor.living_room_remote_status',\n",
       " 'sensor.average_indoor_temp',\n",
       " 'sensor.max_sensor',\n",
       " 'sensor.mean_temperature',\n",
       " 'sensor.mqtt_sensor',\n",
       " 'sensor.mqtt_sensor_2',\n",
       " 'sensor.wipy_temperature',\n",
       " 'sensor.wipy_humidity',\n",
       " 'sensor.exchange_rate_1_btc',\n",
       " 'sensor.wipy_memory',\n",
       " 'sensor.next_train_to_eus',\n",
       " 'sensor.electric_charger_distance',\n",
       " 'sensor.breaches_robmarkcolegmailcom',\n",
       " 'sensor.breaches_robinmarkcole82gmailcom',\n",
       " 'sensor.breaches_macmary86hotmailit',\n",
       " 'sensor.breaches_netty5000googlemailcom',\n",
       " 'sensor.breaches_netty5000hotmailcom',\n",
       " 'sensor.breaches_fredallcardgmailcom',\n",
       " 'sensor.living_room_temperature_2',\n",
       " 'sensor.living_room_light_level',\n",
       " 'sensor.bme680temperature',\n",
       " 'sensor.bme680humidity',\n",
       " 'sensor.bme680pressure',\n",
       " 'sensor.bme680air_qual']"
      ]
     },
     "execution_count": 32,
     "metadata": {},
     "output_type": "execute_result"
    }
   ],
   "source": [
    "num_sensors_list = list(num_sensors_df.index.get_level_values('entity').unique())\n",
    "print(len(num_sensors_list))\n",
    "num_sensors_list"
   ]
  },
  {
   "cell_type": "markdown",
   "metadata": {},
   "source": [
    "Lets do a pivot to get sensors in columns to make plotting convenient. Lets also forward fill the data"
   ]
  },
  {
   "cell_type": "code",
   "execution_count": 33,
   "metadata": {},
   "outputs": [],
   "source": [
    "num_sensors_df = num_sensors_df.pivot_table(index='last_changed', columns='entity', values='state')\n",
    "num_sensors_df = num_sensors_df.fillna(method='ffill')\n",
    "num_sensors_df = num_sensors_df.dropna() # drop any remaining nan\n",
    "num_sensors_df.index = pd.to_datetime(num_sensors_df.index)"
   ]
  },
  {
   "cell_type": "code",
   "execution_count": 36,
   "metadata": {},
   "outputs": [
    {
     "data": {
      "text/plain": [
       "[<matplotlib.lines.Line2D at 0x1392f3278>]"
      ]
     },
     "execution_count": 36,
     "metadata": {},
     "output_type": "execute_result"
    },
    {
     "data": {
      "image/png": "[encoded data removed]",
      "text/plain": [
       "<matplotlib.figure.Figure at 0x1389dcf28>"
      ]
     },
     "metadata": {},
     "output_type": "display_data"
    }
   ],
   "source": [
    "height=6\n",
    "width=14\n",
    "figsize=(width, height)\n",
    "\n",
    "df_plot = num_sensors_df['sensor.living_room_temperature']\n",
    "hours_to_plot = 24\n",
    "xfmt = md.DateFormatter('%Y/%m/%d') # %m-\n",
    "\n",
    "f, ax = plt.subplots(1, 1, figsize=(width, height))\n",
    "ax.plot(df_plot)\n",
    "#ax.xaxis.set_major_formatter(xfmt)\n",
    "#ax.set_xlim(df_plot.index[-1]-dt.timedelta(hours=hours_to_plot), df_plot.index[-1]);"
   ]
  },
  {
   "cell_type": "code",
   "execution_count": 37,
   "metadata": {},
   "outputs": [
    {
     "data": {
      "image/png": "[encoded data removed]",
      "text/plain": [
       "<matplotlib.figure.Figure at 0x139300ac8>"
      ]
     },
     "metadata": {},
     "output_type": "display_data"
    }
   ],
   "source": [
    "sns_plot = sns.pairplot(num_sensors_df[['sensor.living_room_temperature',\n",
    "'sensor.bedroom_temperature',\n",
    "'sensor.hall_temperature', \n",
    "'sensor.darksky_sensor_temperature']]);\n",
    "\n",
    "sns_plot.savefig(\"pairplot.png\")"
   ]
  },
  {
   "cell_type": "markdown",
   "metadata": {},
   "source": [
    "## Single temperature sensor"
   ]
  },
  {
   "cell_type": "code",
   "execution_count": 38,
   "metadata": {},
   "outputs": [],
   "source": [
    "stmt = text(\"\"\"\n",
    "SELECT last_changed, state \n",
    "FROM states \n",
    "WHERE NOT state='unknown' \n",
    "AND states.entity_id IS \"sensor.darksky_sensor_temperature\"\n",
    "\"\"\")\n",
    "\n",
    "query = engine.execute(stmt)\n",
    "\n",
    "# get rows from query into a pandas dataframe\n",
    "darksky_sensor_temperature = pd.DataFrame(query.fetchall())"
   ]
  },
  {
   "cell_type": "code",
   "execution_count": 39,
   "metadata": {},
   "outputs": [
    {
     "data": {
      "text/html": [
       "<div>\n",
       "<style scoped>\n",
       "    .dataframe tbody tr th:only-of-type {\n",
       "        vertical-align: middle;\n",
       "    }\n",
       "\n",
       "    .dataframe tbody tr th {\n",
       "        vertical-align: top;\n",
       "    }\n",
       "\n",
       "    .dataframe thead th {\n",
       "        text-align: right;\n",
       "    }\n",
       "</style>\n",
       "<table border=\"1\" class=\"dataframe\">\n",
       "  <thead>\n",
       "    <tr style=\"text-align: right;\">\n",
       "      <th></th>\n",
       "      <th>state</th>\n",
       "    </tr>\n",
       "    <tr>\n",
       "      <th>last_changed</th>\n",
       "      <th></th>\n",
       "    </tr>\n",
       "  </thead>\n",
       "  <tbody>\n",
       "    <tr>\n",
       "      <th>2017-07-11 10:28:18.327575</th>\n",
       "      <td>18.8</td>\n",
       "    </tr>\n",
       "    <tr>\n",
       "      <th>2017-07-11 10:30:22.554858</th>\n",
       "      <td>19.4</td>\n",
       "    </tr>\n",
       "    <tr>\n",
       "      <th>2017-07-11 11:30:10.888830</th>\n",
       "      <td>19.6</td>\n",
       "    </tr>\n",
       "    <tr>\n",
       "      <th>2017-07-11 12:01:04.508564</th>\n",
       "      <td>19.8</td>\n",
       "    </tr>\n",
       "    <tr>\n",
       "      <th>2017-07-11 12:29:54.466457</th>\n",
       "      <td>19.3</td>\n",
       "    </tr>\n",
       "  </tbody>\n",
       "</table>\n",
       "</div>"
      ],
      "text/plain": [
       "                            state\n",
       "last_changed                     \n",
       "2017-07-11 10:28:18.327575   18.8\n",
       "2017-07-11 10:30:22.554858   19.4\n",
       "2017-07-11 11:30:10.888830   19.6\n",
       "2017-07-11 12:01:04.508564   19.8\n",
       "2017-07-11 12:29:54.466457   19.3"
      ]
     },
     "execution_count": 39,
     "metadata": {},
     "output_type": "execute_result"
    }
   ],
   "source": [
    "darksky_sensor_temperature.columns = ['last_changed', 'state']\n",
    "darksky_sensor_temperature.set_index('last_changed', inplace=True)\n",
    "darksky_sensor_temperature.index = pd.to_datetime(darksky_sensor_temperature.index)\n",
    "darksky_sensor_temperature['state'] = darksky_sensor_temperature['state'].astype('float')\n",
    "darksky_sensor_temperature.head()"
   ]
  },
  {
   "cell_type": "code",
   "execution_count": 40,
   "metadata": {},
   "outputs": [
    {
     "data": {
      "text/plain": [
       "<matplotlib.axes._subplots.AxesSubplot at 0x13452e908>"
      ]
     },
     "execution_count": 40,
     "metadata": {},
     "output_type": "execute_result"
    },
    {
     "data": {
      "image/png": "[encoded data removed]",
      "text/plain": [
       "<matplotlib.figure.Figure at 0x13b73f588>"
      ]
     },
     "metadata": {},
     "output_type": "display_data"
    }
   ],
   "source": [
    "darksky_sensor_temperature.plot()"
   ]
  },
  {
   "cell_type": "markdown",
   "metadata": {},
   "source": [
    "### Motion at home sensor\n",
    "Lets focus on the binary_sensor.motion_at_home which is a sensor that indicates if there is any activity at home. In the pivot_table apply np.min to prevent np.mean (the default) from returning 0.5 in some cases (why is this?)"
   ]
  },
  {
   "cell_type": "code",
   "execution_count": 41,
   "metadata": {},
   "outputs": [
    {
     "name": "stdout",
     "output_type": "stream",
     "text": [
      "10\n"
     ]
    },
    {
     "data": {
      "text/plain": [
       "['binary_sensor.workday_sensor',\n",
       " 'binary_sensor.blink_blink_camera_percy_motion_enabled',\n",
       " 'binary_sensor.living_room_nest_protect_online',\n",
       " 'binary_sensor.blink_armed_status',\n",
       " 'binary_sensor.hall_motion_sensor',\n",
       " 'binary_sensor.bedroom_motion_sensor',\n",
       " 'binary_sensor.living_room_motion_sensor',\n",
       " 'binary_sensor.motion_at_home',\n",
       " 'binary_sensor.bayesianbinary',\n",
       " 'binary_sensor.in_bed_bayesian']"
      ]
     },
     "execution_count": 41,
     "metadata": {},
     "output_type": "execute_result"
    }
   ],
   "source": [
    "binary_sensors_df = df.query('domain == \"binary_sensor\"')\n",
    "binary_sensors_list = list(binary_sensors_df.index.get_level_values('entity').unique())\n",
    "print(len(binary_sensors_list))\n",
    "binary_sensors_list"
   ]
  },
  {
   "cell_type": "code",
   "execution_count": 42,
   "metadata": {},
   "outputs": [
    {
     "name": "stderr",
     "output_type": "stream",
     "text": [
      "/anaconda3/lib/python3.6/site-packages/ipykernel_launcher.py:1: SettingWithCopyWarning: \n",
      "A value is trying to be set on a copy of a slice from a DataFrame.\n",
      "Try using .loc[row_indexer,col_indexer] = value instead\n",
      "\n",
      "See the caveats in the documentation: http://pandas.pydata.org/pandas-docs/stable/indexing.html#indexing-view-versus-copy\n",
      "  \"\"\"Entry point for launching an IPython kernel.\n"
     ]
    }
   ],
   "source": [
    "binary_sensors_df['state'] = binary_sensors_df['state'].apply(lambda x: binary_state(x)) # Binarise"
   ]
  },
  {
   "cell_type": "code",
   "execution_count": 43,
   "metadata": {},
   "outputs": [],
   "source": [
    "binary_sensors_df = binary_sensors_df.pivot_table(index='last_changed', columns='entity', values='state')"
   ]
  },
  {
   "cell_type": "code",
   "execution_count": 44,
   "metadata": {},
   "outputs": [
    {
     "data": {
      "text/html": [
       "<div>\n",
       "<style scoped>\n",
       "    .dataframe tbody tr th:only-of-type {\n",
       "        vertical-align: middle;\n",
       "    }\n",
       "\n",
       "    .dataframe tbody tr th {\n",
       "        vertical-align: top;\n",
       "    }\n",
       "\n",
       "    .dataframe thead th {\n",
       "        text-align: right;\n",
       "    }\n",
       "</style>\n",
       "<table border=\"1\" class=\"dataframe\">\n",
       "  <thead>\n",
       "    <tr style=\"text-align: right;\">\n",
       "      <th>entity</th>\n",
       "      <th>binary_sensor.bayesianbinary</th>\n",
       "      <th>binary_sensor.bedroom_motion_sensor</th>\n",
       "      <th>binary_sensor.blink_armed_status</th>\n",
       "      <th>binary_sensor.blink_blink_camera_percy_motion_enabled</th>\n",
       "      <th>binary_sensor.hall_motion_sensor</th>\n",
       "      <th>binary_sensor.in_bed_bayesian</th>\n",
       "      <th>binary_sensor.living_room_motion_sensor</th>\n",
       "      <th>binary_sensor.living_room_nest_protect_online</th>\n",
       "      <th>binary_sensor.motion_at_home</th>\n",
       "      <th>binary_sensor.workday_sensor</th>\n",
       "    </tr>\n",
       "    <tr>\n",
       "      <th>last_changed</th>\n",
       "      <th></th>\n",
       "      <th></th>\n",
       "      <th></th>\n",
       "      <th></th>\n",
       "      <th></th>\n",
       "      <th></th>\n",
       "      <th></th>\n",
       "      <th></th>\n",
       "      <th></th>\n",
       "      <th></th>\n",
       "    </tr>\n",
       "  </thead>\n",
       "  <tbody>\n",
       "    <tr>\n",
       "      <th>2017-07-11 10:28:17.460144</th>\n",
       "      <td>None</td>\n",
       "      <td>None</td>\n",
       "      <td>None</td>\n",
       "      <td>None</td>\n",
       "      <td>None</td>\n",
       "      <td>None</td>\n",
       "      <td>None</td>\n",
       "      <td>None</td>\n",
       "      <td>None</td>\n",
       "      <td>True</td>\n",
       "    </tr>\n",
       "    <tr>\n",
       "      <th>2017-07-11 10:28:18.898022</th>\n",
       "      <td>None</td>\n",
       "      <td>None</td>\n",
       "      <td>None</td>\n",
       "      <td>False</td>\n",
       "      <td>None</td>\n",
       "      <td>None</td>\n",
       "      <td>None</td>\n",
       "      <td>None</td>\n",
       "      <td>None</td>\n",
       "      <td>None</td>\n",
       "    </tr>\n",
       "    <tr>\n",
       "      <th>2017-07-11 10:28:18.951186</th>\n",
       "      <td>None</td>\n",
       "      <td>None</td>\n",
       "      <td>None</td>\n",
       "      <td>None</td>\n",
       "      <td>None</td>\n",
       "      <td>None</td>\n",
       "      <td>None</td>\n",
       "      <td>True</td>\n",
       "      <td>None</td>\n",
       "      <td>None</td>\n",
       "    </tr>\n",
       "    <tr>\n",
       "      <th>2017-07-11 10:28:19.047789</th>\n",
       "      <td>None</td>\n",
       "      <td>None</td>\n",
       "      <td>False</td>\n",
       "      <td>None</td>\n",
       "      <td>None</td>\n",
       "      <td>None</td>\n",
       "      <td>None</td>\n",
       "      <td>None</td>\n",
       "      <td>None</td>\n",
       "      <td>None</td>\n",
       "    </tr>\n",
       "    <tr>\n",
       "      <th>2017-07-11 12:00:03.023620</th>\n",
       "      <td>None</td>\n",
       "      <td>None</td>\n",
       "      <td>None</td>\n",
       "      <td>True</td>\n",
       "      <td>None</td>\n",
       "      <td>None</td>\n",
       "      <td>None</td>\n",
       "      <td>None</td>\n",
       "      <td>None</td>\n",
       "      <td>None</td>\n",
       "    </tr>\n",
       "  </tbody>\n",
       "</table>\n",
       "</div>"
      ],
      "text/plain": [
       "entity                     binary_sensor.bayesianbinary  \\\n",
       "last_changed                                              \n",
       "2017-07-11 10:28:17.460144                         None   \n",
       "2017-07-11 10:28:18.898022                         None   \n",
       "2017-07-11 10:28:18.951186                         None   \n",
       "2017-07-11 10:28:19.047789                         None   \n",
       "2017-07-11 12:00:03.023620                         None   \n",
       "\n",
       "entity                     binary_sensor.bedroom_motion_sensor  \\\n",
       "last_changed                                                     \n",
       "2017-07-11 10:28:17.460144                                None   \n",
       "2017-07-11 10:28:18.898022                                None   \n",
       "2017-07-11 10:28:18.951186                                None   \n",
       "2017-07-11 10:28:19.047789                                None   \n",
       "2017-07-11 12:00:03.023620                                None   \n",
       "\n",
       "entity                     binary_sensor.blink_armed_status  \\\n",
       "last_changed                                                  \n",
       "2017-07-11 10:28:17.460144                             None   \n",
       "2017-07-11 10:28:18.898022                             None   \n",
       "2017-07-11 10:28:18.951186                             None   \n",
       "2017-07-11 10:28:19.047789                            False   \n",
       "2017-07-11 12:00:03.023620                             None   \n",
       "\n",
       "entity                     binary_sensor.blink_blink_camera_percy_motion_enabled  \\\n",
       "last_changed                                                                       \n",
       "2017-07-11 10:28:17.460144                                               None      \n",
       "2017-07-11 10:28:18.898022                                              False      \n",
       "2017-07-11 10:28:18.951186                                               None      \n",
       "2017-07-11 10:28:19.047789                                               None      \n",
       "2017-07-11 12:00:03.023620                                               True      \n",
       "\n",
       "entity                     binary_sensor.hall_motion_sensor  \\\n",
       "last_changed                                                  \n",
       "2017-07-11 10:28:17.460144                             None   \n",
       "2017-07-11 10:28:18.898022                             None   \n",
       "2017-07-11 10:28:18.951186                             None   \n",
       "2017-07-11 10:28:19.047789                             None   \n",
       "2017-07-11 12:00:03.023620                             None   \n",
       "\n",
       "entity                     binary_sensor.in_bed_bayesian  \\\n",
       "last_changed                                               \n",
       "2017-07-11 10:28:17.460144                          None   \n",
       "2017-07-11 10:28:18.898022                          None   \n",
       "2017-07-11 10:28:18.951186                          None   \n",
       "2017-07-11 10:28:19.047789                          None   \n",
       "2017-07-11 12:00:03.023620                          None   \n",
       "\n",
       "entity                     binary_sensor.living_room_motion_sensor  \\\n",
       "last_changed                                                         \n",
       "2017-07-11 10:28:17.460144                                    None   \n",
       "2017-07-11 10:28:18.898022                                    None   \n",
       "2017-07-11 10:28:18.951186                                    None   \n",
       "2017-07-11 10:28:19.047789                                    None   \n",
       "2017-07-11 12:00:03.023620                                    None   \n",
       "\n",
       "entity                     binary_sensor.living_room_nest_protect_online  \\\n",
       "last_changed                                                               \n",
       "2017-07-11 10:28:17.460144                                          None   \n",
       "2017-07-11 10:28:18.898022                                          None   \n",
       "2017-07-11 10:28:18.951186                                          True   \n",
       "2017-07-11 10:28:19.047789                                          None   \n",
       "2017-07-11 12:00:03.023620                                          None   \n",
       "\n",
       "entity                     binary_sensor.motion_at_home  \\\n",
       "last_changed                                              \n",
       "2017-07-11 10:28:17.460144                         None   \n",
       "2017-07-11 10:28:18.898022                         None   \n",
       "2017-07-11 10:28:18.951186                         None   \n",
       "2017-07-11 10:28:19.047789                         None   \n",
       "2017-07-11 12:00:03.023620                         None   \n",
       "\n",
       "entity                     binary_sensor.workday_sensor  \n",
       "last_changed                                             \n",
       "2017-07-11 10:28:17.460144                         True  \n",
       "2017-07-11 10:28:18.898022                         None  \n",
       "2017-07-11 10:28:18.951186                         None  \n",
       "2017-07-11 10:28:19.047789                         None  \n",
       "2017-07-11 12:00:03.023620                         None  "
      ]
     },
     "execution_count": 44,
     "metadata": {},
     "output_type": "execute_result"
    }
   ],
   "source": [
    "binary_sensors_df.head()"
   ]
  },
  {
   "cell_type": "code",
   "execution_count": 45,
   "metadata": {},
   "outputs": [],
   "source": [
    "binary_sensors_df = binary_sensors_df.fillna(method='ffill')\n",
    "binary_sensors_df = binary_sensors_df.dropna() # drop any remaining nan"
   ]
  },
  {
   "cell_type": "markdown",
   "metadata": {},
   "source": [
    "Lets get only the motion sensor and put in a dataframe"
   ]
  },
  {
   "cell_type": "code",
   "execution_count": 46,
   "metadata": {},
   "outputs": [],
   "source": [
    "motion_df = binary_sensors_df[\"binary_sensor.motion_at_home\"].to_frame() "
   ]
  },
  {
   "cell_type": "code",
   "execution_count": 47,
   "metadata": {},
   "outputs": [],
   "source": [
    "motion_df.index = pd.to_datetime(motion_df.index)"
   ]
  },
  {
   "cell_type": "markdown",
   "metadata": {},
   "source": [
    "#### Create some features\n",
    "Lets get the weekday"
   ]
  },
  {
   "cell_type": "code",
   "execution_count": 48,
   "metadata": {},
   "outputs": [],
   "source": [
    "motion_df['weekday'] = motion_df.index.weekday_name"
   ]
  },
  {
   "cell_type": "code",
   "execution_count": 49,
   "metadata": {},
   "outputs": [],
   "source": [
    "motion_df['time'] = motion_df.index.time"
   ]
  },
  {
   "cell_type": "code",
   "execution_count": 50,
   "metadata": {},
   "outputs": [],
   "source": [
    "motion_df['is_weekday'] = motion_df.index.map(lambda x: is_weekday(x))"
   ]
  },
  {
   "cell_type": "code",
   "execution_count": 51,
   "metadata": {},
   "outputs": [],
   "source": [
    "motion_df = motion_df[motion_df['binary_sensor.motion_at_home'] == True] # Keep only true detection events"
   ]
  },
  {
   "cell_type": "code",
   "execution_count": 52,
   "metadata": {},
   "outputs": [],
   "source": [
    "motion_df['time_category'] = motion_df.index.map(lambda x: time_category(x))"
   ]
  },
  {
   "cell_type": "code",
   "execution_count": 53,
   "metadata": {},
   "outputs": [
    {
     "data": {
      "text/html": [
       "<div>\n",
       "<style scoped>\n",
       "    .dataframe tbody tr th:only-of-type {\n",
       "        vertical-align: middle;\n",
       "    }\n",
       "\n",
       "    .dataframe tbody tr th {\n",
       "        vertical-align: top;\n",
       "    }\n",
       "\n",
       "    .dataframe thead th {\n",
       "        text-align: right;\n",
       "    }\n",
       "</style>\n",
       "<table border=\"1\" class=\"dataframe\">\n",
       "  <thead>\n",
       "    <tr style=\"text-align: right;\">\n",
       "      <th></th>\n",
       "      <th>binary_sensor.motion_at_home</th>\n",
       "      <th>weekday</th>\n",
       "      <th>time</th>\n",
       "      <th>is_weekday</th>\n",
       "      <th>time_category</th>\n",
       "    </tr>\n",
       "    <tr>\n",
       "      <th>last_changed</th>\n",
       "      <th></th>\n",
       "      <th></th>\n",
       "      <th></th>\n",
       "      <th></th>\n",
       "      <th></th>\n",
       "    </tr>\n",
       "  </thead>\n",
       "  <tbody>\n",
       "    <tr>\n",
       "      <th>2017-09-17 06:22:30.952383</th>\n",
       "      <td>True</td>\n",
       "      <td>Sunday</td>\n",
       "      <td>06:22:30.952383</td>\n",
       "      <td>False</td>\n",
       "      <td>morning</td>\n",
       "    </tr>\n",
       "    <tr>\n",
       "      <th>2017-09-17 06:24:14.926184</th>\n",
       "      <td>True</td>\n",
       "      <td>Sunday</td>\n",
       "      <td>06:24:14.926184</td>\n",
       "      <td>False</td>\n",
       "      <td>morning</td>\n",
       "    </tr>\n",
       "    <tr>\n",
       "      <th>2017-09-17 06:26:49.048484</th>\n",
       "      <td>True</td>\n",
       "      <td>Sunday</td>\n",
       "      <td>06:26:49.048484</td>\n",
       "      <td>False</td>\n",
       "      <td>morning</td>\n",
       "    </tr>\n",
       "    <tr>\n",
       "      <th>2017-09-17 06:27:07.053517</th>\n",
       "      <td>True</td>\n",
       "      <td>Sunday</td>\n",
       "      <td>06:27:07.053517</td>\n",
       "      <td>False</td>\n",
       "      <td>morning</td>\n",
       "    </tr>\n",
       "    <tr>\n",
       "      <th>2017-09-17 06:28:08.058714</th>\n",
       "      <td>True</td>\n",
       "      <td>Sunday</td>\n",
       "      <td>06:28:08.058714</td>\n",
       "      <td>False</td>\n",
       "      <td>morning</td>\n",
       "    </tr>\n",
       "  </tbody>\n",
       "</table>\n",
       "</div>"
      ],
      "text/plain": [
       "                           binary_sensor.motion_at_home weekday  \\\n",
       "last_changed                                                      \n",
       "2017-09-17 06:22:30.952383                         True  Sunday   \n",
       "2017-09-17 06:24:14.926184                         True  Sunday   \n",
       "2017-09-17 06:26:49.048484                         True  Sunday   \n",
       "2017-09-17 06:27:07.053517                         True  Sunday   \n",
       "2017-09-17 06:28:08.058714                         True  Sunday   \n",
       "\n",
       "                                       time is_weekday time_category  \n",
       "last_changed                                                          \n",
       "2017-09-17 06:22:30.952383  06:22:30.952383      False       morning  \n",
       "2017-09-17 06:24:14.926184  06:24:14.926184      False       morning  \n",
       "2017-09-17 06:26:49.048484  06:26:49.048484      False       morning  \n",
       "2017-09-17 06:27:07.053517  06:27:07.053517      False       morning  \n",
       "2017-09-17 06:28:08.058714  06:28:08.058714      False       morning  "
      ]
     },
     "execution_count": 53,
     "metadata": {},
     "output_type": "execute_result"
    }
   ],
   "source": [
    "motion_df.head()"
   ]
  },
  {
   "cell_type": "markdown",
   "metadata": {},
   "source": [
    "#### Analysis of motion data\n",
    "Try a facet grid to represent data https://seaborn.pydata.org/generated/seaborn.FacetGrid.html?highlight=facet#seaborn.FacetGrid\n",
    "Lets see if there is more motion at home on weekends."
   ]
  },
  {
   "cell_type": "code",
   "execution_count": 54,
   "metadata": {},
   "outputs": [
    {
     "data": {
      "text/plain": [
       "is_weekday\n",
       "False    1799\n",
       "True     2944\n",
       "Name: count, dtype: object"
      ]
     },
     "execution_count": 54,
     "metadata": {},
     "output_type": "execute_result"
    }
   ],
   "source": [
    "motion_df['binary_sensor.motion_at_home'].groupby(motion_df['is_weekday']).describe()['count']"
   ]
  },
  {
   "cell_type": "markdown",
   "metadata": {},
   "source": [
    "OK, so there is more activity at home on weekdays, but there are also 5 days in the working week and 2 in the weekend.\n",
    "\n",
    "Now, how about activity by weekday."
   ]
  },
  {
   "cell_type": "markdown",
   "metadata": {},
   "source": [
    "And activity by weekday and time category."
   ]
  },
  {
   "cell_type": "code",
   "execution_count": 55,
   "metadata": {},
   "outputs": [
    {
     "data": {
      "text/html": [
       "<div>\n",
       "<style scoped>\n",
       "    .dataframe tbody tr th:only-of-type {\n",
       "        vertical-align: middle;\n",
       "    }\n",
       "\n",
       "    .dataframe tbody tr th {\n",
       "        vertical-align: top;\n",
       "    }\n",
       "\n",
       "    .dataframe thead th {\n",
       "        text-align: right;\n",
       "    }\n",
       "</style>\n",
       "<table border=\"1\" class=\"dataframe\">\n",
       "  <thead>\n",
       "    <tr style=\"text-align: right;\">\n",
       "      <th>weekday</th>\n",
       "      <th>Friday</th>\n",
       "      <th>Monday</th>\n",
       "      <th>Saturday</th>\n",
       "      <th>Sunday</th>\n",
       "      <th>Thursday</th>\n",
       "      <th>Tuesday</th>\n",
       "      <th>Wednesday</th>\n",
       "    </tr>\n",
       "    <tr>\n",
       "      <th>time_category</th>\n",
       "      <th></th>\n",
       "      <th></th>\n",
       "      <th></th>\n",
       "      <th></th>\n",
       "      <th></th>\n",
       "      <th></th>\n",
       "      <th></th>\n",
       "    </tr>\n",
       "  </thead>\n",
       "  <tbody>\n",
       "    <tr>\n",
       "      <th>daytime</th>\n",
       "      <td>271</td>\n",
       "      <td>61</td>\n",
       "      <td>274</td>\n",
       "      <td>413</td>\n",
       "      <td>72</td>\n",
       "      <td>44</td>\n",
       "      <td>81</td>\n",
       "    </tr>\n",
       "    <tr>\n",
       "      <th>evening</th>\n",
       "      <td>199</td>\n",
       "      <td>176</td>\n",
       "      <td>79</td>\n",
       "      <td>151</td>\n",
       "      <td>215</td>\n",
       "      <td>202</td>\n",
       "      <td>243</td>\n",
       "    </tr>\n",
       "    <tr>\n",
       "      <th>morning</th>\n",
       "      <td>338</td>\n",
       "      <td>269</td>\n",
       "      <td>475</td>\n",
       "      <td>360</td>\n",
       "      <td>211</td>\n",
       "      <td>166</td>\n",
       "      <td>216</td>\n",
       "    </tr>\n",
       "    <tr>\n",
       "      <th>night</th>\n",
       "      <td>26</td>\n",
       "      <td>29</td>\n",
       "      <td>34</td>\n",
       "      <td>13</td>\n",
       "      <td>29</td>\n",
       "      <td>45</td>\n",
       "      <td>51</td>\n",
       "    </tr>\n",
       "  </tbody>\n",
       "</table>\n",
       "</div>"
      ],
      "text/plain": [
       "weekday        Friday  Monday  Saturday  Sunday  Thursday  Tuesday  Wednesday\n",
       "time_category                                                                \n",
       "daytime           271      61       274     413        72       44         81\n",
       "evening           199     176        79     151       215      202        243\n",
       "morning           338     269       475     360       211      166        216\n",
       "night              26      29        34      13        29       45         51"
      ]
     },
     "execution_count": 55,
     "metadata": {},
     "output_type": "execute_result"
    }
   ],
   "source": [
    "motion_df_gb = motion_df['binary_sensor.motion_at_home'].groupby([motion_df['weekday'], motion_df['time_category']]).sum().unstack()\n",
    "motion_df_gb.fillna(value=0, inplace=True)   # Replace NaN with 0\n",
    "motion_df_gb = motion_df_gb.astype('int')              # Ints rather than floats\n",
    "motion_df_gb = motion_df_gb.T\n",
    "motion_df_gb"
   ]
  },
  {
   "cell_type": "code",
   "execution_count": 56,
   "metadata": {},
   "outputs": [
    {
     "data": {
      "image/png": "[encoded data removed]",
      "text/plain": [
       "<matplotlib.figure.Figure at 0x13441f2e8>"
      ]
     },
     "metadata": {},
     "output_type": "display_data"
    }
   ],
   "source": [
    "fig, ax = plt.subplots(figsize=(8, 6))\n",
    "days_list = ['Monday', 'Tuesday', 'Wednesday', 'Thursday', 'Friday', 'Saturday', 'Sunday']\n",
    "times_list = ['morning', 'daytime', 'evening', 'night']\n",
    "ax = sns.heatmap(motion_df_gb[days_list].loc[times_list], annot=True, linewidths=.5, fmt=\"d\", ax=ax, cmap='Reds');\n",
    "ax.set_title('Activity at home by day and time category')\n",
    "fig.savefig('heatmap.jpg')"
   ]
  },
  {
   "cell_type": "markdown",
   "metadata": {},
   "source": [
    "## Bayesian sensor"
   ]
  },
  {
   "cell_type": "code",
   "execution_count": 57,
   "metadata": {},
   "outputs": [
    {
     "data": {
      "text/html": [
       "<div>\n",
       "<style scoped>\n",
       "    .dataframe tbody tr th:only-of-type {\n",
       "        vertical-align: middle;\n",
       "    }\n",
       "\n",
       "    .dataframe tbody tr th {\n",
       "        vertical-align: top;\n",
       "    }\n",
       "\n",
       "    .dataframe thead th {\n",
       "        text-align: right;\n",
       "    }\n",
       "</style>\n",
       "<table border=\"1\" class=\"dataframe\">\n",
       "  <thead>\n",
       "    <tr style=\"text-align: right;\">\n",
       "      <th></th>\n",
       "      <th></th>\n",
       "      <th></th>\n",
       "      <th></th>\n",
       "      <th>state</th>\n",
       "    </tr>\n",
       "    <tr>\n",
       "      <th>domain</th>\n",
       "      <th>entity</th>\n",
       "      <th>numerical</th>\n",
       "      <th>last_changed</th>\n",
       "      <th></th>\n",
       "    </tr>\n",
       "  </thead>\n",
       "  <tbody>\n",
       "    <tr>\n",
       "      <th rowspan=\"5\" valign=\"top\">binary_sensor</th>\n",
       "      <th rowspan=\"5\" valign=\"top\">binary_sensor.in_bed_bayesian</th>\n",
       "      <th rowspan=\"5\" valign=\"top\">False</th>\n",
       "      <th>2017-09-17 06:19:12.388015</th>\n",
       "      <td>off</td>\n",
       "    </tr>\n",
       "    <tr>\n",
       "      <th>2017-09-17 06:19:12.388015</th>\n",
       "      <td>off</td>\n",
       "    </tr>\n",
       "    <tr>\n",
       "      <th>2017-09-17 06:19:12.388015</th>\n",
       "      <td>off</td>\n",
       "    </tr>\n",
       "    <tr>\n",
       "      <th>2017-09-17 06:19:12.388015</th>\n",
       "      <td>off</td>\n",
       "    </tr>\n",
       "    <tr>\n",
       "      <th>2017-09-17 06:19:12.388015</th>\n",
       "      <td>off</td>\n",
       "    </tr>\n",
       "  </tbody>\n",
       "</table>\n",
       "</div>"
      ],
      "text/plain": [
       "                                                                                 state\n",
       "domain        entity                        numerical last_changed                    \n",
       "binary_sensor binary_sensor.in_bed_bayesian False     2017-09-17 06:19:12.388015   off\n",
       "                                                      2017-09-17 06:19:12.388015   off\n",
       "                                                      2017-09-17 06:19:12.388015   off\n",
       "                                                      2017-09-17 06:19:12.388015   off\n",
       "                                                      2017-09-17 06:19:12.388015   off"
      ]
     },
     "execution_count": 57,
     "metadata": {},
     "output_type": "execute_result"
    }
   ],
   "source": [
    "query = 'entity == \"binary_sensor.in_bed_bayesian\"'\n",
    "in_bed_bayes_df = df.query(query)\n",
    "in_bed_bayes_df.head()"
   ]
  },
  {
   "cell_type": "code",
   "execution_count": 58,
   "metadata": {},
   "outputs": [
    {
     "data": {
      "text/plain": [
       "array(['off'], dtype=object)"
      ]
     },
     "execution_count": 58,
     "metadata": {},
     "output_type": "execute_result"
    }
   ],
   "source": [
    "in_bed_bayes_df['state'].unique()"
   ]
  },
  {
   "cell_type": "markdown",
   "metadata": {},
   "source": [
    "Hmm where are my on.."
   ]
  },
  {
   "cell_type": "code",
   "execution_count": 59,
   "metadata": {},
   "outputs": [],
   "source": [
    "in_bed_bayes_df.index = in_bed_bayes_df.index.get_level_values('last_changed')  # Keep only last_changed level"
   ]
  },
  {
   "cell_type": "code",
   "execution_count": 60,
   "metadata": {},
   "outputs": [],
   "source": [
    "in_bed_bayes_df.index = pd.to_datetime(in_bed_bayes_df.index)  # Convert to datetime"
   ]
  },
  {
   "cell_type": "code",
   "execution_count": 61,
   "metadata": {},
   "outputs": [
    {
     "data": {
      "text/plain": [
       "[<matplotlib.lines.Line2D at 0x1344e3128>]"
      ]
     },
     "execution_count": 61,
     "metadata": {},
     "output_type": "execute_result"
    },
    {
     "data": {
      "image/png": "[encoded data removed]",
      "text/plain": [
       "<matplotlib.figure.Figure at 0x13417a8d0>"
      ]
     },
     "metadata": {},
     "output_type": "display_data"
    }
   ],
   "source": [
    "f, ax = plt.subplots(figsize=(16, 6))\n",
    "ax.step(in_bed_bayes_df, 'bo', where='post')"
   ]
  },
  {
   "cell_type": "code",
   "execution_count": 62,
   "metadata": {},
   "outputs": [
    {
     "data": {
      "text/plain": [
       "Text(0,0.5,'In bed status')"
      ]
     },
     "execution_count": 62,
     "metadata": {},
     "output_type": "execute_result"
    },
    {
     "data": {
      "image/png": "[encoded data removed]",
      "text/plain": [
       "<matplotlib.figure.Figure at 0x1394da6a0>"
      ]
     },
     "metadata": {},
     "output_type": "display_data"
    }
   ],
   "source": [
    "now = dt.datetime.now()\n",
    "hours_to_plot = 240\n",
    "\n",
    "f, ax = plt.subplots(figsize=(16, 6))\n",
    "ax.step(in_bed_bayes_df, 'bo', where='post')\n",
    "xfmt = md.DateFormatter('%d %H:%M:%S') # %m-\n",
    "ax.xaxis.set_major_formatter(xfmt)\n",
    "ax.set_xlim(now-dt.timedelta(hours=hours_to_plot), now)\n",
    "ax.set_ylabel('In bed status', color='b')"
   ]
  },
  {
   "cell_type": "code",
   "execution_count": null,
   "metadata": {},
   "outputs": [],
   "source": []
  }
 ],
 "metadata": {
  "kernelspec": {
   "display_name": "Python 3",
   "language": "python",
   "name": "python3"
  },
  "language_info": {
   "codemirror_mode": {
    "name": "ipython",
    "version": 3
   },
   "file_extension": ".py",
   "mimetype": "text/x-python",
   "name": "python",
   "nbconvert_exporter": "python",
   "pygments_lexer": "ipython3",
   "version": "3.6.3"
  }
 },
 "nbformat": 4,
 "nbformat_minor": 2
}
