{
 "cells": [
  {
   "cell_type": "markdown",
   "metadata": {},
   "source": [
    "Goal - convenience functions to parse HA data into useful format for data science. Consider creating a class to hold the data.\n",
    "SQLAlchemy is used in this notebook but other suitable libraries are available.\n",
    "\n",
    "http://nbviewer.jupyter.org/github/home-assistant/home-assistant-notebooks/blob/master/DataExploration-1/DataExploration-1.ipynb\n",
    "\n",
    "http://www.sqlalchemy.org/\n",
    "\n",
    "https://www.dataquest.io/blog/images/cheat-sheets/pandas-cheat-sheet.pdf\n",
    "\n",
    "https://chrisalbon.com/ Useful ref\n",
    "\n",
    "11-1-2018: Using Google cloud data"
   ]
  },
  {
   "cell_type": "code",
   "execution_count": 1,
   "metadata": {},
   "outputs": [],
   "source": [
    "%matplotlib inline\n",
    "from datetime import datetime\n",
    "from sqlalchemy import create_engine, text\n",
    "import json\n",
    "from datetime import datetime, timedelta\n",
    "import seaborn as sns\n",
    "import numpy as np\n",
    "import pandas as pd\n",
    "import matplotlib.pyplot as plt\n",
    "import matplotlib.dates as md\n",
    "import datetime as dt"
   ]
  },
  {
   "cell_type": "code",
   "execution_count": 2,
   "metadata": {},
   "outputs": [],
   "source": [
    "def load_url(filename):\n",
    "    \"\"\"Convenience for loading a url from a json file.\"\"\"\n",
    "    try:\n",
    "        with open(filename, 'r') as fp:\n",
    "            url = json.load(fp)\n",
    "    except Exception as e:\n",
    "        print('Failed to load url')\n",
    "        url = None\n",
    "    return url['url']"
   ]
  },
  {
   "cell_type": "markdown",
   "metadata": {},
   "source": [
    "Some helper functions for parsing HA data"
   ]
  },
  {
   "cell_type": "code",
   "execution_count": 3,
   "metadata": {},
   "outputs": [],
   "source": [
    "def time_category(dtObj):\n",
    "    \"\"\"Return a time category, bed, home, work, given a datetime object dtObj.\"\"\"\n",
    "    if 9 <= dtObj.hour <= 17:\n",
    "        return 'daytime'\n",
    "    elif 5 <= dtObj.hour < 9:\n",
    "        return 'morning'\n",
    "    elif 17 < dtObj.hour < 23:\n",
    "        return 'evening'\n",
    "    else:\n",
    "        return 'night'"
   ]
  },
  {
   "cell_type": "code",
   "execution_count": 4,
   "metadata": {},
   "outputs": [],
   "source": [
    "def is_weekday(dtObj):\n",
    "    \"\"\"Check a datetime object dtObj is a weekday\"\"\"\n",
    "    if dtObj.weekday() < 5:\n",
    "        return True\n",
    "    else:\n",
    "        return False"
   ]
  },
  {
   "cell_type": "code",
   "execution_count": 5,
   "metadata": {},
   "outputs": [
    {
     "data": {
      "text/plain": [
       "True"
      ]
     },
     "execution_count": 5,
     "metadata": {},
     "output_type": "execute_result"
    }
   ],
   "source": [
    "def isfloat(value):\n",
    "    \"\"\"Check if string can be parsed to a float.\"\"\"\n",
    "    try:\n",
    "        float(value)\n",
    "        return True\n",
    "    except ValueError:\n",
    "        return False\n",
    "\n",
    "isfloat('23.6')"
   ]
  },
  {
   "cell_type": "code",
   "execution_count": 6,
   "metadata": {},
   "outputs": [],
   "source": [
    "def parse_state(value):\n",
    "    \"\"\"Check if state can be parsed to a float.\"\"\"\n",
    "    try:\n",
    "        float(value)\n",
    "        return float(value)\n",
    "    except ValueError:\n",
    "        return value\n",
    "\n",
    "val = parse_state('23.6')"
   ]
  },
  {
   "cell_type": "code",
   "execution_count": 7,
   "metadata": {},
   "outputs": [
    {
     "data": {
      "text/plain": [
       "'foo'"
      ]
     },
     "execution_count": 7,
     "metadata": {},
     "output_type": "execute_result"
    }
   ],
   "source": [
    "parse_state('foo')"
   ]
  },
  {
   "cell_type": "code",
   "execution_count": 8,
   "metadata": {},
   "outputs": [
    {
     "name": "stdout",
     "output_type": "stream",
     "text": [
      "True\n",
      "False\n",
      "nan\n"
     ]
    }
   ],
   "source": [
    "def binary_state(value):\n",
    "    \"\"\"Return a binary for the state of binary sensors\"\"\"\n",
    "    if  value == 'on':\n",
    "        return True\n",
    "    elif value == 'off':\n",
    "        return False\n",
    "    else:\n",
    "        return float('nan')\n",
    "\n",
    "print(binary_state('on'))\n",
    "print(binary_state('off'))\n",
    "print(binary_state('foo'))"
   ]
  },
  {
   "cell_type": "code",
   "execution_count": 9,
   "metadata": {},
   "outputs": [
    {
     "data": {
      "text/plain": [
       "'bme680humidity'"
      ]
     },
     "execution_count": 9,
     "metadata": {},
     "output_type": "execute_result"
    }
   ],
   "source": [
    "def rename_entity(entity_id):\n",
    "    \"\"\"Takes an entity_if of form sensor.name and returns name.\"\"\"\n",
    "    return entity_id.split('.')[1]\n",
    "\n",
    "rename_entity('sensor.bme680humidity')"
   ]
  },
  {
   "cell_type": "markdown",
   "metadata": {},
   "source": [
    "Conveninece to query and filter list of entities"
   ]
  },
  {
   "cell_type": "code",
   "execution_count": 10,
   "metadata": {},
   "outputs": [],
   "source": [
    "def query_entities(*args, **kwargs):\n",
    "    \"\"\"Takes a query term or terms and returns a list of entities satisfying the term. \n",
    "    Additionally apply a single filter term. \n",
    "    Example usage = query_entities('temperature', 'light', filter='sensor)\"\"\"\n",
    "    query_results = [entity for entity in entity_list if any(query in entity for query in args)] \n",
    "    if kwargs['filter']:\n",
    "        filtered_resaults = [entity for entity in query_results if kwargs['filter'] in entity]\n",
    "        return filtered_resaults\n",
    "    else:\n",
    "        return query_results"
   ]
  },
  {
   "cell_type": "markdown",
   "metadata": {},
   "source": [
    "Convenience function for checking a state. This is incredibly slow when applied to large data frames. Better approach is place data on time index and fill."
   ]
  },
  {
   "cell_type": "code",
   "execution_count": 11,
   "metadata": {},
   "outputs": [],
   "source": [
    "def state_at_time(df, dtObj):\n",
    "    \"\"\"Check the last registered state at some time using asof.\n",
    "    Passed df needs to be time indexed and should only include the entitiy_id of interest.\"\"\"\n",
    "    found_index = df.index.asof(dtObj)     # Find the closest index asof time test_time\n",
    "    if pd.isnull(found_index):             # If dtObj is before the first index of dt, will return NaT\n",
    "        return float('nan')\n",
    "    else:\n",
    "        state = df.loc[found_index]['state']      # Get the state at the found_index\n",
    "        return state"
   ]
  },
  {
   "cell_type": "markdown",
   "metadata": {},
   "source": [
    "## Fetch the states data"
   ]
  },
  {
   "cell_type": "code",
   "execution_count": 12,
   "metadata": {},
   "outputs": [],
   "source": [
    "filename = '/Users/robincole/Desktop/hass_db_url.json'\n",
    "DB_URL = load_url(filename)"
   ]
  },
  {
   "cell_type": "code",
   "execution_count": 13,
   "metadata": {},
   "outputs": [],
   "source": [
    "engine = create_engine(DB_URL)"
   ]
  },
  {
   "cell_type": "code",
   "execution_count": 14,
   "metadata": {},
   "outputs": [
    {
     "name": "stdout",
     "output_type": "stream",
     "text": [
      "CPU times: user 9.51 ms, sys: 6.99 ms, total: 16.5 ms\n",
      "Wall time: 8.91 s\n"
     ]
    }
   ],
   "source": [
    "%%time\n",
    "entity_id_list =  list(engine.execute(\"SELECT entity_id, COUNT(*) FROM states \\\n",
    "GROUP BY entity_id ORDER by 2 DESC\"))"
   ]
  },
  {
   "cell_type": "code",
   "execution_count": 15,
   "metadata": {},
   "outputs": [
    {
     "data": {
      "text/plain": [
       "130"
      ]
     },
     "execution_count": 15,
     "metadata": {},
     "output_type": "execute_result"
    }
   ],
   "source": [
    "len(entity_id_list)"
   ]
  },
  {
   "cell_type": "code",
   "execution_count": 16,
   "metadata": {},
   "outputs": [],
   "source": [
    "entity_list = list(zip(*entity_id_list))[0]"
   ]
  },
  {
   "cell_type": "code",
   "execution_count": 17,
   "metadata": {},
   "outputs": [
    {
     "data": {
      "text/plain": [
       "('sensor.bme680humidity',\n",
       " 'sensor.bme680pressure',\n",
       " 'sensor.bme680temperature',\n",
       " 'sensor.bme680air_qual',\n",
       " 'sun.sun')"
      ]
     },
     "execution_count": 17,
     "metadata": {},
     "output_type": "execute_result"
    }
   ],
   "source": [
    "entity_list[0:5]"
   ]
  },
  {
   "cell_type": "markdown",
   "metadata": {},
   "source": [
    "Select all state data for last X days, store in a single dataframe for convenience"
   ]
  },
  {
   "cell_type": "code",
   "execution_count": 18,
   "metadata": {},
   "outputs": [
    {
     "name": "stdout",
     "output_type": "stream",
     "text": [
      "CPU times: user 3.29 s, sys: 804 ms, total: 4.1 s\n",
      "Wall time: 1min 36s\n"
     ]
    }
   ],
   "source": [
    "%%time\n",
    "# query to pull all rows form the states table where last_changed field is on \\\n",
    "# or after the date_filter value\n",
    "#stmt = text(\"SELECT * FROM states where last_changed>=:date_filter\")\n",
    "stmt = text(\"\"\"SELECT domain, entity_id, state, last_changed FROM states WHERE NOT state='unknown' \"\"\")\n",
    "\n",
    "# bind parameters to the stmt value, specifying the date_filter to be 10 days \\\n",
    "# before today\n",
    "#stmt = stmt.bindparams(date_filter=datetime.now()-timedelta(days=100))\n",
    "\n",
    "# execute the SQL statement\n",
    "allquery = engine.execute(stmt)\n",
    "\n",
    "# get rows from query into a pandas dataframe\n",
    "allqueryDF = pd.DataFrame(allquery.fetchall())"
   ]
  },
  {
   "cell_type": "code",
   "execution_count": 19,
   "metadata": {},
   "outputs": [
    {
     "data": {
      "text/plain": [
       "(572189, 4)"
      ]
     },
     "execution_count": 19,
     "metadata": {},
     "output_type": "execute_result"
    }
   ],
   "source": [
    "allqueryDF.shape"
   ]
  },
  {
   "cell_type": "code",
   "execution_count": 20,
   "metadata": {},
   "outputs": [
    {
     "name": "stdout",
     "output_type": "stream",
     "text": [
      "The dataframse size on disk is 18.310048 MB\n"
     ]
    }
   ],
   "source": [
    "print(\"The dataframse size on disk is {} MB\".format(allqueryDF.values.nbytes/1e6))"
   ]
  },
  {
   "cell_type": "markdown",
   "metadata": {},
   "source": [
    "Name the columns, need to look into the difference between last_changed & last_updated"
   ]
  },
  {
   "cell_type": "code",
   "execution_count": 21,
   "metadata": {},
   "outputs": [],
   "source": [
    "allqueryDF.columns = ['domain', 'entity', 'state', 'last_changed']"
   ]
  },
  {
   "cell_type": "code",
   "execution_count": 22,
   "metadata": {},
   "outputs": [
    {
     "data": {
      "text/html": [
       "<div>\n",
       "<style scoped>\n",
       "    .dataframe tbody tr th:only-of-type {\n",
       "        vertical-align: middle;\n",
       "    }\n",
       "\n",
       "    .dataframe tbody tr th {\n",
       "        vertical-align: top;\n",
       "    }\n",
       "\n",
       "    .dataframe thead th {\n",
       "        text-align: right;\n",
       "    }\n",
       "</style>\n",
       "<table border=\"1\" class=\"dataframe\">\n",
       "  <thead>\n",
       "    <tr style=\"text-align: right;\">\n",
       "      <th></th>\n",
       "      <th>domain</th>\n",
       "      <th>entity</th>\n",
       "      <th>state</th>\n",
       "      <th>last_changed</th>\n",
       "    </tr>\n",
       "  </thead>\n",
       "  <tbody>\n",
       "    <tr>\n",
       "      <th>0</th>\n",
       "      <td>zone</td>\n",
       "      <td>zone.work</td>\n",
       "      <td>zoning</td>\n",
       "      <td>2017-12-25 07:30:00.355109+00:00</td>\n",
       "    </tr>\n",
       "    <tr>\n",
       "      <th>1</th>\n",
       "      <td>zone</td>\n",
       "      <td>zone.home</td>\n",
       "      <td>zoning</td>\n",
       "      <td>2017-12-25 07:30:00.356669+00:00</td>\n",
       "    </tr>\n",
       "    <tr>\n",
       "      <th>2</th>\n",
       "      <td>zone</td>\n",
       "      <td>zone.waterloo</td>\n",
       "      <td>zoning</td>\n",
       "      <td>2017-12-25 07:30:00.360553+00:00</td>\n",
       "    </tr>\n",
       "    <tr>\n",
       "      <th>3</th>\n",
       "      <td>sun</td>\n",
       "      <td>sun.sun</td>\n",
       "      <td>below_horizon</td>\n",
       "      <td>2017-12-25 07:30:00.369863+00:00</td>\n",
       "    </tr>\n",
       "    <tr>\n",
       "      <th>4</th>\n",
       "      <td>input_boolean</td>\n",
       "      <td>input_boolean.house_idle</td>\n",
       "      <td>off</td>\n",
       "      <td>2017-12-25 07:30:00.432193+00:00</td>\n",
       "    </tr>\n",
       "  </tbody>\n",
       "</table>\n",
       "</div>"
      ],
      "text/plain": [
       "          domain                    entity          state  \\\n",
       "0           zone                 zone.work         zoning   \n",
       "1           zone                 zone.home         zoning   \n",
       "2           zone             zone.waterloo         zoning   \n",
       "3            sun                   sun.sun  below_horizon   \n",
       "4  input_boolean  input_boolean.house_idle            off   \n",
       "\n",
       "                      last_changed  \n",
       "0 2017-12-25 07:30:00.355109+00:00  \n",
       "1 2017-12-25 07:30:00.356669+00:00  \n",
       "2 2017-12-25 07:30:00.360553+00:00  \n",
       "3 2017-12-25 07:30:00.369863+00:00  \n",
       "4 2017-12-25 07:30:00.432193+00:00  "
      ]
     },
     "execution_count": 22,
     "metadata": {},
     "output_type": "execute_result"
    }
   ],
   "source": [
    "allqueryDF.head()"
   ]
  },
  {
   "cell_type": "markdown",
   "metadata": {},
   "source": [
    "Lets copy the master df in case we want to recover the original.\n",
    "Also we would like to know if states are numerical or not"
   ]
  },
  {
   "cell_type": "code",
   "execution_count": 23,
   "metadata": {},
   "outputs": [],
   "source": [
    "df = allqueryDF"
   ]
  },
  {
   "cell_type": "code",
   "execution_count": 24,
   "metadata": {},
   "outputs": [
    {
     "data": {
      "text/plain": [
       "Timestamp('2017-12-25 07:30:00.355109+0000', tz='psycopg2.tz.FixedOffsetTimezone(offset=0, name=None)')"
      ]
     },
     "execution_count": 24,
     "metadata": {},
     "output_type": "execute_result"
    }
   ],
   "source": [
    "df.iloc[0]['last_changed']"
   ]
  },
  {
   "cell_type": "code",
   "execution_count": 25,
   "metadata": {},
   "outputs": [
    {
     "data": {
      "text/plain": [
       "Timestamp('2018-01-11 08:21:01.329989+0000', tz='psycopg2.tz.FixedOffsetTimezone(offset=0, name=None)')"
      ]
     },
     "execution_count": 25,
     "metadata": {},
     "output_type": "execute_result"
    }
   ],
   "source": [
    "df.iloc[-1]['last_changed']"
   ]
  },
  {
   "cell_type": "markdown",
   "metadata": {},
   "source": [
    "Appears to not be returning complete date range I expect in the db"
   ]
  },
  {
   "cell_type": "code",
   "execution_count": 26,
   "metadata": {},
   "outputs": [],
   "source": [
    "df['numerical'] = df['state'].apply(lambda x: isfloat(x)) "
   ]
  },
  {
   "cell_type": "code",
   "execution_count": 27,
   "metadata": {},
   "outputs": [],
   "source": [
    "#allqueryDF['state'] = allqueryDF['state'].apply(lambda state: parse_state(state))  # Lets convert the numericals into floats "
   ]
  },
  {
   "cell_type": "code",
   "execution_count": 28,
   "metadata": {},
   "outputs": [
    {
     "data": {
      "text/html": [
       "<div>\n",
       "<style scoped>\n",
       "    .dataframe tbody tr th:only-of-type {\n",
       "        vertical-align: middle;\n",
       "    }\n",
       "\n",
       "    .dataframe tbody tr th {\n",
       "        vertical-align: top;\n",
       "    }\n",
       "\n",
       "    .dataframe thead th {\n",
       "        text-align: right;\n",
       "    }\n",
       "</style>\n",
       "<table border=\"1\" class=\"dataframe\">\n",
       "  <thead>\n",
       "    <tr style=\"text-align: right;\">\n",
       "      <th></th>\n",
       "      <th>domain</th>\n",
       "      <th>entity</th>\n",
       "      <th>state</th>\n",
       "      <th>last_changed</th>\n",
       "      <th>numerical</th>\n",
       "    </tr>\n",
       "  </thead>\n",
       "  <tbody>\n",
       "    <tr>\n",
       "      <th>572184</th>\n",
       "      <td>sensor</td>\n",
       "      <td>sensor.home_to_waterloo</td>\n",
       "      <td>42</td>\n",
       "      <td>2018-01-11 08:20:31.795049+00:00</td>\n",
       "      <td>True</td>\n",
       "    </tr>\n",
       "    <tr>\n",
       "      <th>572185</th>\n",
       "      <td>sensor</td>\n",
       "      <td>sensor.bayes_probability</td>\n",
       "      <td>0.04</td>\n",
       "      <td>2018-01-11 08:20:42.343675+00:00</td>\n",
       "      <td>True</td>\n",
       "    </tr>\n",
       "    <tr>\n",
       "      <th>572186</th>\n",
       "      <td>sensor</td>\n",
       "      <td>sensor.time</td>\n",
       "      <td>08:21</td>\n",
       "      <td>2018-01-11 08:21:01.324820+00:00</td>\n",
       "      <td>False</td>\n",
       "    </tr>\n",
       "    <tr>\n",
       "      <th>572187</th>\n",
       "      <td>sensor</td>\n",
       "      <td>sensor.date__time</td>\n",
       "      <td>2018-01-11, 08:21</td>\n",
       "      <td>2018-01-11 08:21:01.327351+00:00</td>\n",
       "      <td>False</td>\n",
       "    </tr>\n",
       "    <tr>\n",
       "      <th>572188</th>\n",
       "      <td>sensor</td>\n",
       "      <td>sensor.time__date</td>\n",
       "      <td>08:21, 2018-01-11</td>\n",
       "      <td>2018-01-11 08:21:01.329989+00:00</td>\n",
       "      <td>False</td>\n",
       "    </tr>\n",
       "  </tbody>\n",
       "</table>\n",
       "</div>"
      ],
      "text/plain": [
       "        domain                    entity              state  \\\n",
       "572184  sensor   sensor.home_to_waterloo                 42   \n",
       "572185  sensor  sensor.bayes_probability               0.04   \n",
       "572186  sensor               sensor.time              08:21   \n",
       "572187  sensor         sensor.date__time  2018-01-11, 08:21   \n",
       "572188  sensor         sensor.time__date  08:21, 2018-01-11   \n",
       "\n",
       "                           last_changed  numerical  \n",
       "572184 2018-01-11 08:20:31.795049+00:00       True  \n",
       "572185 2018-01-11 08:20:42.343675+00:00       True  \n",
       "572186 2018-01-11 08:21:01.324820+00:00      False  \n",
       "572187 2018-01-11 08:21:01.327351+00:00      False  \n",
       "572188 2018-01-11 08:21:01.329989+00:00      False  "
      ]
     },
     "execution_count": 28,
     "metadata": {},
     "output_type": "execute_result"
    }
   ],
   "source": [
    "df.tail()"
   ]
  },
  {
   "cell_type": "markdown",
   "metadata": {},
   "source": [
    "Convert to multi-index"
   ]
  },
  {
   "cell_type": "code",
   "execution_count": 29,
   "metadata": {},
   "outputs": [
    {
     "data": {
      "text/html": [
       "<div>\n",
       "<style scoped>\n",
       "    .dataframe tbody tr th:only-of-type {\n",
       "        vertical-align: middle;\n",
       "    }\n",
       "\n",
       "    .dataframe tbody tr th {\n",
       "        vertical-align: top;\n",
       "    }\n",
       "\n",
       "    .dataframe thead th {\n",
       "        text-align: right;\n",
       "    }\n",
       "</style>\n",
       "<table border=\"1\" class=\"dataframe\">\n",
       "  <thead>\n",
       "    <tr style=\"text-align: right;\">\n",
       "      <th></th>\n",
       "      <th></th>\n",
       "      <th></th>\n",
       "      <th></th>\n",
       "      <th>state</th>\n",
       "    </tr>\n",
       "    <tr>\n",
       "      <th>domain</th>\n",
       "      <th>entity</th>\n",
       "      <th>numerical</th>\n",
       "      <th>last_changed</th>\n",
       "      <th></th>\n",
       "    </tr>\n",
       "  </thead>\n",
       "  <tbody>\n",
       "    <tr>\n",
       "      <th rowspan=\"3\" valign=\"top\">zone</th>\n",
       "      <th>zone.work</th>\n",
       "      <th>False</th>\n",
       "      <th>2017-12-25 07:30:00.355109+00:00</th>\n",
       "      <td>zoning</td>\n",
       "    </tr>\n",
       "    <tr>\n",
       "      <th>zone.home</th>\n",
       "      <th>False</th>\n",
       "      <th>2017-12-25 07:30:00.356669+00:00</th>\n",
       "      <td>zoning</td>\n",
       "    </tr>\n",
       "    <tr>\n",
       "      <th>zone.waterloo</th>\n",
       "      <th>False</th>\n",
       "      <th>2017-12-25 07:30:00.360553+00:00</th>\n",
       "      <td>zoning</td>\n",
       "    </tr>\n",
       "    <tr>\n",
       "      <th>sun</th>\n",
       "      <th>sun.sun</th>\n",
       "      <th>False</th>\n",
       "      <th>2017-12-25 07:30:00.369863+00:00</th>\n",
       "      <td>below_horizon</td>\n",
       "    </tr>\n",
       "    <tr>\n",
       "      <th>input_boolean</th>\n",
       "      <th>input_boolean.house_idle</th>\n",
       "      <th>False</th>\n",
       "      <th>2017-12-25 07:30:00.432193+00:00</th>\n",
       "      <td>off</td>\n",
       "    </tr>\n",
       "  </tbody>\n",
       "</table>\n",
       "</div>"
      ],
      "text/plain": [
       "                                                                                           state\n",
       "domain        entity                   numerical last_changed                                   \n",
       "zone          zone.work                False     2017-12-25 07:30:00.355109+00:00         zoning\n",
       "              zone.home                False     2017-12-25 07:30:00.356669+00:00         zoning\n",
       "              zone.waterloo            False     2017-12-25 07:30:00.360553+00:00         zoning\n",
       "sun           sun.sun                  False     2017-12-25 07:30:00.369863+00:00  below_horizon\n",
       "input_boolean input_boolean.house_idle False     2017-12-25 07:30:00.432193+00:00            off"
      ]
     },
     "execution_count": 29,
     "metadata": {},
     "output_type": "execute_result"
    }
   ],
   "source": [
    "df = df[['domain', 'entity', 'last_changed', 'numerical', 'state']].set_index(['domain', 'entity', 'numerical', 'last_changed'])\n",
    "df.head()"
   ]
  },
  {
   "cell_type": "markdown",
   "metadata": {},
   "source": [
    "## Numerical data\n",
    "lets do a query for numerical sensor"
   ]
  },
  {
   "cell_type": "code",
   "execution_count": 30,
   "metadata": {},
   "outputs": [
    {
     "name": "stderr",
     "output_type": "stream",
     "text": [
      "/anaconda3/lib/python3.6/site-packages/ipykernel_launcher.py:2: SettingWithCopyWarning: \n",
      "A value is trying to be set on a copy of a slice from a DataFrame.\n",
      "Try using .loc[row_indexer,col_indexer] = value instead\n",
      "\n",
      "See the caveats in the documentation: http://pandas.pydata.org/pandas-docs/stable/indexing.html#indexing-view-versus-copy\n",
      "  \n"
     ]
    },
    {
     "data": {
      "text/html": [
       "<div>\n",
       "<style scoped>\n",
       "    .dataframe tbody tr th:only-of-type {\n",
       "        vertical-align: middle;\n",
       "    }\n",
       "\n",
       "    .dataframe tbody tr th {\n",
       "        vertical-align: top;\n",
       "    }\n",
       "\n",
       "    .dataframe thead th {\n",
       "        text-align: right;\n",
       "    }\n",
       "</style>\n",
       "<table border=\"1\" class=\"dataframe\">\n",
       "  <thead>\n",
       "    <tr style=\"text-align: right;\">\n",
       "      <th></th>\n",
       "      <th></th>\n",
       "      <th></th>\n",
       "      <th></th>\n",
       "      <th>state</th>\n",
       "    </tr>\n",
       "    <tr>\n",
       "      <th>domain</th>\n",
       "      <th>entity</th>\n",
       "      <th>numerical</th>\n",
       "      <th>last_changed</th>\n",
       "      <th></th>\n",
       "    </tr>\n",
       "  </thead>\n",
       "  <tbody>\n",
       "    <tr>\n",
       "      <th rowspan=\"5\" valign=\"top\">sensor</th>\n",
       "      <th>sensor.bme680temperature</th>\n",
       "      <th>True</th>\n",
       "      <th>2017-12-25 07:30:02.032540+00:00</th>\n",
       "      <td>2.103000e+01</td>\n",
       "    </tr>\n",
       "    <tr>\n",
       "      <th>sensor.bme680air_qual</th>\n",
       "      <th>True</th>\n",
       "      <th>2017-12-25 07:30:02.040975+00:00</th>\n",
       "      <td>9.818021e+06</td>\n",
       "    </tr>\n",
       "    <tr>\n",
       "      <th>sensor.electric_charger_distance</th>\n",
       "      <th>True</th>\n",
       "      <th>2017-12-25 07:30:05.223131+00:00</th>\n",
       "      <td>7.530904e-01</td>\n",
       "    </tr>\n",
       "    <tr>\n",
       "      <th>sensor.network_up</th>\n",
       "      <th>True</th>\n",
       "      <th>2017-12-25 07:30:16.917245+00:00</th>\n",
       "      <td>4.000000e+00</td>\n",
       "    </tr>\n",
       "    <tr>\n",
       "      <th>sensor.bme680humidity</th>\n",
       "      <th>True</th>\n",
       "      <th>2017-12-25 07:30:02.022880+00:00</th>\n",
       "      <td>5.544800e+01</td>\n",
       "    </tr>\n",
       "  </tbody>\n",
       "</table>\n",
       "</div>"
      ],
      "text/plain": [
       "                                                                                           state\n",
       "domain entity                           numerical last_changed                                  \n",
       "sensor sensor.bme680temperature         True      2017-12-25 07:30:02.032540+00:00  2.103000e+01\n",
       "       sensor.bme680air_qual            True      2017-12-25 07:30:02.040975+00:00  9.818021e+06\n",
       "       sensor.electric_charger_distance True      2017-12-25 07:30:05.223131+00:00  7.530904e-01\n",
       "       sensor.network_up                True      2017-12-25 07:30:16.917245+00:00  4.000000e+00\n",
       "       sensor.bme680humidity            True      2017-12-25 07:30:02.022880+00:00  5.544800e+01"
      ]
     },
     "execution_count": 30,
     "metadata": {},
     "output_type": "execute_result"
    }
   ],
   "source": [
    "num_sensors_df = df.query('domain == \"sensor\" & numerical == True')\n",
    "num_sensors_df['state'] = num_sensors_df['state'].astype('float')\n",
    "num_sensors_df.head()"
   ]
  },
  {
   "cell_type": "code",
   "execution_count": 31,
   "metadata": {},
   "outputs": [
    {
     "name": "stdout",
     "output_type": "stream",
     "text": [
      "27\n"
     ]
    },
    {
     "data": {
      "text/plain": [
       "['sensor.bme680temperature',\n",
       " 'sensor.bme680air_qual',\n",
       " 'sensor.electric_charger_distance',\n",
       " 'sensor.network_up',\n",
       " 'sensor.bme680humidity',\n",
       " 'sensor.bme680pressure',\n",
       " 'sensor.darksky_sensor_precip_probability',\n",
       " 'sensor.darksky_sensor_temperature',\n",
       " 'sensor.blink_blink_camera_percy_temperature',\n",
       " 'sensor.mean_temperature',\n",
       " 'sensor.robins_iphone_battery_level',\n",
       " 'sensor.blink_blink_camera_percy_notifications',\n",
       " 'sensor.iphone_battery_level',\n",
       " 'sensor.bayes_probability',\n",
       " 'sensor.work_to_home',\n",
       " 'sensor.home_to_work',\n",
       " 'sensor.home_to_waterloo',\n",
       " 'sensor.memory_usage_real',\n",
       " 'sensor.volume_used_volume_1',\n",
       " 'sensor.cpu_load_total',\n",
       " 'sensor.hall_temperature',\n",
       " 'sensor.living_room_temperature',\n",
       " 'sensor.bedroom_temperature',\n",
       " 'sensor.next_train_in',\n",
       " 'sensor.speedtest_download',\n",
       " 'sensor.next_train_to_wim',\n",
       " 'sensor.time_in_bed']"
      ]
     },
     "execution_count": 31,
     "metadata": {},
     "output_type": "execute_result"
    }
   ],
   "source": [
    "num_sensors_list = list(num_sensors_df.index.get_level_values('entity').unique())\n",
    "print(len(num_sensors_list))\n",
    "num_sensors_list"
   ]
  },
  {
   "cell_type": "markdown",
   "metadata": {},
   "source": [
    "Lets do a pivot to get sensors in columns to make plotting convenient. Lets also forward fill the data"
   ]
  },
  {
   "cell_type": "code",
   "execution_count": 32,
   "metadata": {},
   "outputs": [],
   "source": [
    "num_sensors_df = num_sensors_df.pivot_table(index='last_changed', columns='entity', values='state')\n",
    "num_sensors_df = num_sensors_df.fillna(method='ffill')\n",
    "num_sensors_df = num_sensors_df.dropna() # drop any remaining nan\n",
    "num_sensors_df.index = pd.to_datetime(num_sensors_df.index)"
   ]
  },
  {
   "cell_type": "code",
   "execution_count": 39,
   "metadata": {},
   "outputs": [
    {
     "data": {
      "text/plain": [
       "[<matplotlib.lines.Line2D at 0x11580d208>]"
      ]
     },
     "execution_count": 39,
     "metadata": {},
     "output_type": "execute_result"
    },
    {
     "data": {
      "image/png": "[encoded data removed]",
      "text/plain": [
       "<matplotlib.figure.Figure at 0x10f867908>"
      ]
     },
     "metadata": {},
     "output_type": "display_data"
    }
   ],
   "source": [
    "height=6\n",
    "width=14\n",
    "figsize=(width, height)\n",
    "\n",
    "df_plot = num_sensors_df['sensor.living_room_temperature']\n",
    "last_time = df_plot.index[-1]\n",
    "hours_to_plot = 24\n",
    "xfmt = md.DateFormatter('%m/%d') # %m-\n",
    "\n",
    "f, ax = plt.subplots(1, 1, figsize=(width, height))\n",
    "ax.plot(df_plot)\n",
    "#ax.xaxis.set_major_formatter(xfmt)\n",
    "#ax.set_xlim(now-dt.timedelta(hours=hours_to_plot), now);"
   ]
  },
  {
   "cell_type": "code",
   "execution_count": 34,
   "metadata": {},
   "outputs": [
    {
     "data": {
      "image/png": "[encoded data removed]",
      "text/plain": [
       "<matplotlib.figure.Figure at 0x117ca5748>"
      ]
     },
     "metadata": {},
     "output_type": "display_data"
    }
   ],
   "source": [
    "sns_plot = sns.pairplot(num_sensors_df[['sensor.living_room_temperature',\n",
    "'sensor.bedroom_temperature',\n",
    "'sensor.hall_temperature', \n",
    "'sensor.darksky_sensor_temperature']]);\n",
    "\n",
    "sns_plot.savefig(\"pairplot.png\")"
   ]
  },
  {
   "cell_type": "markdown",
   "metadata": {},
   "source": [
    "## Single temperature sensor"
   ]
  },
  {
   "cell_type": "code",
   "execution_count": 42,
   "metadata": {},
   "outputs": [],
   "source": [
    "stmt = text(\"\"\"\n",
    "SELECT last_changed, state \n",
    "FROM states \n",
    "WHERE NOT state='unknown' \n",
    "AND states.entity_id = 'sensor.darksky_sensor_temperature'\n",
    "\"\"\")\n",
    "\n",
    "query = engine.execute(stmt)\n",
    "\n",
    "# get rows from query into a pandas dataframe\n",
    "darksky_sensor_temperature = pd.DataFrame(query.fetchall())"
   ]
  },
  {
   "cell_type": "code",
   "execution_count": 43,
   "metadata": {},
   "outputs": [
    {
     "data": {
      "text/html": [
       "<div>\n",
       "<style scoped>\n",
       "    .dataframe tbody tr th:only-of-type {\n",
       "        vertical-align: middle;\n",
       "    }\n",
       "\n",
       "    .dataframe tbody tr th {\n",
       "        vertical-align: top;\n",
       "    }\n",
       "\n",
       "    .dataframe thead th {\n",
       "        text-align: right;\n",
       "    }\n",
       "</style>\n",
       "<table border=\"1\" class=\"dataframe\">\n",
       "  <thead>\n",
       "    <tr style=\"text-align: right;\">\n",
       "      <th></th>\n",
       "      <th>state</th>\n",
       "    </tr>\n",
       "    <tr>\n",
       "      <th>last_changed</th>\n",
       "      <th></th>\n",
       "    </tr>\n",
       "  </thead>\n",
       "  <tbody>\n",
       "    <tr>\n",
       "      <th>2017-12-25 07:30:07.679411+00:00</th>\n",
       "      <td>9.5</td>\n",
       "    </tr>\n",
       "    <tr>\n",
       "      <th>2017-12-25 08:33:56.909285+00:00</th>\n",
       "      <td>9.3</td>\n",
       "    </tr>\n",
       "    <tr>\n",
       "      <th>2017-12-25 09:15:07.994419+00:00</th>\n",
       "      <td>9.4</td>\n",
       "    </tr>\n",
       "    <tr>\n",
       "      <th>2017-12-25 09:27:30.920648+00:00</th>\n",
       "      <td>9.5</td>\n",
       "    </tr>\n",
       "    <tr>\n",
       "      <th>2017-12-25 09:33:42.997302+00:00</th>\n",
       "      <td>9.3</td>\n",
       "    </tr>\n",
       "  </tbody>\n",
       "</table>\n",
       "</div>"
      ],
      "text/plain": [
       "                                  state\n",
       "last_changed                           \n",
       "2017-12-25 07:30:07.679411+00:00    9.5\n",
       "2017-12-25 08:33:56.909285+00:00    9.3\n",
       "2017-12-25 09:15:07.994419+00:00    9.4\n",
       "2017-12-25 09:27:30.920648+00:00    9.5\n",
       "2017-12-25 09:33:42.997302+00:00    9.3"
      ]
     },
     "execution_count": 43,
     "metadata": {},
     "output_type": "execute_result"
    }
   ],
   "source": [
    "darksky_sensor_temperature.columns = ['last_changed', 'state']\n",
    "darksky_sensor_temperature.set_index('last_changed', inplace=True)\n",
    "darksky_sensor_temperature.index = pd.to_datetime(darksky_sensor_temperature.index)\n",
    "darksky_sensor_temperature['state'] = darksky_sensor_temperature['state'].astype('float')\n",
    "darksky_sensor_temperature.head()"
   ]
  },
  {
   "cell_type": "code",
   "execution_count": 44,
   "metadata": {},
   "outputs": [
    {
     "data": {
      "text/plain": [
       "<matplotlib.axes._subplots.AxesSubplot at 0x116ed5c50>"
      ]
     },
     "execution_count": 44,
     "metadata": {},
     "output_type": "execute_result"
    },
    {
     "data": {
      "image/png": "[encoded data removed]",
      "text/plain": [
       "<matplotlib.figure.Figure at 0x115b14470>"
      ]
     },
     "metadata": {},
     "output_type": "display_data"
    }
   ],
   "source": [
    "darksky_sensor_temperature.plot()"
   ]
  },
  {
   "cell_type": "markdown",
   "metadata": {},
   "source": [
    "### Motion at home sensor\n",
    "Lets focus on the binary_sensor.motion_at_home which is a sensor that indicates if there is any activity at home. In the pivot_table apply np.min to prevent np.mean (the default) from returning 0.5 in some cases (why is this?)"
   ]
  },
  {
   "cell_type": "code",
   "execution_count": 45,
   "metadata": {},
   "outputs": [
    {
     "name": "stdout",
     "output_type": "stream",
     "text": [
      "13\n"
     ]
    },
    {
     "data": {
      "text/plain": [
       "['binary_sensor.motion_at_home',\n",
       " 'binary_sensor.late_night_sensor',\n",
       " 'binary_sensor.devices_home',\n",
       " 'binary_sensor.in_bed_bayesian',\n",
       " 'binary_sensor.doorbell',\n",
       " 'binary_sensor.blink_blink_camera_percy_motion_enabled',\n",
       " 'binary_sensor.wipy_water_monitor',\n",
       " 'binary_sensor.workday_sensor',\n",
       " 'binary_sensor.living_room_nest_protect_online',\n",
       " 'binary_sensor.blink_armed_status',\n",
       " 'binary_sensor.elgato_door',\n",
       " 'binary_sensor.fibaro_leak',\n",
       " 'binary_sensor.macbook']"
      ]
     },
     "execution_count": 45,
     "metadata": {},
     "output_type": "execute_result"
    }
   ],
   "source": [
    "binary_sensors_df = df.query('domain == \"binary_sensor\"')\n",
    "binary_sensors_list = list(binary_sensors_df.index.get_level_values('entity').unique())\n",
    "print(len(binary_sensors_list))\n",
    "binary_sensors_list"
   ]
  },
  {
   "cell_type": "code",
   "execution_count": 46,
   "metadata": {},
   "outputs": [
    {
     "name": "stderr",
     "output_type": "stream",
     "text": [
      "/anaconda3/lib/python3.6/site-packages/ipykernel_launcher.py:1: SettingWithCopyWarning: \n",
      "A value is trying to be set on a copy of a slice from a DataFrame.\n",
      "Try using .loc[row_indexer,col_indexer] = value instead\n",
      "\n",
      "See the caveats in the documentation: http://pandas.pydata.org/pandas-docs/stable/indexing.html#indexing-view-versus-copy\n",
      "  \"\"\"Entry point for launching an IPython kernel.\n"
     ]
    }
   ],
   "source": [
    "binary_sensors_df['state'] = binary_sensors_df['state'].apply(lambda x: binary_state(x)) # Binarise"
   ]
  },
  {
   "cell_type": "code",
   "execution_count": 47,
   "metadata": {},
   "outputs": [],
   "source": [
    "binary_sensors_df = binary_sensors_df.pivot_table(index='last_changed', columns='entity', values='state')"
   ]
  },
  {
   "cell_type": "code",
   "execution_count": 48,
   "metadata": {},
   "outputs": [
    {
     "data": {
      "text/html": [
       "<div>\n",
       "<style scoped>\n",
       "    .dataframe tbody tr th:only-of-type {\n",
       "        vertical-align: middle;\n",
       "    }\n",
       "\n",
       "    .dataframe tbody tr th {\n",
       "        vertical-align: top;\n",
       "    }\n",
       "\n",
       "    .dataframe thead th {\n",
       "        text-align: right;\n",
       "    }\n",
       "</style>\n",
       "<table border=\"1\" class=\"dataframe\">\n",
       "  <thead>\n",
       "    <tr style=\"text-align: right;\">\n",
       "      <th>entity</th>\n",
       "      <th>binary_sensor.blink_armed_status</th>\n",
       "      <th>binary_sensor.blink_blink_camera_percy_motion_enabled</th>\n",
       "      <th>binary_sensor.devices_home</th>\n",
       "      <th>binary_sensor.doorbell</th>\n",
       "      <th>binary_sensor.elgato_door</th>\n",
       "      <th>binary_sensor.fibaro_leak</th>\n",
       "      <th>binary_sensor.in_bed_bayesian</th>\n",
       "      <th>binary_sensor.late_night_sensor</th>\n",
       "      <th>binary_sensor.living_room_nest_protect_online</th>\n",
       "      <th>binary_sensor.macbook</th>\n",
       "      <th>binary_sensor.motion_at_home</th>\n",
       "      <th>binary_sensor.wipy_water_monitor</th>\n",
       "      <th>binary_sensor.workday_sensor</th>\n",
       "    </tr>\n",
       "    <tr>\n",
       "      <th>last_changed</th>\n",
       "      <th></th>\n",
       "      <th></th>\n",
       "      <th></th>\n",
       "      <th></th>\n",
       "      <th></th>\n",
       "      <th></th>\n",
       "      <th></th>\n",
       "      <th></th>\n",
       "      <th></th>\n",
       "      <th></th>\n",
       "      <th></th>\n",
       "      <th></th>\n",
       "      <th></th>\n",
       "    </tr>\n",
       "  </thead>\n",
       "  <tbody>\n",
       "    <tr>\n",
       "      <th>2017-12-25 07:30:00.472937+00:00</th>\n",
       "      <td>None</td>\n",
       "      <td>None</td>\n",
       "      <td>None</td>\n",
       "      <td>None</td>\n",
       "      <td>None</td>\n",
       "      <td>None</td>\n",
       "      <td>None</td>\n",
       "      <td>None</td>\n",
       "      <td>None</td>\n",
       "      <td>None</td>\n",
       "      <td>False</td>\n",
       "      <td>None</td>\n",
       "      <td>None</td>\n",
       "    </tr>\n",
       "    <tr>\n",
       "      <th>2017-12-25 07:30:00.474791+00:00</th>\n",
       "      <td>None</td>\n",
       "      <td>None</td>\n",
       "      <td>None</td>\n",
       "      <td>None</td>\n",
       "      <td>None</td>\n",
       "      <td>None</td>\n",
       "      <td>None</td>\n",
       "      <td>False</td>\n",
       "      <td>None</td>\n",
       "      <td>None</td>\n",
       "      <td>None</td>\n",
       "      <td>None</td>\n",
       "      <td>None</td>\n",
       "    </tr>\n",
       "    <tr>\n",
       "      <th>2017-12-25 07:30:00.476154+00:00</th>\n",
       "      <td>None</td>\n",
       "      <td>None</td>\n",
       "      <td>False</td>\n",
       "      <td>None</td>\n",
       "      <td>None</td>\n",
       "      <td>None</td>\n",
       "      <td>None</td>\n",
       "      <td>None</td>\n",
       "      <td>None</td>\n",
       "      <td>None</td>\n",
       "      <td>None</td>\n",
       "      <td>None</td>\n",
       "      <td>None</td>\n",
       "    </tr>\n",
       "    <tr>\n",
       "      <th>2017-12-25 07:30:00.477496+00:00</th>\n",
       "      <td>None</td>\n",
       "      <td>None</td>\n",
       "      <td>None</td>\n",
       "      <td>None</td>\n",
       "      <td>None</td>\n",
       "      <td>None</td>\n",
       "      <td>False</td>\n",
       "      <td>None</td>\n",
       "      <td>None</td>\n",
       "      <td>None</td>\n",
       "      <td>None</td>\n",
       "      <td>None</td>\n",
       "      <td>None</td>\n",
       "    </tr>\n",
       "    <tr>\n",
       "      <th>2017-12-25 07:30:00.728927+00:00</th>\n",
       "      <td>None</td>\n",
       "      <td>None</td>\n",
       "      <td>None</td>\n",
       "      <td>None</td>\n",
       "      <td>None</td>\n",
       "      <td>None</td>\n",
       "      <td>None</td>\n",
       "      <td>None</td>\n",
       "      <td>None</td>\n",
       "      <td>None</td>\n",
       "      <td>None</td>\n",
       "      <td>False</td>\n",
       "      <td>None</td>\n",
       "    </tr>\n",
       "  </tbody>\n",
       "</table>\n",
       "</div>"
      ],
      "text/plain": [
       "entity                           binary_sensor.blink_armed_status  \\\n",
       "last_changed                                                        \n",
       "2017-12-25 07:30:00.472937+00:00                             None   \n",
       "2017-12-25 07:30:00.474791+00:00                             None   \n",
       "2017-12-25 07:30:00.476154+00:00                             None   \n",
       "2017-12-25 07:30:00.477496+00:00                             None   \n",
       "2017-12-25 07:30:00.728927+00:00                             None   \n",
       "\n",
       "entity                           binary_sensor.blink_blink_camera_percy_motion_enabled  \\\n",
       "last_changed                                                                             \n",
       "2017-12-25 07:30:00.472937+00:00                                               None      \n",
       "2017-12-25 07:30:00.474791+00:00                                               None      \n",
       "2017-12-25 07:30:00.476154+00:00                                               None      \n",
       "2017-12-25 07:30:00.477496+00:00                                               None      \n",
       "2017-12-25 07:30:00.728927+00:00                                               None      \n",
       "\n",
       "entity                           binary_sensor.devices_home  \\\n",
       "last_changed                                                  \n",
       "2017-12-25 07:30:00.472937+00:00                       None   \n",
       "2017-12-25 07:30:00.474791+00:00                       None   \n",
       "2017-12-25 07:30:00.476154+00:00                      False   \n",
       "2017-12-25 07:30:00.477496+00:00                       None   \n",
       "2017-12-25 07:30:00.728927+00:00                       None   \n",
       "\n",
       "entity                           binary_sensor.doorbell  \\\n",
       "last_changed                                              \n",
       "2017-12-25 07:30:00.472937+00:00                   None   \n",
       "2017-12-25 07:30:00.474791+00:00                   None   \n",
       "2017-12-25 07:30:00.476154+00:00                   None   \n",
       "2017-12-25 07:30:00.477496+00:00                   None   \n",
       "2017-12-25 07:30:00.728927+00:00                   None   \n",
       "\n",
       "entity                           binary_sensor.elgato_door  \\\n",
       "last_changed                                                 \n",
       "2017-12-25 07:30:00.472937+00:00                      None   \n",
       "2017-12-25 07:30:00.474791+00:00                      None   \n",
       "2017-12-25 07:30:00.476154+00:00                      None   \n",
       "2017-12-25 07:30:00.477496+00:00                      None   \n",
       "2017-12-25 07:30:00.728927+00:00                      None   \n",
       "\n",
       "entity                           binary_sensor.fibaro_leak  \\\n",
       "last_changed                                                 \n",
       "2017-12-25 07:30:00.472937+00:00                      None   \n",
       "2017-12-25 07:30:00.474791+00:00                      None   \n",
       "2017-12-25 07:30:00.476154+00:00                      None   \n",
       "2017-12-25 07:30:00.477496+00:00                      None   \n",
       "2017-12-25 07:30:00.728927+00:00                      None   \n",
       "\n",
       "entity                           binary_sensor.in_bed_bayesian  \\\n",
       "last_changed                                                     \n",
       "2017-12-25 07:30:00.472937+00:00                          None   \n",
       "2017-12-25 07:30:00.474791+00:00                          None   \n",
       "2017-12-25 07:30:00.476154+00:00                          None   \n",
       "2017-12-25 07:30:00.477496+00:00                         False   \n",
       "2017-12-25 07:30:00.728927+00:00                          None   \n",
       "\n",
       "entity                           binary_sensor.late_night_sensor  \\\n",
       "last_changed                                                       \n",
       "2017-12-25 07:30:00.472937+00:00                            None   \n",
       "2017-12-25 07:30:00.474791+00:00                           False   \n",
       "2017-12-25 07:30:00.476154+00:00                            None   \n",
       "2017-12-25 07:30:00.477496+00:00                            None   \n",
       "2017-12-25 07:30:00.728927+00:00                            None   \n",
       "\n",
       "entity                           binary_sensor.living_room_nest_protect_online  \\\n",
       "last_changed                                                                     \n",
       "2017-12-25 07:30:00.472937+00:00                                          None   \n",
       "2017-12-25 07:30:00.474791+00:00                                          None   \n",
       "2017-12-25 07:30:00.476154+00:00                                          None   \n",
       "2017-12-25 07:30:00.477496+00:00                                          None   \n",
       "2017-12-25 07:30:00.728927+00:00                                          None   \n",
       "\n",
       "entity                           binary_sensor.macbook  \\\n",
       "last_changed                                             \n",
       "2017-12-25 07:30:00.472937+00:00                  None   \n",
       "2017-12-25 07:30:00.474791+00:00                  None   \n",
       "2017-12-25 07:30:00.476154+00:00                  None   \n",
       "2017-12-25 07:30:00.477496+00:00                  None   \n",
       "2017-12-25 07:30:00.728927+00:00                  None   \n",
       "\n",
       "entity                           binary_sensor.motion_at_home  \\\n",
       "last_changed                                                    \n",
       "2017-12-25 07:30:00.472937+00:00                        False   \n",
       "2017-12-25 07:30:00.474791+00:00                         None   \n",
       "2017-12-25 07:30:00.476154+00:00                         None   \n",
       "2017-12-25 07:30:00.477496+00:00                         None   \n",
       "2017-12-25 07:30:00.728927+00:00                         None   \n",
       "\n",
       "entity                           binary_sensor.wipy_water_monitor  \\\n",
       "last_changed                                                        \n",
       "2017-12-25 07:30:00.472937+00:00                             None   \n",
       "2017-12-25 07:30:00.474791+00:00                             None   \n",
       "2017-12-25 07:30:00.476154+00:00                             None   \n",
       "2017-12-25 07:30:00.477496+00:00                             None   \n",
       "2017-12-25 07:30:00.728927+00:00                            False   \n",
       "\n",
       "entity                           binary_sensor.workday_sensor  \n",
       "last_changed                                                   \n",
       "2017-12-25 07:30:00.472937+00:00                         None  \n",
       "2017-12-25 07:30:00.474791+00:00                         None  \n",
       "2017-12-25 07:30:00.476154+00:00                         None  \n",
       "2017-12-25 07:30:00.477496+00:00                         None  \n",
       "2017-12-25 07:30:00.728927+00:00                         None  "
      ]
     },
     "execution_count": 48,
     "metadata": {},
     "output_type": "execute_result"
    }
   ],
   "source": [
    "binary_sensors_df.head()"
   ]
  },
  {
   "cell_type": "code",
   "execution_count": 49,
   "metadata": {},
   "outputs": [],
   "source": [
    "binary_sensors_df = binary_sensors_df.fillna(method='ffill')\n",
    "binary_sensors_df = binary_sensors_df.dropna() # drop any remaining nan"
   ]
  },
  {
   "cell_type": "markdown",
   "metadata": {},
   "source": [
    "Lets get only the motion sensor and put in a dataframe"
   ]
  },
  {
   "cell_type": "code",
   "execution_count": 50,
   "metadata": {},
   "outputs": [],
   "source": [
    "motion_df = binary_sensors_df[\"binary_sensor.motion_at_home\"].to_frame() "
   ]
  },
  {
   "cell_type": "code",
   "execution_count": 51,
   "metadata": {},
   "outputs": [],
   "source": [
    "motion_df.index = pd.to_datetime(motion_df.index)"
   ]
  },
  {
   "cell_type": "markdown",
   "metadata": {},
   "source": [
    "#### Create some features\n",
    "Lets get the weekday"
   ]
  },
  {
   "cell_type": "code",
   "execution_count": 52,
   "metadata": {},
   "outputs": [],
   "source": [
    "motion_df['weekday'] = motion_df.index.weekday_name"
   ]
  },
  {
   "cell_type": "code",
   "execution_count": 53,
   "metadata": {},
   "outputs": [],
   "source": [
    "motion_df['time'] = motion_df.index.time"
   ]
  },
  {
   "cell_type": "code",
   "execution_count": 54,
   "metadata": {},
   "outputs": [],
   "source": [
    "motion_df['is_weekday'] = motion_df.index.map(lambda x: is_weekday(x))"
   ]
  },
  {
   "cell_type": "code",
   "execution_count": 55,
   "metadata": {},
   "outputs": [],
   "source": [
    "motion_df = motion_df[motion_df['binary_sensor.motion_at_home'] == True] # Keep only true detection events"
   ]
  },
  {
   "cell_type": "code",
   "execution_count": 56,
   "metadata": {},
   "outputs": [],
   "source": [
    "motion_df['time_category'] = motion_df.index.map(lambda x: time_category(x))"
   ]
  },
  {
   "cell_type": "code",
   "execution_count": 57,
   "metadata": {},
   "outputs": [
    {
     "data": {
      "text/html": [
       "<div>\n",
       "<style scoped>\n",
       "    .dataframe tbody tr th:only-of-type {\n",
       "        vertical-align: middle;\n",
       "    }\n",
       "\n",
       "    .dataframe tbody tr th {\n",
       "        vertical-align: top;\n",
       "    }\n",
       "\n",
       "    .dataframe thead th {\n",
       "        text-align: right;\n",
       "    }\n",
       "</style>\n",
       "<table border=\"1\" class=\"dataframe\">\n",
       "  <thead>\n",
       "    <tr style=\"text-align: right;\">\n",
       "      <th></th>\n",
       "      <th>binary_sensor.motion_at_home</th>\n",
       "      <th>weekday</th>\n",
       "      <th>time</th>\n",
       "      <th>is_weekday</th>\n",
       "      <th>time_category</th>\n",
       "    </tr>\n",
       "    <tr>\n",
       "      <th>last_changed</th>\n",
       "      <th></th>\n",
       "      <th></th>\n",
       "      <th></th>\n",
       "      <th></th>\n",
       "      <th></th>\n",
       "    </tr>\n",
       "  </thead>\n",
       "  <tbody>\n",
       "    <tr>\n",
       "      <th>2017-12-29 08:05:52.867213+00:00</th>\n",
       "      <td>True</td>\n",
       "      <td>Friday</td>\n",
       "      <td>08:05:52.867213</td>\n",
       "      <td>True</td>\n",
       "      <td>morning</td>\n",
       "    </tr>\n",
       "    <tr>\n",
       "      <th>2017-12-29 08:06:11.862516+00:00</th>\n",
       "      <td>True</td>\n",
       "      <td>Friday</td>\n",
       "      <td>08:06:11.862516</td>\n",
       "      <td>True</td>\n",
       "      <td>morning</td>\n",
       "    </tr>\n",
       "    <tr>\n",
       "      <th>2017-12-29 08:07:09.870728+00:00</th>\n",
       "      <td>True</td>\n",
       "      <td>Friday</td>\n",
       "      <td>08:07:09.870728</td>\n",
       "      <td>True</td>\n",
       "      <td>morning</td>\n",
       "    </tr>\n",
       "    <tr>\n",
       "      <th>2017-12-29 08:12:12.865352+00:00</th>\n",
       "      <td>True</td>\n",
       "      <td>Friday</td>\n",
       "      <td>08:12:12.865352</td>\n",
       "      <td>True</td>\n",
       "      <td>morning</td>\n",
       "    </tr>\n",
       "    <tr>\n",
       "      <th>2017-12-29 08:17:49.864774+00:00</th>\n",
       "      <td>True</td>\n",
       "      <td>Friday</td>\n",
       "      <td>08:17:49.864774</td>\n",
       "      <td>True</td>\n",
       "      <td>morning</td>\n",
       "    </tr>\n",
       "  </tbody>\n",
       "</table>\n",
       "</div>"
      ],
      "text/plain": [
       "                                  binary_sensor.motion_at_home weekday  \\\n",
       "last_changed                                                             \n",
       "2017-12-29 08:05:52.867213+00:00                          True  Friday   \n",
       "2017-12-29 08:06:11.862516+00:00                          True  Friday   \n",
       "2017-12-29 08:07:09.870728+00:00                          True  Friday   \n",
       "2017-12-29 08:12:12.865352+00:00                          True  Friday   \n",
       "2017-12-29 08:17:49.864774+00:00                          True  Friday   \n",
       "\n",
       "                                             time is_weekday time_category  \n",
       "last_changed                                                                \n",
       "2017-12-29 08:05:52.867213+00:00  08:05:52.867213       True       morning  \n",
       "2017-12-29 08:06:11.862516+00:00  08:06:11.862516       True       morning  \n",
       "2017-12-29 08:07:09.870728+00:00  08:07:09.870728       True       morning  \n",
       "2017-12-29 08:12:12.865352+00:00  08:12:12.865352       True       morning  \n",
       "2017-12-29 08:17:49.864774+00:00  08:17:49.864774       True       morning  "
      ]
     },
     "execution_count": 57,
     "metadata": {},
     "output_type": "execute_result"
    }
   ],
   "source": [
    "motion_df.head()"
   ]
  },
  {
   "cell_type": "markdown",
   "metadata": {},
   "source": [
    "#### Analysis of motion data\n",
    "Try a facet grid to represent data https://seaborn.pydata.org/generated/seaborn.FacetGrid.html?highlight=facet#seaborn.FacetGrid\n",
    "Lets see if there is more motion at home on weekends."
   ]
  },
  {
   "cell_type": "code",
   "execution_count": 58,
   "metadata": {},
   "outputs": [
    {
     "data": {
      "text/plain": [
       "is_weekday\n",
       "False    1315\n",
       "True     2618\n",
       "Name: count, dtype: object"
      ]
     },
     "execution_count": 58,
     "metadata": {},
     "output_type": "execute_result"
    }
   ],
   "source": [
    "motion_df['binary_sensor.motion_at_home'].groupby(motion_df['is_weekday']).describe()['count']"
   ]
  },
  {
   "cell_type": "markdown",
   "metadata": {},
   "source": [
    "OK, so there is more activity at home on weekdays, but there are also 5 days in the working week and 2 in the weekend.\n",
    "\n",
    "Now, how about activity by weekday."
   ]
  },
  {
   "cell_type": "markdown",
   "metadata": {},
   "source": [
    "And activity by weekday and time category."
   ]
  },
  {
   "cell_type": "code",
   "execution_count": 59,
   "metadata": {},
   "outputs": [
    {
     "data": {
      "text/html": [
       "<div>\n",
       "<style scoped>\n",
       "    .dataframe tbody tr th:only-of-type {\n",
       "        vertical-align: middle;\n",
       "    }\n",
       "\n",
       "    .dataframe tbody tr th {\n",
       "        vertical-align: top;\n",
       "    }\n",
       "\n",
       "    .dataframe thead th {\n",
       "        text-align: right;\n",
       "    }\n",
       "</style>\n",
       "<table border=\"1\" class=\"dataframe\">\n",
       "  <thead>\n",
       "    <tr style=\"text-align: right;\">\n",
       "      <th>weekday</th>\n",
       "      <th>Friday</th>\n",
       "      <th>Monday</th>\n",
       "      <th>Saturday</th>\n",
       "      <th>Sunday</th>\n",
       "      <th>Thursday</th>\n",
       "      <th>Tuesday</th>\n",
       "      <th>Wednesday</th>\n",
       "    </tr>\n",
       "    <tr>\n",
       "      <th>time_category</th>\n",
       "      <th></th>\n",
       "      <th></th>\n",
       "      <th></th>\n",
       "      <th></th>\n",
       "      <th></th>\n",
       "      <th></th>\n",
       "      <th></th>\n",
       "    </tr>\n",
       "  </thead>\n",
       "  <tbody>\n",
       "    <tr>\n",
       "      <th>daytime</th>\n",
       "      <td>414</td>\n",
       "      <td>113</td>\n",
       "      <td>350</td>\n",
       "      <td>384</td>\n",
       "      <td>34</td>\n",
       "      <td>366</td>\n",
       "      <td>14</td>\n",
       "    </tr>\n",
       "    <tr>\n",
       "      <th>evening</th>\n",
       "      <td>222</td>\n",
       "      <td>241</td>\n",
       "      <td>61</td>\n",
       "      <td>118</td>\n",
       "      <td>88</td>\n",
       "      <td>144</td>\n",
       "      <td>197</td>\n",
       "    </tr>\n",
       "    <tr>\n",
       "      <th>morning</th>\n",
       "      <td>110</td>\n",
       "      <td>98</td>\n",
       "      <td>177</td>\n",
       "      <td>187</td>\n",
       "      <td>127</td>\n",
       "      <td>193</td>\n",
       "      <td>185</td>\n",
       "    </tr>\n",
       "    <tr>\n",
       "      <th>night</th>\n",
       "      <td>9</td>\n",
       "      <td>1</td>\n",
       "      <td>19</td>\n",
       "      <td>19</td>\n",
       "      <td>13</td>\n",
       "      <td>41</td>\n",
       "      <td>8</td>\n",
       "    </tr>\n",
       "  </tbody>\n",
       "</table>\n",
       "</div>"
      ],
      "text/plain": [
       "weekday        Friday  Monday  Saturday  Sunday  Thursday  Tuesday  Wednesday\n",
       "time_category                                                                \n",
       "daytime           414     113       350     384        34      366         14\n",
       "evening           222     241        61     118        88      144        197\n",
       "morning           110      98       177     187       127      193        185\n",
       "night               9       1        19      19        13       41          8"
      ]
     },
     "execution_count": 59,
     "metadata": {},
     "output_type": "execute_result"
    }
   ],
   "source": [
    "motion_df_gb = motion_df['binary_sensor.motion_at_home'].groupby([motion_df['weekday'], motion_df['time_category']]).sum().unstack()\n",
    "motion_df_gb.fillna(value=0, inplace=True)   # Replace NaN with 0\n",
    "motion_df_gb = motion_df_gb.astype('int')              # Ints rather than floats\n",
    "motion_df_gb = motion_df_gb.T\n",
    "motion_df_gb"
   ]
  },
  {
   "cell_type": "code",
   "execution_count": 60,
   "metadata": {},
   "outputs": [
    {
     "data": {
      "image/png": "[encoded data removed]",
      "text/plain": [
       "<matplotlib.figure.Figure at 0x118b04fd0>"
      ]
     },
     "metadata": {},
     "output_type": "display_data"
    }
   ],
   "source": [
    "fig, ax = plt.subplots(figsize=(8, 6))\n",
    "days_list = ['Monday', 'Tuesday', 'Wednesday', 'Thursday', 'Friday', 'Saturday', 'Sunday']\n",
    "times_list = ['morning', 'daytime', 'evening', 'night']\n",
    "ax = sns.heatmap(motion_df_gb[days_list].loc[times_list], annot=True, linewidths=.5, fmt=\"d\", ax=ax, cmap='Reds');\n",
    "ax.set_title('Activity at home by day and time category')\n",
    "fig.savefig('heatmap.jpg')"
   ]
  },
  {
   "cell_type": "markdown",
   "metadata": {},
   "source": [
    "## Bayesian sensor"
   ]
  },
  {
   "cell_type": "code",
   "execution_count": 61,
   "metadata": {},
   "outputs": [
    {
     "data": {
      "text/html": [
       "<div>\n",
       "<style scoped>\n",
       "    .dataframe tbody tr th:only-of-type {\n",
       "        vertical-align: middle;\n",
       "    }\n",
       "\n",
       "    .dataframe tbody tr th {\n",
       "        vertical-align: top;\n",
       "    }\n",
       "\n",
       "    .dataframe thead th {\n",
       "        text-align: right;\n",
       "    }\n",
       "</style>\n",
       "<table border=\"1\" class=\"dataframe\">\n",
       "  <thead>\n",
       "    <tr style=\"text-align: right;\">\n",
       "      <th></th>\n",
       "      <th></th>\n",
       "      <th></th>\n",
       "      <th></th>\n",
       "      <th>state</th>\n",
       "    </tr>\n",
       "    <tr>\n",
       "      <th>domain</th>\n",
       "      <th>entity</th>\n",
       "      <th>numerical</th>\n",
       "      <th>last_changed</th>\n",
       "      <th></th>\n",
       "    </tr>\n",
       "  </thead>\n",
       "  <tbody>\n",
       "    <tr>\n",
       "      <th rowspan=\"5\" valign=\"top\">binary_sensor</th>\n",
       "      <th rowspan=\"5\" valign=\"top\">binary_sensor.in_bed_bayesian</th>\n",
       "      <th rowspan=\"5\" valign=\"top\">False</th>\n",
       "      <th>2017-12-25 07:30:00.477496+00:00</th>\n",
       "      <td>off</td>\n",
       "    </tr>\n",
       "    <tr>\n",
       "      <th>2017-12-25 07:30:00.477496+00:00</th>\n",
       "      <td>off</td>\n",
       "    </tr>\n",
       "    <tr>\n",
       "      <th>2017-12-25 07:30:00.477496+00:00</th>\n",
       "      <td>off</td>\n",
       "    </tr>\n",
       "    <tr>\n",
       "      <th>2017-12-25 07:30:00.477496+00:00</th>\n",
       "      <td>off</td>\n",
       "    </tr>\n",
       "    <tr>\n",
       "      <th>2017-12-25 07:30:00.477496+00:00</th>\n",
       "      <td>off</td>\n",
       "    </tr>\n",
       "  </tbody>\n",
       "</table>\n",
       "</div>"
      ],
      "text/plain": [
       "                                                                                       state\n",
       "domain        entity                        numerical last_changed                          \n",
       "binary_sensor binary_sensor.in_bed_bayesian False     2017-12-25 07:30:00.477496+00:00   off\n",
       "                                                      2017-12-25 07:30:00.477496+00:00   off\n",
       "                                                      2017-12-25 07:30:00.477496+00:00   off\n",
       "                                                      2017-12-25 07:30:00.477496+00:00   off\n",
       "                                                      2017-12-25 07:30:00.477496+00:00   off"
      ]
     },
     "execution_count": 61,
     "metadata": {},
     "output_type": "execute_result"
    }
   ],
   "source": [
    "query = 'entity == \"binary_sensor.in_bed_bayesian\"'\n",
    "in_bed_bayes_df = df.query(query)\n",
    "in_bed_bayes_df.head()"
   ]
  },
  {
   "cell_type": "code",
   "execution_count": 62,
   "metadata": {},
   "outputs": [
    {
     "data": {
      "text/plain": [
       "array(['off', 'on'], dtype=object)"
      ]
     },
     "execution_count": 62,
     "metadata": {},
     "output_type": "execute_result"
    }
   ],
   "source": [
    "in_bed_bayes_df['state'].unique()"
   ]
  },
  {
   "cell_type": "markdown",
   "metadata": {},
   "source": [
    "Hmm where are my on.."
   ]
  },
  {
   "cell_type": "code",
   "execution_count": 63,
   "metadata": {},
   "outputs": [],
   "source": [
    "in_bed_bayes_df.index = in_bed_bayes_df.index.get_level_values('last_changed')  # Keep only last_changed level"
   ]
  },
  {
   "cell_type": "code",
   "execution_count": 64,
   "metadata": {},
   "outputs": [],
   "source": [
    "in_bed_bayes_df.index = pd.to_datetime(in_bed_bayes_df.index)  # Convert to datetime"
   ]
  },
  {
   "cell_type": "code",
   "execution_count": 65,
   "metadata": {},
   "outputs": [
    {
     "data": {
      "text/plain": [
       "[<matplotlib.lines.Line2D at 0x11535ffd0>]"
      ]
     },
     "execution_count": 65,
     "metadata": {},
     "output_type": "execute_result"
    },
    {
     "data": {
      "image/png": "[encoded data removed]",
      "text/plain": [
       "<matplotlib.figure.Figure at 0x1184c8240>"
      ]
     },
     "metadata": {},
     "output_type": "display_data"
    }
   ],
   "source": [
    "f, ax = plt.subplots(figsize=(16, 6))\n",
    "ax.step(in_bed_bayes_df, 'bo', where='post')"
   ]
  },
  {
   "cell_type": "code",
   "execution_count": 66,
   "metadata": {},
   "outputs": [
    {
     "data": {
      "text/plain": [
       "Text(0,0.5,'In bed status')"
      ]
     },
     "execution_count": 66,
     "metadata": {},
     "output_type": "execute_result"
    },
    {
     "data": {
      "image/png": "[encoded data removed]",
      "text/plain": [
       "<matplotlib.figure.Figure at 0x115688710>"
      ]
     },
     "metadata": {},
     "output_type": "display_data"
    }
   ],
   "source": [
    "now = dt.datetime.now()\n",
    "hours_to_plot = 240\n",
    "\n",
    "f, ax = plt.subplots(figsize=(16, 6))\n",
    "ax.step(in_bed_bayes_df, 'bo', where='post')\n",
    "xfmt = md.DateFormatter('%d %H:%M:%S') # %m-\n",
    "ax.xaxis.set_major_formatter(xfmt)\n",
    "ax.set_xlim(now-dt.timedelta(hours=hours_to_plot), now)\n",
    "ax.set_ylabel('In bed status', color='b')"
   ]
  },
  {
   "cell_type": "code",
   "execution_count": null,
   "metadata": {},
   "outputs": [],
   "source": []
  }
 ],
 "metadata": {
  "kernelspec": {
   "display_name": "Python 3",
   "language": "python",
   "name": "python3"
  },
  "language_info": {
   "codemirror_mode": {
    "name": "ipython",
    "version": 3
   },
   "file_extension": ".py",
   "mimetype": "text/x-python",
   "name": "python",
   "nbconvert_exporter": "python",
   "pygments_lexer": "ipython3",
   "version": "3.6.3"
  }
 },
 "nbformat": 4,
 "nbformat_minor": 2
}
