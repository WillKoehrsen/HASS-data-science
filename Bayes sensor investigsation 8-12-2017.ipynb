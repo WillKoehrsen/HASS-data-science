{
 "cells": [
  {
   "cell_type": "markdown",
   "metadata": {},
   "source": [
    "I wish to understand how this sensor operates, lets do an investigation\n",
    "\n",
    "https://github.com/home-assistant/home-assistant/blob/dev/homeassistant/components/binary_sensor/bayesian.py code\n",
    "\n",
    "https://home-assistant.io/components/binary_sensor.bayesian/ docs\n",
    "\n",
    "https://en.wikipedia.org/wiki/Bayes%27_theorem wikipedia on Bayes\n",
    "\n",
    "\\begin{equation}\n",
    "\\label{eq:bayes}\n",
    "P(\\theta|\\textbf{D}) = P(\\theta ) \\frac{P(\\textbf{D} |\\theta)}{P(\\textbf{D})} \n",
    "\\end{equation}"
   ]
  },
  {
   "cell_type": "code",
   "execution_count": 1,
   "metadata": {},
   "outputs": [],
   "source": [
    "from collections import OrderedDict"
   ]
  },
  {
   "cell_type": "code",
   "execution_count": 2,
   "metadata": {},
   "outputs": [],
   "source": [
    "ATTR_OBSERVATIONS = 'observations'\n",
    "ATTR_PROBABILITY = 'probability'\n",
    "ATTR_PROBABILITY_THRESHOLD = 'probability_threshold'\n",
    "\n",
    "CONF_OBSERVATIONS = 'observations'\n",
    "CONF_PRIOR = 'prior'\n",
    "CONF_PROBABILITY_THRESHOLD = 'probability_threshold'\n",
    "CONF_P_GIVEN_F = 'prob_given_false'\n",
    "CONF_P_GIVEN_T = 'prob_given_true'\n",
    "CONF_TO_STATE = 'to_state'\n",
    "\n",
    "CONF_DEVICE_CLASS = 'device_class'\n",
    "CONF_ENTITY_ID = 'entity_id'  # These are HA defaults\n",
    "CONF_NAME = 'name'\n",
    "CONF_PLATFORM = 'platform'\n",
    "\n",
    "DEFAULT_NAME = \"Bayesian Binary Sensor\"\n",
    "DEFAULT_PROBABILITY_THRESHOLD = 0.5"
   ]
  },
  {
   "cell_type": "markdown",
   "metadata": {},
   "source": [
    "A valid config from the docs "
   ]
  },
  {
   "cell_type": "code",
   "execution_count": 3,
   "metadata": {},
   "outputs": [],
   "source": [
    "config = {\n",
    "    CONF_PRIOR: 0.1,\n",
    "    CONF_NAME: 'test_name',\n",
    "    CONF_PROBABILITY_THRESHOLD: 0.95,\n",
    "    CONF_DEVICE_CLASS: 'binary_device',\n",
    "    CONF_OBSERVATIONS:[\n",
    "        {\n",
    "        CONF_ENTITY_ID: 'switch.kitchen_lights',\n",
    "        CONF_P_GIVEN_T: 0.6,\n",
    "        CONF_P_GIVEN_F: 0.2,\n",
    "        CONF_PLATFORM: 'state',\n",
    "        CONF_TO_STATE: 'on'}]\n",
    "        }"
   ]
  },
  {
   "cell_type": "markdown",
   "metadata": {},
   "source": [
    "Bayes rule to calculate the posteria probability"
   ]
  },
  {
   "cell_type": "code",
   "execution_count": 4,
   "metadata": {},
   "outputs": [],
   "source": [
    "def update_probability(prior, prob_true, prob_false):\n",
    "    \"\"\"Update probability using Bayes' rule.\"\"\"\n",
    "    numerator = prob_true * prior\n",
    "    denominator = numerator + prob_false * (1 - prior)\n",
    "\n",
    "    probability = numerator / denominator\n",
    "    return probability"
   ]
  },
  {
   "cell_type": "markdown",
   "metadata": {},
   "source": [
    "Add the binary sensor class from https://github.com/home-assistant/home-assistant/blob/dev/homeassistant/components/binary_sensor/__init__.py"
   ]
  },
  {
   "cell_type": "code",
   "execution_count": 5,
   "metadata": {},
   "outputs": [],
   "source": [
    "class BinarySensorDevice():  # Entity\n",
    "    \"\"\"Represent a binary sensor.\"\"\"\n",
    "\n",
    "    @property\n",
    "    def is_on(self):\n",
    "        \"\"\"Return true if the binary sensor is on.\"\"\"\n",
    "        return None\n",
    "\n",
    "    @property\n",
    "    def state(self):\n",
    "        \"\"\"Return the state of the binary sensor.\"\"\"\n",
    "        return STATE_ON if self.is_on else STATE_OFF\n",
    "\n",
    "    @property\n",
    "    def device_class(self):\n",
    "        \"\"\"Return the class of this device, from component DEVICE_CLASSES.\"\"\"\n",
    "        return None"
   ]
  },
  {
   "cell_type": "markdown",
   "metadata": {},
   "source": [
    "Add the bayesian sensor class"
   ]
  },
  {
   "cell_type": "code",
   "execution_count": 6,
   "metadata": {},
   "outputs": [],
   "source": [
    "class BayesianBinarySensor():  # BinarySensorDevice\n",
    "    \"\"\"Representation of a Bayesian sensor.\n",
    "    Removed some methods I don't think will be needed for this investigation.\"\"\"\n",
    "\n",
    "    def __init__(self, name, prior, observations, probability_threshold,\n",
    "                 device_class):\n",
    "        \"\"\"Initialize the Bayesian sensor.\"\"\"\n",
    "        self._name = name\n",
    "        self._observations = observations\n",
    "        self._probability_threshold = probability_threshold\n",
    "        self._device_class = device_class\n",
    "        self._deviation = False\n",
    "        self.prior = prior\n",
    "        self.probability = prior\n",
    "\n",
    "        self.current_obs = OrderedDict({})\n",
    "\n",
    "        to_observe = set(obs['entity_id'] for obs in self._observations) # return the entity_id to observ\n",
    "\n",
    "        self.entity_obs = dict.fromkeys(to_observe, [])\n",
    "\n",
    "        for ind, obs in enumerate(self._observations):\n",
    "            obs['id'] = ind\n",
    "            self.entity_obs[obs['entity_id']].append(obs)\n",
    "\n",
    "        self.watchers = {\n",
    "            'numeric_state': self._process_numeric_state,\n",
    "            'state': self._process_state\n",
    "        }\n",
    "        \n",
    "    def _update_current_obs(self, entity_observation, should_trigger):\n",
    "        \"\"\"Update current observation.\"\"\"\n",
    "        obs_id = entity_observation['id']\n",
    "\n",
    "        if should_trigger:\n",
    "            prob_true = entity_observation['prob_given_true']\n",
    "            prob_false = entity_observation.get(\n",
    "                'prob_given_false', 1 - prob_true)\n",
    "\n",
    "            self.current_obs[obs_id] = {\n",
    "                'prob_true': prob_true,\n",
    "                'prob_false': prob_false\n",
    "            }\n",
    "\n",
    "        else:\n",
    "            self.current_obs.pop(obs_id, None)\n",
    "\n",
    "    def _process_numeric_state(self, entity_observation):\n",
    "        \"\"\"Add entity to current_obs if numeric state conditions are met.\"\"\"\n",
    "        entity = entity_observation['entity_id']\n",
    "\n",
    "        should_trigger = condition.async_numeric_state(\n",
    "            self.hass, entity,\n",
    "            entity_observation.get('below'),\n",
    "            entity_observation.get('above'), None, entity_observation)\n",
    "\n",
    "        self._update_current_obs(entity_observation, should_trigger)\n",
    "\n",
    "    def _process_state(self, entity_observation):\n",
    "        \"\"\"Add entity to current observations if state conditions are met.\"\"\"\n",
    "        entity = entity_observation['entity_id']\n",
    "\n",
    "        should_trigger = condition.state(\n",
    "            self.hass, entity, entity_observation.get('to_state'))\n",
    "\n",
    "        self._update_current_obs(entity_observation, should_trigger)     \n",
    "        \n",
    "    @property\n",
    "    def name(self):\n",
    "        \"\"\"Return the name of the sensor.\"\"\"\n",
    "        return self._name\n",
    "\n",
    "    @property\n",
    "    def is_on(self):\n",
    "        \"\"\"Return true if sensor is on.\"\"\"\n",
    "        return self._deviation\n",
    "\n",
    "    @property\n",
    "    def should_poll(self):\n",
    "        \"\"\"No polling needed.\"\"\"\n",
    "        return False\n",
    "\n",
    "    @property\n",
    "    def device_class(self):\n",
    "        \"\"\"Return the sensor class of the sensor.\"\"\"\n",
    "        return self._device_class\n",
    "\n",
    "    @property\n",
    "    def device_state_attributes(self):\n",
    "        \"\"\"Return the state attributes of the sensor.\"\"\"\n",
    "        return {\n",
    "            ATTR_OBSERVATIONS: [val for val in self.current_obs.values()],\n",
    "            ATTR_PROBABILITY: round(self.probability, 2),\n",
    "            ATTR_PROBABILITY_THRESHOLD: self._probability_threshold,\n",
    "        }\n"
   ]
  },
  {
   "cell_type": "code",
   "execution_count": 7,
   "metadata": {},
   "outputs": [],
   "source": [
    "def setup_platform(config):\n",
    "    \"\"\"Set up the Bayesian Binary sensor.\n",
    "    Modified from async_setup_platform.\"\"\"\n",
    "    name = config[CONF_NAME]\n",
    "    observations = config[CONF_OBSERVATIONS]\n",
    "    prior = config[CONF_PRIOR]\n",
    "    probability_threshold = config[CONF_PROBABILITY_THRESHOLD]\n",
    "    device_class = config[CONF_DEVICE_CLASS]\n",
    "\n",
    "    return    BayesianBinarySensor(\n",
    "            name, prior, observations, probability_threshold, device_class)"
   ]
  },
  {
   "cell_type": "code",
   "execution_count": 8,
   "metadata": {},
   "outputs": [],
   "source": [
    "bayesian_sensor = setup_platform(config)"
   ]
  },
  {
   "cell_type": "code",
   "execution_count": 9,
   "metadata": {},
   "outputs": [
    {
     "name": "stdout",
     "output_type": "stream",
     "text": [
      "{'observations': [], 'probability': 0.1, 'probability_threshold': 0.95}\n"
     ]
    }
   ],
   "source": [
    "print(bayesian_sensor.device_state_attributes)"
   ]
  },
  {
   "cell_type": "code",
   "execution_count": null,
   "metadata": {},
   "outputs": [],
   "source": []
  }
 ],
 "metadata": {
  "kernelspec": {
   "display_name": "Python 3",
   "language": "python",
   "name": "python3"
  },
  "language_info": {
   "codemirror_mode": {
    "name": "ipython",
    "version": 3
   },
   "file_extension": ".py",
   "mimetype": "text/x-python",
   "name": "python",
   "nbconvert_exporter": "python",
   "pygments_lexer": "ipython3",
   "version": "3.6.3"
  }
 },
 "nbformat": 4,
 "nbformat_minor": 2
}
