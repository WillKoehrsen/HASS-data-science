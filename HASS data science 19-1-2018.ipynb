{
 "cells": [
  {
   "cell_type": "markdown",
   "metadata": {},
   "source": [
    "Goal - convenience functions to parse HA data into useful format for data science. Consider creating a class to hold the data.\n",
    "SQLAlchemy is used in this notebook but other suitable libraries are available.\n",
    "\n",
    "http://nbviewer.jupyter.org/github/home-assistant/home-assistant-notebooks/blob/master/DataExploration-1/DataExploration-1.ipynb\n",
    "\n",
    "http://www.sqlalchemy.org/\n",
    "\n",
    "https://www.dataquest.io/blog/images/cheat-sheets/pandas-cheat-sheet.pdf\n",
    "\n",
    "https://chrisalbon.com/ Useful ref\n",
    "\n",
    "11-1-2018: Using Google cloud data"
   ]
  },
  {
   "cell_type": "code",
   "execution_count": 60,
   "metadata": {},
   "outputs": [],
   "source": [
    "%matplotlib inline\n",
    "from datetime import datetime\n",
    "from sqlalchemy import create_engine, text\n",
    "import json\n",
    "from datetime import datetime, timedelta\n",
    "import seaborn as sns\n",
    "import numpy as np\n",
    "import pandas as pd\n",
    "import matplotlib.pyplot as plt\n",
    "import matplotlib.dates as md\n",
    "import datetime as dt\n",
    "from fbprophet import Prophet"
   ]
  },
  {
   "cell_type": "code",
   "execution_count": 2,
   "metadata": {},
   "outputs": [],
   "source": [
    "def load_url(filename):\n",
    "    \"\"\"Convenience for loading a url from a json file.\"\"\"\n",
    "    try:\n",
    "        with open(filename, 'r') as fp:\n",
    "            url = json.load(fp)\n",
    "    except Exception as e:\n",
    "        print('Failed to load url')\n",
    "        url = None\n",
    "    return url['url']"
   ]
  },
  {
   "cell_type": "markdown",
   "metadata": {},
   "source": [
    "Some helper functions for parsing HA data"
   ]
  },
  {
   "cell_type": "code",
   "execution_count": 3,
   "metadata": {},
   "outputs": [],
   "source": [
    "def time_category(dtObj):\n",
    "    \"\"\"Return a time category, bed, home, work, given a datetime object dtObj.\"\"\"\n",
    "    if 9 <= dtObj.hour <= 17:\n",
    "        return 'daytime'\n",
    "    elif 5 <= dtObj.hour < 9:\n",
    "        return 'morning'\n",
    "    elif 17 < dtObj.hour < 23:\n",
    "        return 'evening'\n",
    "    else:\n",
    "        return 'night'"
   ]
  },
  {
   "cell_type": "code",
   "execution_count": 4,
   "metadata": {},
   "outputs": [],
   "source": [
    "def is_weekday(dtObj):\n",
    "    \"\"\"Check a datetime object dtObj is a weekday\"\"\"\n",
    "    if dtObj.weekday() < 5:\n",
    "        return True\n",
    "    else:\n",
    "        return False"
   ]
  },
  {
   "cell_type": "code",
   "execution_count": 5,
   "metadata": {},
   "outputs": [
    {
     "data": {
      "text/plain": [
       "True"
      ]
     },
     "execution_count": 5,
     "metadata": {},
     "output_type": "execute_result"
    }
   ],
   "source": [
    "def isfloat(value):\n",
    "    \"\"\"Check if string can be parsed to a float.\"\"\"\n",
    "    try:\n",
    "        float(value)\n",
    "        return True\n",
    "    except ValueError:\n",
    "        return False\n",
    "\n",
    "isfloat('23.6')"
   ]
  },
  {
   "cell_type": "code",
   "execution_count": 6,
   "metadata": {},
   "outputs": [],
   "source": [
    "def parse_state(value):\n",
    "    \"\"\"Check if state can be parsed to a float.\"\"\"\n",
    "    try:\n",
    "        float(value)\n",
    "        return float(value)\n",
    "    except ValueError:\n",
    "        return value\n",
    "\n",
    "val = parse_state('23.6')"
   ]
  },
  {
   "cell_type": "code",
   "execution_count": 7,
   "metadata": {},
   "outputs": [
    {
     "data": {
      "text/plain": [
       "'foo'"
      ]
     },
     "execution_count": 7,
     "metadata": {},
     "output_type": "execute_result"
    }
   ],
   "source": [
    "parse_state('foo')"
   ]
  },
  {
   "cell_type": "code",
   "execution_count": 8,
   "metadata": {},
   "outputs": [
    {
     "name": "stdout",
     "output_type": "stream",
     "text": [
      "True\n",
      "False\n",
      "nan\n"
     ]
    }
   ],
   "source": [
    "def binary_state(value):\n",
    "    \"\"\"Return a binary for the state of binary sensors\"\"\"\n",
    "    if  value == 'on':\n",
    "        return True\n",
    "    elif value == 'off':\n",
    "        return False\n",
    "    else:\n",
    "        return float('nan')\n",
    "\n",
    "print(binary_state('on'))\n",
    "print(binary_state('off'))\n",
    "print(binary_state('foo'))"
   ]
  },
  {
   "cell_type": "code",
   "execution_count": 9,
   "metadata": {},
   "outputs": [
    {
     "data": {
      "text/plain": [
       "'bme680humidity'"
      ]
     },
     "execution_count": 9,
     "metadata": {},
     "output_type": "execute_result"
    }
   ],
   "source": [
    "def rename_entity(entity_id):\n",
    "    \"\"\"Takes an entity_if of form sensor.name and returns name.\"\"\"\n",
    "    return entity_id.split('.')[1]\n",
    "\n",
    "rename_entity('sensor.bme680humidity')"
   ]
  },
  {
   "cell_type": "markdown",
   "metadata": {},
   "source": [
    "Conveninece to query and filter list of entities"
   ]
  },
  {
   "cell_type": "code",
   "execution_count": 10,
   "metadata": {},
   "outputs": [],
   "source": [
    "def query_entities(*args, **kwargs):\n",
    "    \"\"\"Takes a query term or terms and returns a list of entities satisfying the term. \n",
    "    Additionally apply a single filter term. \n",
    "    Example usage = query_entities('temperature', 'light', filter='sensor)\"\"\"\n",
    "    query_results = [entity for entity in entity_list if any(query in entity for query in args)] \n",
    "    if kwargs['filter']:\n",
    "        filtered_resaults = [entity for entity in query_results if kwargs['filter'] in entity]\n",
    "        return filtered_resaults\n",
    "    else:\n",
    "        return query_results"
   ]
  },
  {
   "cell_type": "markdown",
   "metadata": {},
   "source": [
    "Convenience function for checking a state. This is incredibly slow when applied to large data frames. Better approach is place data on time index and fill."
   ]
  },
  {
   "cell_type": "code",
   "execution_count": 11,
   "metadata": {},
   "outputs": [],
   "source": [
    "def state_at_time(df, dtObj):\n",
    "    \"\"\"Check the last registered state at some time using asof.\n",
    "    Passed df needs to be time indexed and should only include the entitiy_id of interest.\"\"\"\n",
    "    found_index = df.index.asof(dtObj)     # Find the closest index asof time test_time\n",
    "    if pd.isnull(found_index):             # If dtObj is before the first index of dt, will return NaT\n",
    "        return float('nan')\n",
    "    else:\n",
    "        state = df.loc[found_index]['state']      # Get the state at the found_index\n",
    "        return state"
   ]
  },
  {
   "cell_type": "markdown",
   "metadata": {},
   "source": [
    "## Fetch the states data"
   ]
  },
  {
   "cell_type": "code",
   "execution_count": 12,
   "metadata": {},
   "outputs": [],
   "source": [
    "filename = '/Users/robincole/Desktop/hass_db_url.json'\n",
    "DB_URL = load_url(filename)"
   ]
  },
  {
   "cell_type": "code",
   "execution_count": 13,
   "metadata": {},
   "outputs": [],
   "source": [
    "engine = create_engine(DB_URL)"
   ]
  },
  {
   "cell_type": "code",
   "execution_count": 14,
   "metadata": {},
   "outputs": [
    {
     "name": "stdout",
     "output_type": "stream",
     "text": [
      "CPU times: user 11.1 ms, sys: 7.34 ms, total: 18.5 ms\n",
      "Wall time: 8.23 s\n"
     ]
    }
   ],
   "source": [
    "%%time\n",
    "entity_id_list =  list(engine.execute(\"SELECT entity_id, COUNT(*) FROM states \\\n",
    "GROUP BY entity_id ORDER by 2 DESC\"))"
   ]
  },
  {
   "cell_type": "code",
   "execution_count": 15,
   "metadata": {},
   "outputs": [
    {
     "data": {
      "text/plain": [
       "133"
      ]
     },
     "execution_count": 15,
     "metadata": {},
     "output_type": "execute_result"
    }
   ],
   "source": [
    "len(entity_id_list)"
   ]
  },
  {
   "cell_type": "code",
   "execution_count": 16,
   "metadata": {},
   "outputs": [],
   "source": [
    "entity_list = list(zip(*entity_id_list))[0]"
   ]
  },
  {
   "cell_type": "code",
   "execution_count": 17,
   "metadata": {},
   "outputs": [
    {
     "data": {
      "text/plain": [
       "('sensor.bme680humidity',\n",
       " 'sensor.bme680pressure',\n",
       " 'sensor.bme680temperature',\n",
       " 'sun.sun',\n",
       " 'sensor.time')"
      ]
     },
     "execution_count": 17,
     "metadata": {},
     "output_type": "execute_result"
    }
   ],
   "source": [
    "entity_list[0:5]"
   ]
  },
  {
   "cell_type": "markdown",
   "metadata": {},
   "source": [
    "Select all state data for last X days, store in a single dataframe for convenience"
   ]
  },
  {
   "cell_type": "code",
   "execution_count": 18,
   "metadata": {},
   "outputs": [
    {
     "name": "stdout",
     "output_type": "stream",
     "text": [
      "CPU times: user 4.22 s, sys: 1.19 s, total: 5.41 s\n",
      "Wall time: 1min 11s\n"
     ]
    }
   ],
   "source": [
    "%%time\n",
    "# query to pull all rows form the states table where last_changed field is on \\\n",
    "# or after the date_filter value\n",
    "#stmt = text(\"SELECT * FROM states where last_changed>=:date_filter\")\n",
    "stmt = text(\"\"\"SELECT domain, entity_id, state, last_changed FROM states WHERE NOT state='unknown' \"\"\")\n",
    "\n",
    "# bind parameters to the stmt value, specifying the date_filter to be 10 days \\\n",
    "# before today\n",
    "#stmt = stmt.bindparams(date_filter=datetime.now()-timedelta(days=100))\n",
    "\n",
    "# execute the SQL statement\n",
    "allquery = engine.execute(stmt)\n",
    "\n",
    "# get rows from query into a pandas dataframe\n",
    "allqueryDF = pd.DataFrame(allquery.fetchall())"
   ]
  },
  {
   "cell_type": "code",
   "execution_count": 19,
   "metadata": {},
   "outputs": [
    {
     "data": {
      "text/plain": [
       "(670590, 4)"
      ]
     },
     "execution_count": 19,
     "metadata": {},
     "output_type": "execute_result"
    }
   ],
   "source": [
    "allqueryDF.shape"
   ]
  },
  {
   "cell_type": "code",
   "execution_count": 20,
   "metadata": {},
   "outputs": [
    {
     "name": "stdout",
     "output_type": "stream",
     "text": [
      "The dataframse size on disk is 21.45888 MB\n"
     ]
    }
   ],
   "source": [
    "print(\"The dataframse size on disk is {} MB\".format(allqueryDF.values.nbytes/1e6))"
   ]
  },
  {
   "cell_type": "markdown",
   "metadata": {},
   "source": [
    "Name the columns, need to look into the difference between last_changed & last_updated"
   ]
  },
  {
   "cell_type": "code",
   "execution_count": 21,
   "metadata": {},
   "outputs": [],
   "source": [
    "allqueryDF.columns = ['domain', 'entity', 'state', 'last_changed']"
   ]
  },
  {
   "cell_type": "code",
   "execution_count": 22,
   "metadata": {},
   "outputs": [
    {
     "data": {
      "text/html": [
       "<div>\n",
       "<style scoped>\n",
       "    .dataframe tbody tr th:only-of-type {\n",
       "        vertical-align: middle;\n",
       "    }\n",
       "\n",
       "    .dataframe tbody tr th {\n",
       "        vertical-align: top;\n",
       "    }\n",
       "\n",
       "    .dataframe thead th {\n",
       "        text-align: right;\n",
       "    }\n",
       "</style>\n",
       "<table border=\"1\" class=\"dataframe\">\n",
       "  <thead>\n",
       "    <tr style=\"text-align: right;\">\n",
       "      <th></th>\n",
       "      <th>domain</th>\n",
       "      <th>entity</th>\n",
       "      <th>state</th>\n",
       "      <th>last_changed</th>\n",
       "    </tr>\n",
       "  </thead>\n",
       "  <tbody>\n",
       "    <tr>\n",
       "      <th>0</th>\n",
       "      <td>zone</td>\n",
       "      <td>zone.work</td>\n",
       "      <td>zoning</td>\n",
       "      <td>2017-12-25 07:30:00.355109+00:00</td>\n",
       "    </tr>\n",
       "    <tr>\n",
       "      <th>1</th>\n",
       "      <td>zone</td>\n",
       "      <td>zone.home</td>\n",
       "      <td>zoning</td>\n",
       "      <td>2017-12-25 07:30:00.356669+00:00</td>\n",
       "    </tr>\n",
       "    <tr>\n",
       "      <th>2</th>\n",
       "      <td>zone</td>\n",
       "      <td>zone.waterloo</td>\n",
       "      <td>zoning</td>\n",
       "      <td>2017-12-25 07:30:00.360553+00:00</td>\n",
       "    </tr>\n",
       "    <tr>\n",
       "      <th>3</th>\n",
       "      <td>sun</td>\n",
       "      <td>sun.sun</td>\n",
       "      <td>below_horizon</td>\n",
       "      <td>2017-12-25 07:30:00.369863+00:00</td>\n",
       "    </tr>\n",
       "    <tr>\n",
       "      <th>4</th>\n",
       "      <td>input_boolean</td>\n",
       "      <td>input_boolean.house_idle</td>\n",
       "      <td>off</td>\n",
       "      <td>2017-12-25 07:30:00.432193+00:00</td>\n",
       "    </tr>\n",
       "  </tbody>\n",
       "</table>\n",
       "</div>"
      ],
      "text/plain": [
       "          domain                    entity          state  \\\n",
       "0           zone                 zone.work         zoning   \n",
       "1           zone                 zone.home         zoning   \n",
       "2           zone             zone.waterloo         zoning   \n",
       "3            sun                   sun.sun  below_horizon   \n",
       "4  input_boolean  input_boolean.house_idle            off   \n",
       "\n",
       "                      last_changed  \n",
       "0 2017-12-25 07:30:00.355109+00:00  \n",
       "1 2017-12-25 07:30:00.356669+00:00  \n",
       "2 2017-12-25 07:30:00.360553+00:00  \n",
       "3 2017-12-25 07:30:00.369863+00:00  \n",
       "4 2017-12-25 07:30:00.432193+00:00  "
      ]
     },
     "execution_count": 22,
     "metadata": {},
     "output_type": "execute_result"
    }
   ],
   "source": [
    "allqueryDF.head()"
   ]
  },
  {
   "cell_type": "markdown",
   "metadata": {},
   "source": [
    "Lets copy the master df in case we want to recover the original.\n",
    "Also we would like to know if states are numerical or not"
   ]
  },
  {
   "cell_type": "code",
   "execution_count": 23,
   "metadata": {},
   "outputs": [],
   "source": [
    "df = allqueryDF"
   ]
  },
  {
   "cell_type": "code",
   "execution_count": 24,
   "metadata": {},
   "outputs": [
    {
     "data": {
      "text/plain": [
       "Timestamp('2017-12-25 07:30:00.355109+0000', tz='psycopg2.tz.FixedOffsetTimezone(offset=0, name=None)')"
      ]
     },
     "execution_count": 24,
     "metadata": {},
     "output_type": "execute_result"
    }
   ],
   "source": [
    "df.iloc[0]['last_changed']"
   ]
  },
  {
   "cell_type": "code",
   "execution_count": 25,
   "metadata": {},
   "outputs": [
    {
     "data": {
      "text/plain": [
       "Timestamp('2018-01-19 06:49:27.712320+0000', tz='psycopg2.tz.FixedOffsetTimezone(offset=0, name=None)')"
      ]
     },
     "execution_count": 25,
     "metadata": {},
     "output_type": "execute_result"
    }
   ],
   "source": [
    "df.iloc[-1]['last_changed']"
   ]
  },
  {
   "cell_type": "markdown",
   "metadata": {},
   "source": [
    "Appears to not be returning complete date range I expect in the db"
   ]
  },
  {
   "cell_type": "code",
   "execution_count": 26,
   "metadata": {},
   "outputs": [],
   "source": [
    "df['numerical'] = df['state'].apply(lambda x: isfloat(x)) "
   ]
  },
  {
   "cell_type": "code",
   "execution_count": 27,
   "metadata": {},
   "outputs": [],
   "source": [
    "#allqueryDF['state'] = allqueryDF['state'].apply(lambda state: parse_state(state))  # Lets convert the numericals into floats "
   ]
  },
  {
   "cell_type": "code",
   "execution_count": 28,
   "metadata": {},
   "outputs": [
    {
     "data": {
      "text/html": [
       "<div>\n",
       "<style scoped>\n",
       "    .dataframe tbody tr th:only-of-type {\n",
       "        vertical-align: middle;\n",
       "    }\n",
       "\n",
       "    .dataframe tbody tr th {\n",
       "        vertical-align: top;\n",
       "    }\n",
       "\n",
       "    .dataframe thead th {\n",
       "        text-align: right;\n",
       "    }\n",
       "</style>\n",
       "<table border=\"1\" class=\"dataframe\">\n",
       "  <thead>\n",
       "    <tr style=\"text-align: right;\">\n",
       "      <th></th>\n",
       "      <th>domain</th>\n",
       "      <th>entity</th>\n",
       "      <th>state</th>\n",
       "      <th>last_changed</th>\n",
       "      <th>numerical</th>\n",
       "    </tr>\n",
       "  </thead>\n",
       "  <tbody>\n",
       "    <tr>\n",
       "      <th>670585</th>\n",
       "      <td>sensor</td>\n",
       "      <td>sensor.living_room_motion_sensor</td>\n",
       "      <td>off</td>\n",
       "      <td>2018-01-19 08:14:08.393546+00:00</td>\n",
       "      <td>False</td>\n",
       "    </tr>\n",
       "    <tr>\n",
       "      <th>670586</th>\n",
       "      <td>binary_sensor</td>\n",
       "      <td>binary_sensor.motion_at_home</td>\n",
       "      <td>off</td>\n",
       "      <td>2018-01-19 08:14:08.403159+00:00</td>\n",
       "      <td>False</td>\n",
       "    </tr>\n",
       "    <tr>\n",
       "      <th>670587</th>\n",
       "      <td>sensor</td>\n",
       "      <td>sensor.next_train_to_wim</td>\n",
       "      <td>0</td>\n",
       "      <td>2018-01-19 08:14:27.853889+00:00</td>\n",
       "      <td>True</td>\n",
       "    </tr>\n",
       "    <tr>\n",
       "      <th>670588</th>\n",
       "      <td>sensor</td>\n",
       "      <td>sensor.next_train_in</td>\n",
       "      <td>0</td>\n",
       "      <td>2018-01-19 08:14:27.863396+00:00</td>\n",
       "      <td>True</td>\n",
       "    </tr>\n",
       "    <tr>\n",
       "      <th>670589</th>\n",
       "      <td>camera</td>\n",
       "      <td>camera.pantiltcam</td>\n",
       "      <td>idle</td>\n",
       "      <td>2018-01-19 06:49:27.712320+00:00</td>\n",
       "      <td>False</td>\n",
       "    </tr>\n",
       "  </tbody>\n",
       "</table>\n",
       "</div>"
      ],
      "text/plain": [
       "               domain                            entity state  \\\n",
       "670585         sensor  sensor.living_room_motion_sensor   off   \n",
       "670586  binary_sensor      binary_sensor.motion_at_home   off   \n",
       "670587         sensor          sensor.next_train_to_wim     0   \n",
       "670588         sensor              sensor.next_train_in     0   \n",
       "670589         camera                 camera.pantiltcam  idle   \n",
       "\n",
       "                           last_changed  numerical  \n",
       "670585 2018-01-19 08:14:08.393546+00:00      False  \n",
       "670586 2018-01-19 08:14:08.403159+00:00      False  \n",
       "670587 2018-01-19 08:14:27.853889+00:00       True  \n",
       "670588 2018-01-19 08:14:27.863396+00:00       True  \n",
       "670589 2018-01-19 06:49:27.712320+00:00      False  "
      ]
     },
     "execution_count": 28,
     "metadata": {},
     "output_type": "execute_result"
    }
   ],
   "source": [
    "df.tail()"
   ]
  },
  {
   "cell_type": "markdown",
   "metadata": {},
   "source": [
    "Convert to multi-index"
   ]
  },
  {
   "cell_type": "code",
   "execution_count": 29,
   "metadata": {},
   "outputs": [
    {
     "data": {
      "text/html": [
       "<div>\n",
       "<style scoped>\n",
       "    .dataframe tbody tr th:only-of-type {\n",
       "        vertical-align: middle;\n",
       "    }\n",
       "\n",
       "    .dataframe tbody tr th {\n",
       "        vertical-align: top;\n",
       "    }\n",
       "\n",
       "    .dataframe thead th {\n",
       "        text-align: right;\n",
       "    }\n",
       "</style>\n",
       "<table border=\"1\" class=\"dataframe\">\n",
       "  <thead>\n",
       "    <tr style=\"text-align: right;\">\n",
       "      <th></th>\n",
       "      <th></th>\n",
       "      <th></th>\n",
       "      <th></th>\n",
       "      <th>state</th>\n",
       "    </tr>\n",
       "    <tr>\n",
       "      <th>domain</th>\n",
       "      <th>entity</th>\n",
       "      <th>numerical</th>\n",
       "      <th>last_changed</th>\n",
       "      <th></th>\n",
       "    </tr>\n",
       "  </thead>\n",
       "  <tbody>\n",
       "    <tr>\n",
       "      <th rowspan=\"3\" valign=\"top\">zone</th>\n",
       "      <th>zone.work</th>\n",
       "      <th>False</th>\n",
       "      <th>2017-12-25 07:30:00.355109+00:00</th>\n",
       "      <td>zoning</td>\n",
       "    </tr>\n",
       "    <tr>\n",
       "      <th>zone.home</th>\n",
       "      <th>False</th>\n",
       "      <th>2017-12-25 07:30:00.356669+00:00</th>\n",
       "      <td>zoning</td>\n",
       "    </tr>\n",
       "    <tr>\n",
       "      <th>zone.waterloo</th>\n",
       "      <th>False</th>\n",
       "      <th>2017-12-25 07:30:00.360553+00:00</th>\n",
       "      <td>zoning</td>\n",
       "    </tr>\n",
       "    <tr>\n",
       "      <th>sun</th>\n",
       "      <th>sun.sun</th>\n",
       "      <th>False</th>\n",
       "      <th>2017-12-25 07:30:00.369863+00:00</th>\n",
       "      <td>below_horizon</td>\n",
       "    </tr>\n",
       "    <tr>\n",
       "      <th>input_boolean</th>\n",
       "      <th>input_boolean.house_idle</th>\n",
       "      <th>False</th>\n",
       "      <th>2017-12-25 07:30:00.432193+00:00</th>\n",
       "      <td>off</td>\n",
       "    </tr>\n",
       "  </tbody>\n",
       "</table>\n",
       "</div>"
      ],
      "text/plain": [
       "                                                                                           state\n",
       "domain        entity                   numerical last_changed                                   \n",
       "zone          zone.work                False     2017-12-25 07:30:00.355109+00:00         zoning\n",
       "              zone.home                False     2017-12-25 07:30:00.356669+00:00         zoning\n",
       "              zone.waterloo            False     2017-12-25 07:30:00.360553+00:00         zoning\n",
       "sun           sun.sun                  False     2017-12-25 07:30:00.369863+00:00  below_horizon\n",
       "input_boolean input_boolean.house_idle False     2017-12-25 07:30:00.432193+00:00            off"
      ]
     },
     "execution_count": 29,
     "metadata": {},
     "output_type": "execute_result"
    }
   ],
   "source": [
    "df = df[['domain', 'entity', 'last_changed', 'numerical', 'state']].set_index(['domain', 'entity', 'numerical', 'last_changed'])\n",
    "df.head()"
   ]
  },
  {
   "cell_type": "markdown",
   "metadata": {},
   "source": [
    "## Numerical data\n",
    "lets do a query for numerical sensor"
   ]
  },
  {
   "cell_type": "code",
   "execution_count": 30,
   "metadata": {},
   "outputs": [
    {
     "name": "stderr",
     "output_type": "stream",
     "text": [
      "/anaconda3/lib/python3.6/site-packages/ipykernel_launcher.py:2: SettingWithCopyWarning: \n",
      "A value is trying to be set on a copy of a slice from a DataFrame.\n",
      "Try using .loc[row_indexer,col_indexer] = value instead\n",
      "\n",
      "See the caveats in the documentation: http://pandas.pydata.org/pandas-docs/stable/indexing.html#indexing-view-versus-copy\n",
      "  \n"
     ]
    },
    {
     "data": {
      "text/html": [
       "<div>\n",
       "<style scoped>\n",
       "    .dataframe tbody tr th:only-of-type {\n",
       "        vertical-align: middle;\n",
       "    }\n",
       "\n",
       "    .dataframe tbody tr th {\n",
       "        vertical-align: top;\n",
       "    }\n",
       "\n",
       "    .dataframe thead th {\n",
       "        text-align: right;\n",
       "    }\n",
       "</style>\n",
       "<table border=\"1\" class=\"dataframe\">\n",
       "  <thead>\n",
       "    <tr style=\"text-align: right;\">\n",
       "      <th></th>\n",
       "      <th></th>\n",
       "      <th></th>\n",
       "      <th></th>\n",
       "      <th>state</th>\n",
       "    </tr>\n",
       "    <tr>\n",
       "      <th>domain</th>\n",
       "      <th>entity</th>\n",
       "      <th>numerical</th>\n",
       "      <th>last_changed</th>\n",
       "      <th></th>\n",
       "    </tr>\n",
       "  </thead>\n",
       "  <tbody>\n",
       "    <tr>\n",
       "      <th rowspan=\"5\" valign=\"top\">sensor</th>\n",
       "      <th>sensor.bme680temperature</th>\n",
       "      <th>True</th>\n",
       "      <th>2017-12-25 07:30:02.032540+00:00</th>\n",
       "      <td>2.103000e+01</td>\n",
       "    </tr>\n",
       "    <tr>\n",
       "      <th>sensor.bme680air_qual</th>\n",
       "      <th>True</th>\n",
       "      <th>2017-12-25 07:30:02.040975+00:00</th>\n",
       "      <td>9.818021e+06</td>\n",
       "    </tr>\n",
       "    <tr>\n",
       "      <th>sensor.electric_charger_distance</th>\n",
       "      <th>True</th>\n",
       "      <th>2017-12-25 07:30:05.223131+00:00</th>\n",
       "      <td>7.530904e-01</td>\n",
       "    </tr>\n",
       "    <tr>\n",
       "      <th>sensor.network_up</th>\n",
       "      <th>True</th>\n",
       "      <th>2017-12-25 07:30:16.917245+00:00</th>\n",
       "      <td>4.000000e+00</td>\n",
       "    </tr>\n",
       "    <tr>\n",
       "      <th>sensor.bme680humidity</th>\n",
       "      <th>True</th>\n",
       "      <th>2017-12-25 07:30:02.022880+00:00</th>\n",
       "      <td>5.544800e+01</td>\n",
       "    </tr>\n",
       "  </tbody>\n",
       "</table>\n",
       "</div>"
      ],
      "text/plain": [
       "                                                                                           state\n",
       "domain entity                           numerical last_changed                                  \n",
       "sensor sensor.bme680temperature         True      2017-12-25 07:30:02.032540+00:00  2.103000e+01\n",
       "       sensor.bme680air_qual            True      2017-12-25 07:30:02.040975+00:00  9.818021e+06\n",
       "       sensor.electric_charger_distance True      2017-12-25 07:30:05.223131+00:00  7.530904e-01\n",
       "       sensor.network_up                True      2017-12-25 07:30:16.917245+00:00  4.000000e+00\n",
       "       sensor.bme680humidity            True      2017-12-25 07:30:02.022880+00:00  5.544800e+01"
      ]
     },
     "execution_count": 30,
     "metadata": {},
     "output_type": "execute_result"
    }
   ],
   "source": [
    "num_sensors_df = df.query('domain == \"sensor\" & numerical == True')\n",
    "num_sensors_df['state'] = num_sensors_df['state'].astype('float')\n",
    "num_sensors_df.head()"
   ]
  },
  {
   "cell_type": "code",
   "execution_count": 31,
   "metadata": {},
   "outputs": [
    {
     "name": "stdout",
     "output_type": "stream",
     "text": [
      "27\n"
     ]
    },
    {
     "data": {
      "text/plain": [
       "['sensor.bme680temperature',\n",
       " 'sensor.bme680air_qual',\n",
       " 'sensor.electric_charger_distance',\n",
       " 'sensor.network_up',\n",
       " 'sensor.bme680humidity',\n",
       " 'sensor.bme680pressure',\n",
       " 'sensor.darksky_sensor_precip_probability',\n",
       " 'sensor.darksky_sensor_temperature',\n",
       " 'sensor.blink_blink_camera_percy_temperature',\n",
       " 'sensor.mean_temperature',\n",
       " 'sensor.robins_iphone_battery_level',\n",
       " 'sensor.blink_blink_camera_percy_notifications',\n",
       " 'sensor.iphone_battery_level',\n",
       " 'sensor.bayes_probability',\n",
       " 'sensor.work_to_home',\n",
       " 'sensor.home_to_work',\n",
       " 'sensor.home_to_waterloo',\n",
       " 'sensor.memory_usage_real',\n",
       " 'sensor.volume_used_volume_1',\n",
       " 'sensor.cpu_load_total',\n",
       " 'sensor.hall_temperature',\n",
       " 'sensor.living_room_temperature',\n",
       " 'sensor.bedroom_temperature',\n",
       " 'sensor.next_train_in',\n",
       " 'sensor.speedtest_download',\n",
       " 'sensor.next_train_to_wim',\n",
       " 'sensor.time_in_bed']"
      ]
     },
     "execution_count": 31,
     "metadata": {},
     "output_type": "execute_result"
    }
   ],
   "source": [
    "num_sensors_list = list(num_sensors_df.index.get_level_values('entity').unique())\n",
    "print(len(num_sensors_list))\n",
    "num_sensors_list"
   ]
  },
  {
   "cell_type": "markdown",
   "metadata": {},
   "source": [
    "Lets do a pivot to get sensors in columns to make plotting convenient. Lets also forward fill the data"
   ]
  },
  {
   "cell_type": "code",
   "execution_count": 32,
   "metadata": {},
   "outputs": [],
   "source": [
    "num_sensors_df = num_sensors_df.pivot_table(index='last_changed', columns='entity', values='state')\n",
    "num_sensors_df = num_sensors_df.fillna(method='ffill')\n",
    "num_sensors_df = num_sensors_df.dropna() # drop any remaining nan\n",
    "num_sensors_df.index = pd.to_datetime(num_sensors_df.index)"
   ]
  },
  {
   "cell_type": "code",
   "execution_count": 33,
   "metadata": {},
   "outputs": [
    {
     "data": {
      "text/plain": [
       "[<matplotlib.lines.Line2D at 0x11ef20ba8>]"
      ]
     },
     "execution_count": 33,
     "metadata": {},
     "output_type": "execute_result"
    },
    {
     "data": {
      "image/png": "[encoded data removed]",
      "text/plain": [
       "<matplotlib.figure.Figure at 0x11f678630>"
      ]
     },
     "metadata": {},
     "output_type": "display_data"
    }
   ],
   "source": [
    "height=6\n",
    "width=14\n",
    "figsize=(width, height)\n",
    "\n",
    "df_plot = num_sensors_df['sensor.living_room_temperature']\n",
    "last_time = df_plot.index[-1]\n",
    "hours_to_plot = 24\n",
    "xfmt = md.DateFormatter('%m/%d') # %m-\n",
    "\n",
    "f, ax = plt.subplots(1, 1, figsize=(width, height))\n",
    "ax.plot(df_plot)\n",
    "#ax.xaxis.set_major_formatter(xfmt)\n",
    "#ax.set_xlim(now-dt.timedelta(hours=hours_to_plot), now);"
   ]
  },
  {
   "cell_type": "code",
   "execution_count": 34,
   "metadata": {},
   "outputs": [
    {
     "data": {
      "image/png": "[encoded data removed]",
      "text/plain": [
       "<matplotlib.figure.Figure at 0x120857d30>"
      ]
     },
     "metadata": {},
     "output_type": "display_data"
    }
   ],
   "source": [
    "sns_plot = sns.pairplot(num_sensors_df[['sensor.living_room_temperature',\n",
    "'sensor.bedroom_temperature',\n",
    "'sensor.hall_temperature', \n",
    "'sensor.darksky_sensor_temperature']]);\n",
    "\n",
    "sns_plot.savefig(\"pairplot.png\")"
   ]
  },
  {
   "cell_type": "markdown",
   "metadata": {},
   "source": [
    "## Single temperature sensor"
   ]
  },
  {
   "cell_type": "code",
   "execution_count": 63,
   "metadata": {},
   "outputs": [],
   "source": [
    "stmt = text(\"\"\"\n",
    "SELECT last_changed, state \n",
    "FROM states \n",
    "WHERE NOT state='unknown' \n",
    "AND states.entity_id = 'sensor.darksky_sensor_temperature'\n",
    "\"\"\")\n",
    "\n",
    "query = engine.execute(stmt)\n",
    "\n",
    "# get rows from query into a pandas dataframe\n",
    "darksky_sensor_temperature = pd.DataFrame(query.fetchall())"
   ]
  },
  {
   "cell_type": "code",
   "execution_count": 67,
   "metadata": {},
   "outputs": [],
   "source": [
    "#darksky_sensor_temperature.columns = ['last_changed', 'state']\n",
    "#darksky_sensor_temperature.set_index('last_changed', inplace=True)\n",
    "#darksky_sensor_temperature.index = pd.to_datetime(darksky_sensor_temperature.index)\n",
    "#darksky_sensor_temperature['state'] = darksky_sensor_temperature['state'].astype('float')\n",
    "#darksky_sensor_temperature.head()"
   ]
  },
  {
   "cell_type": "code",
   "execution_count": 82,
   "metadata": {},
   "outputs": [
    {
     "data": {
      "text/html": [
       "<div>\n",
       "<style scoped>\n",
       "    .dataframe tbody tr th:only-of-type {\n",
       "        vertical-align: middle;\n",
       "    }\n",
       "\n",
       "    .dataframe tbody tr th {\n",
       "        vertical-align: top;\n",
       "    }\n",
       "\n",
       "    .dataframe thead th {\n",
       "        text-align: right;\n",
       "    }\n",
       "</style>\n",
       "<table border=\"1\" class=\"dataframe\">\n",
       "  <thead>\n",
       "    <tr style=\"text-align: right;\">\n",
       "      <th></th>\n",
       "      <th>last_changed</th>\n",
       "      <th>state</th>\n",
       "    </tr>\n",
       "  </thead>\n",
       "  <tbody>\n",
       "    <tr>\n",
       "      <th>0</th>\n",
       "      <td>2017-12-25 07:30:07.679411+00:00</td>\n",
       "      <td>9.5</td>\n",
       "    </tr>\n",
       "    <tr>\n",
       "      <th>1</th>\n",
       "      <td>2017-12-25 08:33:56.909285+00:00</td>\n",
       "      <td>9.3</td>\n",
       "    </tr>\n",
       "    <tr>\n",
       "      <th>2</th>\n",
       "      <td>2017-12-25 09:15:07.994419+00:00</td>\n",
       "      <td>9.4</td>\n",
       "    </tr>\n",
       "    <tr>\n",
       "      <th>3</th>\n",
       "      <td>2017-12-25 09:27:30.920648+00:00</td>\n",
       "      <td>9.5</td>\n",
       "    </tr>\n",
       "    <tr>\n",
       "      <th>4</th>\n",
       "      <td>2017-12-25 09:33:42.997302+00:00</td>\n",
       "      <td>9.3</td>\n",
       "    </tr>\n",
       "  </tbody>\n",
       "</table>\n",
       "</div>"
      ],
      "text/plain": [
       "                      last_changed  state\n",
       "0 2017-12-25 07:30:07.679411+00:00    9.5\n",
       "1 2017-12-25 08:33:56.909285+00:00    9.3\n",
       "2 2017-12-25 09:15:07.994419+00:00    9.4\n",
       "3 2017-12-25 09:27:30.920648+00:00    9.5\n",
       "4 2017-12-25 09:33:42.997302+00:00    9.3"
      ]
     },
     "execution_count": 82,
     "metadata": {},
     "output_type": "execute_result"
    }
   ],
   "source": [
    "darksky_sensor_temperature.columns = ['last_changed', 'state']\n",
    "darksky_sensor_temperature['last_changed']= pd.to_datetime(darksky_sensor_temperature['last_changed'], utc=True)\n",
    "darksky_sensor_temperature['state'] = darksky_sensor_temperature['state'].astype('float')\n",
    "darksky_sensor_temperature.head()"
   ]
  },
  {
   "cell_type": "code",
   "execution_count": 83,
   "metadata": {},
   "outputs": [
    {
     "data": {
      "text/plain": [
       "[<matplotlib.lines.Line2D at 0x11a565dd8>]"
      ]
     },
     "execution_count": 83,
     "metadata": {},
     "output_type": "execute_result"
    },
    {
     "data": {
      "image/png": "[encoded data removed]",
      "text/plain": [
       "<matplotlib.figure.Figure at 0x11a622ef0>"
      ]
     },
     "metadata": {},
     "output_type": "display_data"
    }
   ],
   "source": [
    "height=6\n",
    "width=18\n",
    "figsize=(width, height)\n",
    "\n",
    "f, ax = plt.subplots(1, 1, figsize=(width, height))\n",
    "ax.plot(darksky_sensor_temperature['last_changed'], darksky_sensor_temperature['state'])"
   ]
  },
  {
   "cell_type": "markdown",
   "metadata": {},
   "source": [
    "Lets try some prediction with prophet"
   ]
  },
  {
   "cell_type": "code",
   "execution_count": 84,
   "metadata": {},
   "outputs": [],
   "source": [
    "df = darksky_sensor_temperature.copy()"
   ]
  },
  {
   "cell_type": "code",
   "execution_count": 85,
   "metadata": {},
   "outputs": [],
   "source": [
    "df.columns = ['ds', 'y']"
   ]
  },
  {
   "cell_type": "code",
   "execution_count": 86,
   "metadata": {},
   "outputs": [
    {
     "data": {
      "text/html": [
       "<div>\n",
       "<style scoped>\n",
       "    .dataframe tbody tr th:only-of-type {\n",
       "        vertical-align: middle;\n",
       "    }\n",
       "\n",
       "    .dataframe tbody tr th {\n",
       "        vertical-align: top;\n",
       "    }\n",
       "\n",
       "    .dataframe thead th {\n",
       "        text-align: right;\n",
       "    }\n",
       "</style>\n",
       "<table border=\"1\" class=\"dataframe\">\n",
       "  <thead>\n",
       "    <tr style=\"text-align: right;\">\n",
       "      <th></th>\n",
       "      <th>ds</th>\n",
       "      <th>y</th>\n",
       "    </tr>\n",
       "  </thead>\n",
       "  <tbody>\n",
       "    <tr>\n",
       "      <th>0</th>\n",
       "      <td>2017-12-25 07:30:07.679411+00:00</td>\n",
       "      <td>9.5</td>\n",
       "    </tr>\n",
       "    <tr>\n",
       "      <th>1</th>\n",
       "      <td>2017-12-25 08:33:56.909285+00:00</td>\n",
       "      <td>9.3</td>\n",
       "    </tr>\n",
       "    <tr>\n",
       "      <th>2</th>\n",
       "      <td>2017-12-25 09:15:07.994419+00:00</td>\n",
       "      <td>9.4</td>\n",
       "    </tr>\n",
       "    <tr>\n",
       "      <th>3</th>\n",
       "      <td>2017-12-25 09:27:30.920648+00:00</td>\n",
       "      <td>9.5</td>\n",
       "    </tr>\n",
       "    <tr>\n",
       "      <th>4</th>\n",
       "      <td>2017-12-25 09:33:42.997302+00:00</td>\n",
       "      <td>9.3</td>\n",
       "    </tr>\n",
       "  </tbody>\n",
       "</table>\n",
       "</div>"
      ],
      "text/plain": [
       "                                ds    y\n",
       "0 2017-12-25 07:30:07.679411+00:00  9.5\n",
       "1 2017-12-25 08:33:56.909285+00:00  9.3\n",
       "2 2017-12-25 09:15:07.994419+00:00  9.4\n",
       "3 2017-12-25 09:27:30.920648+00:00  9.5\n",
       "4 2017-12-25 09:33:42.997302+00:00  9.3"
      ]
     },
     "execution_count": 86,
     "metadata": {},
     "output_type": "execute_result"
    }
   ],
   "source": [
    "df.head()"
   ]
  },
  {
   "cell_type": "code",
   "execution_count": 87,
   "metadata": {},
   "outputs": [
    {
     "data": {
      "text/plain": [
       "Timestamp('2017-12-25 07:30:07.679411+0000', tz='UTC')"
      ]
     },
     "execution_count": 87,
     "metadata": {},
     "output_type": "execute_result"
    }
   ],
   "source": [
    "df.iloc[0]['ds']"
   ]
  },
  {
   "cell_type": "code",
   "execution_count": 88,
   "metadata": {},
   "outputs": [
    {
     "name": "stderr",
     "output_type": "stream",
     "text": [
      "INFO:fbprophet.forecaster:Disabling yearly seasonality. Run prophet with yearly_seasonality=True to override this.\n"
     ]
    },
    {
     "name": "stdout",
     "output_type": "stream",
     "text": [
      "CPU times: user 4 µs, sys: 0 ns, total: 4 µs\n",
      "Wall time: 8.11 µs\n"
     ]
    },
    {
     "ename": "ValueError",
     "evalue": "Incompatible tz's on datetime subtraction ops",
     "output_type": "error",
     "traceback": [
      "\u001b[0;31m---------------------------------------------------------------------------\u001b[0m",
      "\u001b[0;31mValueError\u001b[0m                                Traceback (most recent call last)",
      "\u001b[0;32m<ipython-input-88-9f3fcca8c00f>\u001b[0m in \u001b[0;36m<module>\u001b[0;34m()\u001b[0m\n\u001b[1;32m      1\u001b[0m \u001b[0mget_ipython\u001b[0m\u001b[0;34m(\u001b[0m\u001b[0;34m)\u001b[0m\u001b[0;34m.\u001b[0m\u001b[0mmagic\u001b[0m\u001b[0;34m(\u001b[0m\u001b[0;34m'time'\u001b[0m\u001b[0;34m)\u001b[0m\u001b[0;34m\u001b[0m\u001b[0m\n\u001b[1;32m      2\u001b[0m \u001b[0mm\u001b[0m \u001b[0;34m=\u001b[0m \u001b[0mProphet\u001b[0m\u001b[0;34m(\u001b[0m\u001b[0;34m)\u001b[0m\u001b[0;34m\u001b[0m\u001b[0m\n\u001b[0;32m----> 3\u001b[0;31m \u001b[0mm\u001b[0m\u001b[0;34m.\u001b[0m\u001b[0mfit\u001b[0m\u001b[0;34m(\u001b[0m\u001b[0mdf\u001b[0m\u001b[0;34m)\u001b[0m\u001b[0;34m;\u001b[0m\u001b[0;34m\u001b[0m\u001b[0m\n\u001b[0m",
      "\u001b[0;32m/anaconda3/lib/python3.6/site-packages/fbprophet/forecaster.py\u001b[0m in \u001b[0;36mfit\u001b[0;34m(self, df, **kwargs)\u001b[0m\n\u001b[1;32m    780\u001b[0m         \u001b[0mself\u001b[0m\u001b[0;34m.\u001b[0m\u001b[0mset_auto_seasonalities\u001b[0m\u001b[0;34m(\u001b[0m\u001b[0;34m)\u001b[0m\u001b[0;34m\u001b[0m\u001b[0m\n\u001b[1;32m    781\u001b[0m         seasonal_features, prior_scales = (\n\u001b[0;32m--> 782\u001b[0;31m             self.make_all_seasonality_features(history))\n\u001b[0m\u001b[1;32m    783\u001b[0m \u001b[0;34m\u001b[0m\u001b[0m\n\u001b[1;32m    784\u001b[0m         \u001b[0mself\u001b[0m\u001b[0;34m.\u001b[0m\u001b[0mset_changepoints\u001b[0m\u001b[0;34m(\u001b[0m\u001b[0;34m)\u001b[0m\u001b[0;34m\u001b[0m\u001b[0m\n",
      "\u001b[0;32m/anaconda3/lib/python3.6/site-packages/fbprophet/forecaster.py\u001b[0m in \u001b[0;36mmake_all_seasonality_features\u001b[0;34m(self, df)\u001b[0m\n\u001b[1;32m    567\u001b[0m                 \u001b[0mprops\u001b[0m\u001b[0;34m[\u001b[0m\u001b[0;34m'period'\u001b[0m\u001b[0;34m]\u001b[0m\u001b[0;34m,\u001b[0m\u001b[0;34m\u001b[0m\u001b[0m\n\u001b[1;32m    568\u001b[0m                 \u001b[0mprops\u001b[0m\u001b[0;34m[\u001b[0m\u001b[0;34m'fourier_order'\u001b[0m\u001b[0;34m]\u001b[0m\u001b[0;34m,\u001b[0m\u001b[0;34m\u001b[0m\u001b[0m\n\u001b[0;32m--> 569\u001b[0;31m                 \u001b[0mname\u001b[0m\u001b[0;34m,\u001b[0m\u001b[0;34m\u001b[0m\u001b[0m\n\u001b[0m\u001b[1;32m    570\u001b[0m             )\n\u001b[1;32m    571\u001b[0m             \u001b[0mseasonal_features\u001b[0m\u001b[0;34m.\u001b[0m\u001b[0mappend\u001b[0m\u001b[0;34m(\u001b[0m\u001b[0mfeatures\u001b[0m\u001b[0;34m)\u001b[0m\u001b[0;34m\u001b[0m\u001b[0m\n",
      "\u001b[0;32m/anaconda3/lib/python3.6/site-packages/fbprophet/forecaster.py\u001b[0m in \u001b[0;36mmake_seasonality_features\u001b[0;34m(cls, dates, period, series_order, prefix)\u001b[0m\n\u001b[1;32m    391\u001b[0m         \u001b[0mpd\u001b[0m\u001b[0;34m.\u001b[0m\u001b[0mDataFrame\u001b[0m \u001b[0;32mwith\u001b[0m \u001b[0mseasonality\u001b[0m \u001b[0mfeatures\u001b[0m\u001b[0;34m.\u001b[0m\u001b[0;34m\u001b[0m\u001b[0m\n\u001b[1;32m    392\u001b[0m         \"\"\"\n\u001b[0;32m--> 393\u001b[0;31m         \u001b[0mfeatures\u001b[0m \u001b[0;34m=\u001b[0m \u001b[0mcls\u001b[0m\u001b[0;34m.\u001b[0m\u001b[0mfourier_series\u001b[0m\u001b[0;34m(\u001b[0m\u001b[0mdates\u001b[0m\u001b[0;34m,\u001b[0m \u001b[0mperiod\u001b[0m\u001b[0;34m,\u001b[0m \u001b[0mseries_order\u001b[0m\u001b[0;34m)\u001b[0m\u001b[0;34m\u001b[0m\u001b[0m\n\u001b[0m\u001b[1;32m    394\u001b[0m         columns = [\n\u001b[1;32m    395\u001b[0m             \u001b[0;34m'{}_delim_{}'\u001b[0m\u001b[0;34m.\u001b[0m\u001b[0mformat\u001b[0m\u001b[0;34m(\u001b[0m\u001b[0mprefix\u001b[0m\u001b[0;34m,\u001b[0m \u001b[0mi\u001b[0m \u001b[0;34m+\u001b[0m \u001b[0;36m1\u001b[0m\u001b[0;34m)\u001b[0m\u001b[0;34m\u001b[0m\u001b[0m\n",
      "\u001b[0;32m/anaconda3/lib/python3.6/site-packages/fbprophet/forecaster.py\u001b[0m in \u001b[0;36mfourier_series\u001b[0;34m(dates, period, series_order)\u001b[0m\n\u001b[1;32m    365\u001b[0m         \u001b[0;31m# convert to days since epoch\u001b[0m\u001b[0;34m\u001b[0m\u001b[0;34m\u001b[0m\u001b[0m\n\u001b[1;32m    366\u001b[0m         t = np.array(\n\u001b[0;32m--> 367\u001b[0;31m             \u001b[0;34m(\u001b[0m\u001b[0mdates\u001b[0m \u001b[0;34m-\u001b[0m \u001b[0mpd\u001b[0m\u001b[0;34m.\u001b[0m\u001b[0mdatetime\u001b[0m\u001b[0;34m(\u001b[0m\u001b[0;36m1970\u001b[0m\u001b[0;34m,\u001b[0m \u001b[0;36m1\u001b[0m\u001b[0;34m,\u001b[0m \u001b[0;36m1\u001b[0m\u001b[0;34m)\u001b[0m\u001b[0;34m)\u001b[0m\u001b[0;34m\u001b[0m\u001b[0m\n\u001b[0m\u001b[1;32m    368\u001b[0m             \u001b[0;34m.\u001b[0m\u001b[0mdt\u001b[0m\u001b[0;34m.\u001b[0m\u001b[0mtotal_seconds\u001b[0m\u001b[0;34m(\u001b[0m\u001b[0;34m)\u001b[0m\u001b[0;34m\u001b[0m\u001b[0m\n\u001b[1;32m    369\u001b[0m             \u001b[0;34m.\u001b[0m\u001b[0mastype\u001b[0m\u001b[0;34m(\u001b[0m\u001b[0mnp\u001b[0m\u001b[0;34m.\u001b[0m\u001b[0mfloat\u001b[0m\u001b[0;34m)\u001b[0m\u001b[0;34m\u001b[0m\u001b[0m\n",
      "\u001b[0;32m/anaconda3/lib/python3.6/site-packages/pandas/core/ops.py\u001b[0m in \u001b[0;36mwrapper\u001b[0;34m(left, right, name, na_op)\u001b[0m\n\u001b[1;32m    718\u001b[0m         \u001b[0mleft\u001b[0m\u001b[0;34m,\u001b[0m \u001b[0mright\u001b[0m \u001b[0;34m=\u001b[0m \u001b[0m_align_method_SERIES\u001b[0m\u001b[0;34m(\u001b[0m\u001b[0mleft\u001b[0m\u001b[0;34m,\u001b[0m \u001b[0mright\u001b[0m\u001b[0;34m)\u001b[0m\u001b[0;34m\u001b[0m\u001b[0m\n\u001b[1;32m    719\u001b[0m \u001b[0;34m\u001b[0m\u001b[0m\n\u001b[0;32m--> 720\u001b[0;31m         \u001b[0mconverted\u001b[0m \u001b[0;34m=\u001b[0m \u001b[0m_Op\u001b[0m\u001b[0;34m.\u001b[0m\u001b[0mget_op\u001b[0m\u001b[0;34m(\u001b[0m\u001b[0mleft\u001b[0m\u001b[0;34m,\u001b[0m \u001b[0mright\u001b[0m\u001b[0;34m,\u001b[0m \u001b[0mname\u001b[0m\u001b[0;34m,\u001b[0m \u001b[0mna_op\u001b[0m\u001b[0;34m)\u001b[0m\u001b[0;34m\u001b[0m\u001b[0m\n\u001b[0m\u001b[1;32m    721\u001b[0m \u001b[0;34m\u001b[0m\u001b[0m\n\u001b[1;32m    722\u001b[0m         \u001b[0mleft\u001b[0m\u001b[0;34m,\u001b[0m \u001b[0mright\u001b[0m \u001b[0;34m=\u001b[0m \u001b[0mconverted\u001b[0m\u001b[0;34m.\u001b[0m\u001b[0mleft\u001b[0m\u001b[0;34m,\u001b[0m \u001b[0mconverted\u001b[0m\u001b[0;34m.\u001b[0m\u001b[0mright\u001b[0m\u001b[0;34m\u001b[0m\u001b[0m\n",
      "\u001b[0;32m/anaconda3/lib/python3.6/site-packages/pandas/core/ops.py\u001b[0m in \u001b[0;36mget_op\u001b[0;34m(cls, left, right, name, na_op)\u001b[0m\n\u001b[1;32m    347\u001b[0m             \u001b[0;32mreturn\u001b[0m \u001b[0m_Op\u001b[0m\u001b[0;34m(\u001b[0m\u001b[0mleft\u001b[0m\u001b[0;34m,\u001b[0m \u001b[0mright\u001b[0m\u001b[0;34m,\u001b[0m \u001b[0mname\u001b[0m\u001b[0;34m,\u001b[0m \u001b[0mna_op\u001b[0m\u001b[0;34m)\u001b[0m\u001b[0;34m\u001b[0m\u001b[0m\n\u001b[1;32m    348\u001b[0m         \u001b[0;32melse\u001b[0m\u001b[0;34m:\u001b[0m\u001b[0;34m\u001b[0m\u001b[0m\n\u001b[0;32m--> 349\u001b[0;31m             \u001b[0;32mreturn\u001b[0m \u001b[0m_TimeOp\u001b[0m\u001b[0;34m(\u001b[0m\u001b[0mleft\u001b[0m\u001b[0;34m,\u001b[0m \u001b[0mright\u001b[0m\u001b[0;34m,\u001b[0m \u001b[0mname\u001b[0m\u001b[0;34m,\u001b[0m \u001b[0mna_op\u001b[0m\u001b[0;34m)\u001b[0m\u001b[0;34m\u001b[0m\u001b[0m\n\u001b[0m\u001b[1;32m    350\u001b[0m \u001b[0;34m\u001b[0m\u001b[0m\n\u001b[1;32m    351\u001b[0m \u001b[0;34m\u001b[0m\u001b[0m\n",
      "\u001b[0;32m/anaconda3/lib/python3.6/site-packages/pandas/core/ops.py\u001b[0m in \u001b[0;36m__init__\u001b[0;34m(self, left, right, name, na_op)\u001b[0m\n\u001b[1;32m    383\u001b[0m         \u001b[0mself\u001b[0m\u001b[0;34m.\u001b[0m\u001b[0mis_floating_rhs\u001b[0m \u001b[0;34m=\u001b[0m \u001b[0mrvalues\u001b[0m\u001b[0;34m.\u001b[0m\u001b[0mdtype\u001b[0m\u001b[0;34m.\u001b[0m\u001b[0mkind\u001b[0m \u001b[0;34m==\u001b[0m \u001b[0;34m'f'\u001b[0m\u001b[0;34m\u001b[0m\u001b[0m\n\u001b[1;32m    384\u001b[0m \u001b[0;34m\u001b[0m\u001b[0m\n\u001b[0;32m--> 385\u001b[0;31m         \u001b[0mself\u001b[0m\u001b[0;34m.\u001b[0m\u001b[0m_validate\u001b[0m\u001b[0;34m(\u001b[0m\u001b[0mlvalues\u001b[0m\u001b[0;34m,\u001b[0m \u001b[0mrvalues\u001b[0m\u001b[0;34m,\u001b[0m \u001b[0mname\u001b[0m\u001b[0;34m)\u001b[0m\u001b[0;34m\u001b[0m\u001b[0m\n\u001b[0m\u001b[1;32m    386\u001b[0m         self.lvalues, self.rvalues = self._convert_for_datetime(lvalues,\n\u001b[1;32m    387\u001b[0m                                                                 rvalues)\n",
      "\u001b[0;32m/anaconda3/lib/python3.6/site-packages/pandas/core/ops.py\u001b[0m in \u001b[0;36m_validate\u001b[0;34m(self, lvalues, rvalues, name)\u001b[0m\n\u001b[1;32m    442\u001b[0m             \u001b[0;31m# if tz's must be equal (same or None)\u001b[0m\u001b[0;34m\u001b[0m\u001b[0;34m\u001b[0m\u001b[0m\n\u001b[1;32m    443\u001b[0m             \u001b[0;32mif\u001b[0m \u001b[0mgetattr\u001b[0m\u001b[0;34m(\u001b[0m\u001b[0mlvalues\u001b[0m\u001b[0;34m,\u001b[0m \u001b[0;34m'tz'\u001b[0m\u001b[0;34m,\u001b[0m \u001b[0;32mNone\u001b[0m\u001b[0;34m)\u001b[0m \u001b[0;34m!=\u001b[0m \u001b[0mgetattr\u001b[0m\u001b[0;34m(\u001b[0m\u001b[0mrvalues\u001b[0m\u001b[0;34m,\u001b[0m \u001b[0;34m'tz'\u001b[0m\u001b[0;34m,\u001b[0m \u001b[0;32mNone\u001b[0m\u001b[0;34m)\u001b[0m\u001b[0;34m:\u001b[0m\u001b[0;34m\u001b[0m\u001b[0m\n\u001b[0;32m--> 444\u001b[0;31m                 raise ValueError(\"Incompatible tz's on datetime subtraction \"\n\u001b[0m\u001b[1;32m    445\u001b[0m                                  \"ops\")\n\u001b[1;32m    446\u001b[0m \u001b[0;34m\u001b[0m\u001b[0m\n",
      "\u001b[0;31mValueError\u001b[0m: Incompatible tz's on datetime subtraction ops"
     ]
    }
   ],
   "source": [
    "% time\n",
    "m = Prophet()\n",
    "m.fit(df);"
   ]
  },
  {
   "cell_type": "markdown",
   "metadata": {},
   "source": [
    "### Motion at home sensor\n",
    "Lets focus on the binary_sensor.motion_at_home which is a sensor that indicates if there is any activity at home. In the pivot_table apply np.min to prevent np.mean (the default) from returning 0.5 in some cases (why is this?)"
   ]
  },
  {
   "cell_type": "code",
   "execution_count": 38,
   "metadata": {},
   "outputs": [
    {
     "name": "stdout",
     "output_type": "stream",
     "text": [
      "13\n"
     ]
    },
    {
     "data": {
      "text/plain": [
       "['binary_sensor.motion_at_home',\n",
       " 'binary_sensor.late_night_sensor',\n",
       " 'binary_sensor.devices_home',\n",
       " 'binary_sensor.in_bed_bayesian',\n",
       " 'binary_sensor.doorbell',\n",
       " 'binary_sensor.blink_blink_camera_percy_motion_enabled',\n",
       " 'binary_sensor.wipy_water_monitor',\n",
       " 'binary_sensor.workday_sensor',\n",
       " 'binary_sensor.living_room_nest_protect_online',\n",
       " 'binary_sensor.blink_armed_status',\n",
       " 'binary_sensor.elgato_door',\n",
       " 'binary_sensor.fibaro_leak',\n",
       " 'binary_sensor.macbook']"
      ]
     },
     "execution_count": 38,
     "metadata": {},
     "output_type": "execute_result"
    }
   ],
   "source": [
    "binary_sensors_df = df.query('domain == \"binary_sensor\"')\n",
    "binary_sensors_list = list(binary_sensors_df.index.get_level_values('entity').unique())\n",
    "print(len(binary_sensors_list))\n",
    "binary_sensors_list"
   ]
  },
  {
   "cell_type": "code",
   "execution_count": 39,
   "metadata": {},
   "outputs": [
    {
     "name": "stderr",
     "output_type": "stream",
     "text": [
      "/anaconda3/lib/python3.6/site-packages/ipykernel_launcher.py:1: SettingWithCopyWarning: \n",
      "A value is trying to be set on a copy of a slice from a DataFrame.\n",
      "Try using .loc[row_indexer,col_indexer] = value instead\n",
      "\n",
      "See the caveats in the documentation: http://pandas.pydata.org/pandas-docs/stable/indexing.html#indexing-view-versus-copy\n",
      "  \"\"\"Entry point for launching an IPython kernel.\n"
     ]
    }
   ],
   "source": [
    "binary_sensors_df['state'] = binary_sensors_df['state'].apply(lambda x: binary_state(x)) # Binarise"
   ]
  },
  {
   "cell_type": "code",
   "execution_count": 40,
   "metadata": {},
   "outputs": [],
   "source": [
    "binary_sensors_df = binary_sensors_df.pivot_table(index='last_changed', columns='entity', values='state')"
   ]
  },
  {
   "cell_type": "code",
   "execution_count": 41,
   "metadata": {},
   "outputs": [
    {
     "data": {
      "text/html": [
       "<div>\n",
       "<style scoped>\n",
       "    .dataframe tbody tr th:only-of-type {\n",
       "        vertical-align: middle;\n",
       "    }\n",
       "\n",
       "    .dataframe tbody tr th {\n",
       "        vertical-align: top;\n",
       "    }\n",
       "\n",
       "    .dataframe thead th {\n",
       "        text-align: right;\n",
       "    }\n",
       "</style>\n",
       "<table border=\"1\" class=\"dataframe\">\n",
       "  <thead>\n",
       "    <tr style=\"text-align: right;\">\n",
       "      <th>entity</th>\n",
       "      <th>binary_sensor.blink_armed_status</th>\n",
       "      <th>binary_sensor.blink_blink_camera_percy_motion_enabled</th>\n",
       "      <th>binary_sensor.devices_home</th>\n",
       "      <th>binary_sensor.doorbell</th>\n",
       "      <th>binary_sensor.elgato_door</th>\n",
       "      <th>binary_sensor.fibaro_leak</th>\n",
       "      <th>binary_sensor.in_bed_bayesian</th>\n",
       "      <th>binary_sensor.late_night_sensor</th>\n",
       "      <th>binary_sensor.living_room_nest_protect_online</th>\n",
       "      <th>binary_sensor.macbook</th>\n",
       "      <th>binary_sensor.motion_at_home</th>\n",
       "      <th>binary_sensor.wipy_water_monitor</th>\n",
       "      <th>binary_sensor.workday_sensor</th>\n",
       "    </tr>\n",
       "    <tr>\n",
       "      <th>last_changed</th>\n",
       "      <th></th>\n",
       "      <th></th>\n",
       "      <th></th>\n",
       "      <th></th>\n",
       "      <th></th>\n",
       "      <th></th>\n",
       "      <th></th>\n",
       "      <th></th>\n",
       "      <th></th>\n",
       "      <th></th>\n",
       "      <th></th>\n",
       "      <th></th>\n",
       "      <th></th>\n",
       "    </tr>\n",
       "  </thead>\n",
       "  <tbody>\n",
       "    <tr>\n",
       "      <th>2017-12-25 07:30:00.472937+00:00</th>\n",
       "      <td>None</td>\n",
       "      <td>None</td>\n",
       "      <td>None</td>\n",
       "      <td>None</td>\n",
       "      <td>None</td>\n",
       "      <td>None</td>\n",
       "      <td>None</td>\n",
       "      <td>None</td>\n",
       "      <td>None</td>\n",
       "      <td>None</td>\n",
       "      <td>False</td>\n",
       "      <td>None</td>\n",
       "      <td>None</td>\n",
       "    </tr>\n",
       "    <tr>\n",
       "      <th>2017-12-25 07:30:00.474791+00:00</th>\n",
       "      <td>None</td>\n",
       "      <td>None</td>\n",
       "      <td>None</td>\n",
       "      <td>None</td>\n",
       "      <td>None</td>\n",
       "      <td>None</td>\n",
       "      <td>None</td>\n",
       "      <td>False</td>\n",
       "      <td>None</td>\n",
       "      <td>None</td>\n",
       "      <td>None</td>\n",
       "      <td>None</td>\n",
       "      <td>None</td>\n",
       "    </tr>\n",
       "    <tr>\n",
       "      <th>2017-12-25 07:30:00.476154+00:00</th>\n",
       "      <td>None</td>\n",
       "      <td>None</td>\n",
       "      <td>False</td>\n",
       "      <td>None</td>\n",
       "      <td>None</td>\n",
       "      <td>None</td>\n",
       "      <td>None</td>\n",
       "      <td>None</td>\n",
       "      <td>None</td>\n",
       "      <td>None</td>\n",
       "      <td>None</td>\n",
       "      <td>None</td>\n",
       "      <td>None</td>\n",
       "    </tr>\n",
       "    <tr>\n",
       "      <th>2017-12-25 07:30:00.477496+00:00</th>\n",
       "      <td>None</td>\n",
       "      <td>None</td>\n",
       "      <td>None</td>\n",
       "      <td>None</td>\n",
       "      <td>None</td>\n",
       "      <td>None</td>\n",
       "      <td>False</td>\n",
       "      <td>None</td>\n",
       "      <td>None</td>\n",
       "      <td>None</td>\n",
       "      <td>None</td>\n",
       "      <td>None</td>\n",
       "      <td>None</td>\n",
       "    </tr>\n",
       "    <tr>\n",
       "      <th>2017-12-25 07:30:00.728927+00:00</th>\n",
       "      <td>None</td>\n",
       "      <td>None</td>\n",
       "      <td>None</td>\n",
       "      <td>None</td>\n",
       "      <td>None</td>\n",
       "      <td>None</td>\n",
       "      <td>None</td>\n",
       "      <td>None</td>\n",
       "      <td>None</td>\n",
       "      <td>None</td>\n",
       "      <td>None</td>\n",
       "      <td>False</td>\n",
       "      <td>None</td>\n",
       "    </tr>\n",
       "  </tbody>\n",
       "</table>\n",
       "</div>"
      ],
      "text/plain": [
       "entity                           binary_sensor.blink_armed_status  \\\n",
       "last_changed                                                        \n",
       "2017-12-25 07:30:00.472937+00:00                             None   \n",
       "2017-12-25 07:30:00.474791+00:00                             None   \n",
       "2017-12-25 07:30:00.476154+00:00                             None   \n",
       "2017-12-25 07:30:00.477496+00:00                             None   \n",
       "2017-12-25 07:30:00.728927+00:00                             None   \n",
       "\n",
       "entity                           binary_sensor.blink_blink_camera_percy_motion_enabled  \\\n",
       "last_changed                                                                             \n",
       "2017-12-25 07:30:00.472937+00:00                                               None      \n",
       "2017-12-25 07:30:00.474791+00:00                                               None      \n",
       "2017-12-25 07:30:00.476154+00:00                                               None      \n",
       "2017-12-25 07:30:00.477496+00:00                                               None      \n",
       "2017-12-25 07:30:00.728927+00:00                                               None      \n",
       "\n",
       "entity                           binary_sensor.devices_home  \\\n",
       "last_changed                                                  \n",
       "2017-12-25 07:30:00.472937+00:00                       None   \n",
       "2017-12-25 07:30:00.474791+00:00                       None   \n",
       "2017-12-25 07:30:00.476154+00:00                      False   \n",
       "2017-12-25 07:30:00.477496+00:00                       None   \n",
       "2017-12-25 07:30:00.728927+00:00                       None   \n",
       "\n",
       "entity                           binary_sensor.doorbell  \\\n",
       "last_changed                                              \n",
       "2017-12-25 07:30:00.472937+00:00                   None   \n",
       "2017-12-25 07:30:00.474791+00:00                   None   \n",
       "2017-12-25 07:30:00.476154+00:00                   None   \n",
       "2017-12-25 07:30:00.477496+00:00                   None   \n",
       "2017-12-25 07:30:00.728927+00:00                   None   \n",
       "\n",
       "entity                           binary_sensor.elgato_door  \\\n",
       "last_changed                                                 \n",
       "2017-12-25 07:30:00.472937+00:00                      None   \n",
       "2017-12-25 07:30:00.474791+00:00                      None   \n",
       "2017-12-25 07:30:00.476154+00:00                      None   \n",
       "2017-12-25 07:30:00.477496+00:00                      None   \n",
       "2017-12-25 07:30:00.728927+00:00                      None   \n",
       "\n",
       "entity                           binary_sensor.fibaro_leak  \\\n",
       "last_changed                                                 \n",
       "2017-12-25 07:30:00.472937+00:00                      None   \n",
       "2017-12-25 07:30:00.474791+00:00                      None   \n",
       "2017-12-25 07:30:00.476154+00:00                      None   \n",
       "2017-12-25 07:30:00.477496+00:00                      None   \n",
       "2017-12-25 07:30:00.728927+00:00                      None   \n",
       "\n",
       "entity                           binary_sensor.in_bed_bayesian  \\\n",
       "last_changed                                                     \n",
       "2017-12-25 07:30:00.472937+00:00                          None   \n",
       "2017-12-25 07:30:00.474791+00:00                          None   \n",
       "2017-12-25 07:30:00.476154+00:00                          None   \n",
       "2017-12-25 07:30:00.477496+00:00                         False   \n",
       "2017-12-25 07:30:00.728927+00:00                          None   \n",
       "\n",
       "entity                           binary_sensor.late_night_sensor  \\\n",
       "last_changed                                                       \n",
       "2017-12-25 07:30:00.472937+00:00                            None   \n",
       "2017-12-25 07:30:00.474791+00:00                           False   \n",
       "2017-12-25 07:30:00.476154+00:00                            None   \n",
       "2017-12-25 07:30:00.477496+00:00                            None   \n",
       "2017-12-25 07:30:00.728927+00:00                            None   \n",
       "\n",
       "entity                           binary_sensor.living_room_nest_protect_online  \\\n",
       "last_changed                                                                     \n",
       "2017-12-25 07:30:00.472937+00:00                                          None   \n",
       "2017-12-25 07:30:00.474791+00:00                                          None   \n",
       "2017-12-25 07:30:00.476154+00:00                                          None   \n",
       "2017-12-25 07:30:00.477496+00:00                                          None   \n",
       "2017-12-25 07:30:00.728927+00:00                                          None   \n",
       "\n",
       "entity                           binary_sensor.macbook  \\\n",
       "last_changed                                             \n",
       "2017-12-25 07:30:00.472937+00:00                  None   \n",
       "2017-12-25 07:30:00.474791+00:00                  None   \n",
       "2017-12-25 07:30:00.476154+00:00                  None   \n",
       "2017-12-25 07:30:00.477496+00:00                  None   \n",
       "2017-12-25 07:30:00.728927+00:00                  None   \n",
       "\n",
       "entity                           binary_sensor.motion_at_home  \\\n",
       "last_changed                                                    \n",
       "2017-12-25 07:30:00.472937+00:00                        False   \n",
       "2017-12-25 07:30:00.474791+00:00                         None   \n",
       "2017-12-25 07:30:00.476154+00:00                         None   \n",
       "2017-12-25 07:30:00.477496+00:00                         None   \n",
       "2017-12-25 07:30:00.728927+00:00                         None   \n",
       "\n",
       "entity                           binary_sensor.wipy_water_monitor  \\\n",
       "last_changed                                                        \n",
       "2017-12-25 07:30:00.472937+00:00                             None   \n",
       "2017-12-25 07:30:00.474791+00:00                             None   \n",
       "2017-12-25 07:30:00.476154+00:00                             None   \n",
       "2017-12-25 07:30:00.477496+00:00                             None   \n",
       "2017-12-25 07:30:00.728927+00:00                            False   \n",
       "\n",
       "entity                           binary_sensor.workday_sensor  \n",
       "last_changed                                                   \n",
       "2017-12-25 07:30:00.472937+00:00                         None  \n",
       "2017-12-25 07:30:00.474791+00:00                         None  \n",
       "2017-12-25 07:30:00.476154+00:00                         None  \n",
       "2017-12-25 07:30:00.477496+00:00                         None  \n",
       "2017-12-25 07:30:00.728927+00:00                         None  "
      ]
     },
     "execution_count": 41,
     "metadata": {},
     "output_type": "execute_result"
    }
   ],
   "source": [
    "binary_sensors_df.head()"
   ]
  },
  {
   "cell_type": "code",
   "execution_count": 42,
   "metadata": {},
   "outputs": [],
   "source": [
    "binary_sensors_df = binary_sensors_df.fillna(method='ffill')\n",
    "binary_sensors_df = binary_sensors_df.dropna() # drop any remaining nan"
   ]
  },
  {
   "cell_type": "markdown",
   "metadata": {},
   "source": [
    "Lets get only the motion sensor and put in a dataframe"
   ]
  },
  {
   "cell_type": "code",
   "execution_count": 43,
   "metadata": {},
   "outputs": [],
   "source": [
    "motion_df = binary_sensors_df[\"binary_sensor.motion_at_home\"].to_frame() "
   ]
  },
  {
   "cell_type": "code",
   "execution_count": 44,
   "metadata": {},
   "outputs": [],
   "source": [
    "motion_df.index = pd.to_datetime(motion_df.index)"
   ]
  },
  {
   "cell_type": "markdown",
   "metadata": {},
   "source": [
    "#### Create some features\n",
    "Lets get the weekday"
   ]
  },
  {
   "cell_type": "code",
   "execution_count": 45,
   "metadata": {},
   "outputs": [],
   "source": [
    "motion_df['weekday'] = motion_df.index.weekday_name"
   ]
  },
  {
   "cell_type": "code",
   "execution_count": 46,
   "metadata": {},
   "outputs": [],
   "source": [
    "motion_df['time'] = motion_df.index.time"
   ]
  },
  {
   "cell_type": "code",
   "execution_count": 47,
   "metadata": {},
   "outputs": [],
   "source": [
    "motion_df['is_weekday'] = motion_df.index.map(lambda x: is_weekday(x))"
   ]
  },
  {
   "cell_type": "code",
   "execution_count": 48,
   "metadata": {},
   "outputs": [],
   "source": [
    "motion_df = motion_df[motion_df['binary_sensor.motion_at_home'] == True] # Keep only true detection events"
   ]
  },
  {
   "cell_type": "code",
   "execution_count": 49,
   "metadata": {},
   "outputs": [],
   "source": [
    "motion_df['time_category'] = motion_df.index.map(lambda x: time_category(x))"
   ]
  },
  {
   "cell_type": "code",
   "execution_count": 50,
   "metadata": {},
   "outputs": [
    {
     "data": {
      "text/html": [
       "<div>\n",
       "<style scoped>\n",
       "    .dataframe tbody tr th:only-of-type {\n",
       "        vertical-align: middle;\n",
       "    }\n",
       "\n",
       "    .dataframe tbody tr th {\n",
       "        vertical-align: top;\n",
       "    }\n",
       "\n",
       "    .dataframe thead th {\n",
       "        text-align: right;\n",
       "    }\n",
       "</style>\n",
       "<table border=\"1\" class=\"dataframe\">\n",
       "  <thead>\n",
       "    <tr style=\"text-align: right;\">\n",
       "      <th></th>\n",
       "      <th>binary_sensor.motion_at_home</th>\n",
       "      <th>weekday</th>\n",
       "      <th>time</th>\n",
       "      <th>is_weekday</th>\n",
       "      <th>time_category</th>\n",
       "    </tr>\n",
       "    <tr>\n",
       "      <th>last_changed</th>\n",
       "      <th></th>\n",
       "      <th></th>\n",
       "      <th></th>\n",
       "      <th></th>\n",
       "      <th></th>\n",
       "    </tr>\n",
       "  </thead>\n",
       "  <tbody>\n",
       "    <tr>\n",
       "      <th>2017-12-29 08:05:52.867213+00:00</th>\n",
       "      <td>True</td>\n",
       "      <td>Friday</td>\n",
       "      <td>08:05:52.867213</td>\n",
       "      <td>True</td>\n",
       "      <td>morning</td>\n",
       "    </tr>\n",
       "    <tr>\n",
       "      <th>2017-12-29 08:06:11.862516+00:00</th>\n",
       "      <td>True</td>\n",
       "      <td>Friday</td>\n",
       "      <td>08:06:11.862516</td>\n",
       "      <td>True</td>\n",
       "      <td>morning</td>\n",
       "    </tr>\n",
       "    <tr>\n",
       "      <th>2017-12-29 08:07:09.870728+00:00</th>\n",
       "      <td>True</td>\n",
       "      <td>Friday</td>\n",
       "      <td>08:07:09.870728</td>\n",
       "      <td>True</td>\n",
       "      <td>morning</td>\n",
       "    </tr>\n",
       "    <tr>\n",
       "      <th>2017-12-29 08:12:12.865352+00:00</th>\n",
       "      <td>True</td>\n",
       "      <td>Friday</td>\n",
       "      <td>08:12:12.865352</td>\n",
       "      <td>True</td>\n",
       "      <td>morning</td>\n",
       "    </tr>\n",
       "    <tr>\n",
       "      <th>2017-12-29 08:17:49.864774+00:00</th>\n",
       "      <td>True</td>\n",
       "      <td>Friday</td>\n",
       "      <td>08:17:49.864774</td>\n",
       "      <td>True</td>\n",
       "      <td>morning</td>\n",
       "    </tr>\n",
       "  </tbody>\n",
       "</table>\n",
       "</div>"
      ],
      "text/plain": [
       "                                  binary_sensor.motion_at_home weekday  \\\n",
       "last_changed                                                             \n",
       "2017-12-29 08:05:52.867213+00:00                          True  Friday   \n",
       "2017-12-29 08:06:11.862516+00:00                          True  Friday   \n",
       "2017-12-29 08:07:09.870728+00:00                          True  Friday   \n",
       "2017-12-29 08:12:12.865352+00:00                          True  Friday   \n",
       "2017-12-29 08:17:49.864774+00:00                          True  Friday   \n",
       "\n",
       "                                             time is_weekday time_category  \n",
       "last_changed                                                                \n",
       "2017-12-29 08:05:52.867213+00:00  08:05:52.867213       True       morning  \n",
       "2017-12-29 08:06:11.862516+00:00  08:06:11.862516       True       morning  \n",
       "2017-12-29 08:07:09.870728+00:00  08:07:09.870728       True       morning  \n",
       "2017-12-29 08:12:12.865352+00:00  08:12:12.865352       True       morning  \n",
       "2017-12-29 08:17:49.864774+00:00  08:17:49.864774       True       morning  "
      ]
     },
     "execution_count": 50,
     "metadata": {},
     "output_type": "execute_result"
    }
   ],
   "source": [
    "motion_df.head()"
   ]
  },
  {
   "cell_type": "markdown",
   "metadata": {},
   "source": [
    "#### Analysis of motion data\n",
    "Try a facet grid to represent data https://seaborn.pydata.org/generated/seaborn.FacetGrid.html?highlight=facet#seaborn.FacetGrid\n",
    "Lets see if there is more motion at home on weekends."
   ]
  },
  {
   "cell_type": "code",
   "execution_count": 51,
   "metadata": {},
   "outputs": [
    {
     "data": {
      "text/plain": [
       "is_weekday\n",
       "False    1437\n",
       "True     3787\n",
       "Name: count, dtype: object"
      ]
     },
     "execution_count": 51,
     "metadata": {},
     "output_type": "execute_result"
    }
   ],
   "source": [
    "motion_df['binary_sensor.motion_at_home'].groupby(motion_df['is_weekday']).describe()['count']"
   ]
  },
  {
   "cell_type": "markdown",
   "metadata": {},
   "source": [
    "OK, so there is more activity at home on weekdays, but there are also 5 days in the working week and 2 in the weekend.\n",
    "\n",
    "Now, how about activity by weekday."
   ]
  },
  {
   "cell_type": "markdown",
   "metadata": {},
   "source": [
    "And activity by weekday and time category."
   ]
  },
  {
   "cell_type": "code",
   "execution_count": 52,
   "metadata": {},
   "outputs": [
    {
     "data": {
      "text/html": [
       "<div>\n",
       "<style scoped>\n",
       "    .dataframe tbody tr th:only-of-type {\n",
       "        vertical-align: middle;\n",
       "    }\n",
       "\n",
       "    .dataframe tbody tr th {\n",
       "        vertical-align: top;\n",
       "    }\n",
       "\n",
       "    .dataframe thead th {\n",
       "        text-align: right;\n",
       "    }\n",
       "</style>\n",
       "<table border=\"1\" class=\"dataframe\">\n",
       "  <thead>\n",
       "    <tr style=\"text-align: right;\">\n",
       "      <th>weekday</th>\n",
       "      <th>Friday</th>\n",
       "      <th>Monday</th>\n",
       "      <th>Saturday</th>\n",
       "      <th>Sunday</th>\n",
       "      <th>Thursday</th>\n",
       "      <th>Tuesday</th>\n",
       "      <th>Wednesday</th>\n",
       "    </tr>\n",
       "    <tr>\n",
       "      <th>time_category</th>\n",
       "      <th></th>\n",
       "      <th></th>\n",
       "      <th></th>\n",
       "      <th></th>\n",
       "      <th></th>\n",
       "      <th></th>\n",
       "      <th></th>\n",
       "    </tr>\n",
       "  </thead>\n",
       "  <tbody>\n",
       "    <tr>\n",
       "      <th>daytime</th>\n",
       "      <td>445</td>\n",
       "      <td>131</td>\n",
       "      <td>358</td>\n",
       "      <td>461</td>\n",
       "      <td>97</td>\n",
       "      <td>399</td>\n",
       "      <td>40</td>\n",
       "    </tr>\n",
       "    <tr>\n",
       "      <th>evening</th>\n",
       "      <td>222</td>\n",
       "      <td>278</td>\n",
       "      <td>61</td>\n",
       "      <td>155</td>\n",
       "      <td>271</td>\n",
       "      <td>229</td>\n",
       "      <td>349</td>\n",
       "    </tr>\n",
       "    <tr>\n",
       "      <th>morning</th>\n",
       "      <td>222</td>\n",
       "      <td>206</td>\n",
       "      <td>177</td>\n",
       "      <td>187</td>\n",
       "      <td>246</td>\n",
       "      <td>279</td>\n",
       "      <td>264</td>\n",
       "    </tr>\n",
       "    <tr>\n",
       "      <th>night</th>\n",
       "      <td>26</td>\n",
       "      <td>12</td>\n",
       "      <td>19</td>\n",
       "      <td>19</td>\n",
       "      <td>16</td>\n",
       "      <td>44</td>\n",
       "      <td>11</td>\n",
       "    </tr>\n",
       "  </tbody>\n",
       "</table>\n",
       "</div>"
      ],
      "text/plain": [
       "weekday        Friday  Monday  Saturday  Sunday  Thursday  Tuesday  Wednesday\n",
       "time_category                                                                \n",
       "daytime           445     131       358     461        97      399         40\n",
       "evening           222     278        61     155       271      229        349\n",
       "morning           222     206       177     187       246      279        264\n",
       "night              26      12        19      19        16       44         11"
      ]
     },
     "execution_count": 52,
     "metadata": {},
     "output_type": "execute_result"
    }
   ],
   "source": [
    "motion_df_gb = motion_df['binary_sensor.motion_at_home'].groupby([motion_df['weekday'], motion_df['time_category']]).sum().unstack()\n",
    "motion_df_gb.fillna(value=0, inplace=True)   # Replace NaN with 0\n",
    "motion_df_gb = motion_df_gb.astype('int')              # Ints rather than floats\n",
    "motion_df_gb = motion_df_gb.T\n",
    "motion_df_gb"
   ]
  },
  {
   "cell_type": "code",
   "execution_count": 53,
   "metadata": {},
   "outputs": [
    {
     "data": {
      "image/png": "[encoded data removed]",
      "text/plain": [
       "<matplotlib.figure.Figure at 0x11a9702b0>"
      ]
     },
     "metadata": {},
     "output_type": "display_data"
    }
   ],
   "source": [
    "fig, ax = plt.subplots(figsize=(8, 6))\n",
    "days_list = ['Monday', 'Tuesday', 'Wednesday', 'Thursday', 'Friday', 'Saturday', 'Sunday']\n",
    "times_list = ['morning', 'daytime', 'evening', 'night']\n",
    "ax = sns.heatmap(motion_df_gb[days_list].loc[times_list], annot=True, linewidths=.5, fmt=\"d\", ax=ax, cmap='Reds');\n",
    "ax.set_title('Activity at home by day and time category')\n",
    "fig.savefig('heatmap.jpg')"
   ]
  },
  {
   "cell_type": "markdown",
   "metadata": {},
   "source": [
    "## Bayesian sensor"
   ]
  },
  {
   "cell_type": "code",
   "execution_count": 54,
   "metadata": {},
   "outputs": [
    {
     "data": {
      "text/html": [
       "<div>\n",
       "<style scoped>\n",
       "    .dataframe tbody tr th:only-of-type {\n",
       "        vertical-align: middle;\n",
       "    }\n",
       "\n",
       "    .dataframe tbody tr th {\n",
       "        vertical-align: top;\n",
       "    }\n",
       "\n",
       "    .dataframe thead th {\n",
       "        text-align: right;\n",
       "    }\n",
       "</style>\n",
       "<table border=\"1\" class=\"dataframe\">\n",
       "  <thead>\n",
       "    <tr style=\"text-align: right;\">\n",
       "      <th></th>\n",
       "      <th></th>\n",
       "      <th></th>\n",
       "      <th></th>\n",
       "      <th>state</th>\n",
       "    </tr>\n",
       "    <tr>\n",
       "      <th>domain</th>\n",
       "      <th>entity</th>\n",
       "      <th>numerical</th>\n",
       "      <th>last_changed</th>\n",
       "      <th></th>\n",
       "    </tr>\n",
       "  </thead>\n",
       "  <tbody>\n",
       "    <tr>\n",
       "      <th rowspan=\"5\" valign=\"top\">binary_sensor</th>\n",
       "      <th rowspan=\"5\" valign=\"top\">binary_sensor.in_bed_bayesian</th>\n",
       "      <th rowspan=\"5\" valign=\"top\">False</th>\n",
       "      <th>2017-12-25 07:30:00.477496+00:00</th>\n",
       "      <td>off</td>\n",
       "    </tr>\n",
       "    <tr>\n",
       "      <th>2017-12-25 07:30:00.477496+00:00</th>\n",
       "      <td>off</td>\n",
       "    </tr>\n",
       "    <tr>\n",
       "      <th>2017-12-25 07:30:00.477496+00:00</th>\n",
       "      <td>off</td>\n",
       "    </tr>\n",
       "    <tr>\n",
       "      <th>2017-12-25 07:30:00.477496+00:00</th>\n",
       "      <td>off</td>\n",
       "    </tr>\n",
       "    <tr>\n",
       "      <th>2017-12-25 07:30:00.477496+00:00</th>\n",
       "      <td>off</td>\n",
       "    </tr>\n",
       "  </tbody>\n",
       "</table>\n",
       "</div>"
      ],
      "text/plain": [
       "                                                                                       state\n",
       "domain        entity                        numerical last_changed                          \n",
       "binary_sensor binary_sensor.in_bed_bayesian False     2017-12-25 07:30:00.477496+00:00   off\n",
       "                                                      2017-12-25 07:30:00.477496+00:00   off\n",
       "                                                      2017-12-25 07:30:00.477496+00:00   off\n",
       "                                                      2017-12-25 07:30:00.477496+00:00   off\n",
       "                                                      2017-12-25 07:30:00.477496+00:00   off"
      ]
     },
     "execution_count": 54,
     "metadata": {},
     "output_type": "execute_result"
    }
   ],
   "source": [
    "query = 'entity == \"binary_sensor.in_bed_bayesian\"'\n",
    "in_bed_bayes_df = df.query(query)\n",
    "in_bed_bayes_df.head()"
   ]
  },
  {
   "cell_type": "code",
   "execution_count": 55,
   "metadata": {},
   "outputs": [
    {
     "data": {
      "text/plain": [
       "array(['off', 'on'], dtype=object)"
      ]
     },
     "execution_count": 55,
     "metadata": {},
     "output_type": "execute_result"
    }
   ],
   "source": [
    "in_bed_bayes_df['state'].unique()"
   ]
  },
  {
   "cell_type": "markdown",
   "metadata": {},
   "source": [
    "Hmm where are my on.."
   ]
  },
  {
   "cell_type": "code",
   "execution_count": 56,
   "metadata": {},
   "outputs": [],
   "source": [
    "in_bed_bayes_df.index = in_bed_bayes_df.index.get_level_values('last_changed')  # Keep only last_changed level"
   ]
  },
  {
   "cell_type": "code",
   "execution_count": 57,
   "metadata": {},
   "outputs": [],
   "source": [
    "in_bed_bayes_df.index = pd.to_datetime(in_bed_bayes_df.index)  # Convert to datetime"
   ]
  },
  {
   "cell_type": "code",
   "execution_count": 58,
   "metadata": {},
   "outputs": [
    {
     "data": {
      "text/plain": [
       "[<matplotlib.lines.Line2D at 0x11e2afeb8>]"
      ]
     },
     "execution_count": 58,
     "metadata": {},
     "output_type": "execute_result"
    },
    {
     "data": {
      "image/png": "[encoded data removed]",
      "text/plain": [
       "<matplotlib.figure.Figure at 0x11a644588>"
      ]
     },
     "metadata": {},
     "output_type": "display_data"
    }
   ],
   "source": [
    "f, ax = plt.subplots(figsize=(16, 6))\n",
    "ax.step(in_bed_bayes_df, 'bo', where='post')"
   ]
  },
  {
   "cell_type": "code",
   "execution_count": 59,
   "metadata": {},
   "outputs": [
    {
     "data": {
      "text/plain": [
       "Text(0,0.5,'In bed status')"
      ]
     },
     "execution_count": 59,
     "metadata": {},
     "output_type": "execute_result"
    },
    {
     "data": {
      "image/png": "[encoded data removed]",
      "text/plain": [
       "<matplotlib.figure.Figure at 0x11e2e2908>"
      ]
     },
     "metadata": {},
     "output_type": "display_data"
    }
   ],
   "source": [
    "now = dt.datetime.now()\n",
    "hours_to_plot = 240\n",
    "\n",
    "f, ax = plt.subplots(figsize=(16, 6))\n",
    "ax.step(in_bed_bayes_df, 'bo', where='post')\n",
    "xfmt = md.DateFormatter('%d %H:%M:%S') # %m-\n",
    "ax.xaxis.set_major_formatter(xfmt)\n",
    "ax.set_xlim(now-dt.timedelta(hours=hours_to_plot), now)\n",
    "ax.set_ylabel('In bed status', color='b')"
   ]
  },
  {
   "cell_type": "code",
   "execution_count": null,
   "metadata": {},
   "outputs": [],
   "source": []
  }
 ],
 "metadata": {
  "kernelspec": {
   "display_name": "Python 3",
   "language": "python",
   "name": "python3"
  },
  "language_info": {
   "codemirror_mode": {
    "name": "ipython",
    "version": 3
   },
   "file_extension": ".py",
   "mimetype": "text/x-python",
   "name": "python",
   "nbconvert_exporter": "python",
   "pygments_lexer": "ipython3",
   "version": "3.6.3"
  }
 },
 "nbformat": 4,
 "nbformat_minor": 2
}
